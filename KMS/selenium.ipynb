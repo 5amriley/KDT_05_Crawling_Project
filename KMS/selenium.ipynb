{
 "cells": [
  {
   "cell_type": "markdown",
   "source": [
    "## 사용할 모듈 미리 로딩"
   ],
   "metadata": {
    "collapsed": false
   },
   "id": "2b7f2e244a0f9720"
  },
  {
   "cell_type": "code",
   "execution_count": 30,
   "id": "ff2517772120d0c9",
   "metadata": {
    "collapsed": false,
    "ExecuteTime": {
     "end_time": "2024-02-14T08:53:07.486800300Z",
     "start_time": "2024-02-14T08:53:07.482294200Z"
    }
   },
   "outputs": [],
   "source": [
    "import pandas as pd\n",
    "import requests\n",
    "import matplotlib.pyplot as plt\n",
    "import matplotlib as mpl\n",
    "import seaborn as sns\n",
    "from bs4 import BeautifulSoup\n",
    "from konlpy.tag import Okt\n",
    "from collections import Counter\n",
    "from wordcloud import WordCloud\n",
    "from selenium import webdriver\n",
    "import time\n",
    "import platform\n",
    "import numpy as np\n",
    "import random\n",
    "import os\n",
    "import shutil\n",
    "from PIL import Image\n",
    "import collections\n",
    "if not hasattr(collections, 'Callable'):\n",
    "    collections.Callable = collections.abc.Callable\n",
    "\n",
    "\n",
    "from sqlalchemy.sql import text as Text\n",
    "from sqlalchemy import create_engine\n",
    "from sqlalchemy import engine"
   ]
  },
  {
   "cell_type": "code",
   "outputs": [
    {
     "ename": "TypeError",
     "evalue": "ArgOptions.add_argument() takes 2 positional arguments but 3 were given",
     "output_type": "error",
     "traceback": [
      "\u001B[1;31m---------------------------------------------------------------------------\u001B[0m",
      "\u001B[1;31mTypeError\u001B[0m                                 Traceback (most recent call last)",
      "Cell \u001B[1;32mIn[42], line 6\u001B[0m\n\u001B[0;32m      4\u001B[0m options\u001B[38;5;241m.\u001B[39madd_experimental_option(\u001B[38;5;124m\"\u001B[39m\u001B[38;5;124museAutomationExtension\u001B[39m\u001B[38;5;124m\"\u001B[39m, \u001B[38;5;28;01mFalse\u001B[39;00m)\n\u001B[0;32m      5\u001B[0m options\u001B[38;5;241m.\u001B[39madd_argument(\u001B[38;5;124mr\u001B[39m\u001B[38;5;124m'\u001B[39m\u001B[38;5;124muser-data-dir=F:\u001B[39m\u001B[38;5;124m\\\u001B[39m\u001B[38;5;124mProfile 1\u001B[39m\u001B[38;5;124m'\u001B[39m)\n\u001B[1;32m----> 6\u001B[0m \u001B[43moptions\u001B[49m\u001B[38;5;241;43m.\u001B[39;49m\u001B[43madd_argument\u001B[49m\u001B[43m(\u001B[49m\u001B[38;5;124;43m\"\u001B[39;49m\u001B[38;5;124;43mjavascript.enabled\u001B[39;49m\u001B[38;5;124;43m\"\u001B[39;49m\u001B[43m,\u001B[49m\u001B[43m \u001B[49m\u001B[38;5;28;43;01mFalse\u001B[39;49;00m\u001B[43m)\u001B[49m\n",
      "\u001B[1;31mTypeError\u001B[0m: ArgOptions.add_argument() takes 2 positional arguments but 3 were given"
     ]
    }
   ],
   "source": [
    "options = webdriver.EdgeOptions()\n",
    "options.add_argument(\"--disable-blink-features=AutomationControlled\")\n",
    "options.add_experimental_option(\"excludeSwitches\", [\"enable-automation\"])\n",
    "options.add_experimental_option(\"useAutomationExtension\", False)\n",
    "options.add_argument(r'user-data-dir=F:\\Profile 1')\n",
    "# options.add_argument(\"--disable-javascript\")"
   ],
   "metadata": {
    "collapsed": false,
    "ExecuteTime": {
     "end_time": "2024-02-14T08:58:24.063817200Z",
     "start_time": "2024-02-14T08:58:24.044711600Z"
    }
   },
   "id": "cb4e5cdaf29f2d57",
   "execution_count": 42
  },
  {
   "cell_type": "code",
   "outputs": [],
   "source": [
    "\n",
    "header = {\n",
    "    'User-Agent': 'Mozilla/5.0 (Windows NT 10.0; Win64; x64) AppleWebKit/537.36 (KHTML, like Gecko) Chrome/91.0.4472.124 Safari/537.36'\n",
    "}\n",
    "\n",
    "sqlinfo = engine.URL.create(\n",
    "    drivername='mysql+pymysql',\n",
    "    username='kdt5',\n",
    "    password='q1@q1@q1@',\n",
    "    database='webcrawling',\n",
    "    query={'charset': 'utf8mb4'},\n",
    "    host=\"kdt5.mysql.database.azure.com\",\n",
    ")\n",
    "\n",
    "conn = create_engine(sqlinfo, connect_args={'ssl': {\"fake_flag_to_enable_tls\": True}})\n",
    "# cur 사용시 Text 로 쿼리문을 묶어 사용\n",
    "# cur = conn.connect()\n",
    "# result = cur.execute(Text('select * from editors'))\n",
    "# for row in result.fetchall():\n",
    "#     print(row)"
   ],
   "metadata": {
    "collapsed": false,
    "ExecuteTime": {
     "end_time": "2024-02-14T08:53:09.647918700Z",
     "start_time": "2024-02-14T08:53:09.643101700Z"
    }
   },
   "id": "99dc0ef5a63cae6e",
   "execution_count": 32
  },
  {
   "cell_type": "code",
   "outputs": [],
   "source": [
    "urllist = pd.read_sql('select * from companylist', conn)"
   ],
   "metadata": {
    "collapsed": false,
    "ExecuteTime": {
     "end_time": "2024-02-14T09:06:26.438008900Z",
     "start_time": "2024-02-14T09:06:26.391384600Z"
    }
   },
   "id": "613b5f9eeeeefc1b",
   "execution_count": 44
  },
  {
   "cell_type": "code",
   "outputs": [
    {
     "data": {
      "text/plain": "['/companies/318620',\n '/companies/86783',\n '/companies/402401',\n '/companies/89394',\n '/companies/331640',\n '/companies/346224',\n '/companies/323579',\n '/companies/367010',\n '/companies/59159',\n '/companies/411990',\n '/companies/333400',\n '/companies/312220',\n '/companies/90944',\n '/companies/379217',\n '/companies/313882',\n '/companies/87444',\n '/companies/70379',\n '/companies/52294',\n '/companies/395821',\n '/companies/401774',\n '/companies/355944',\n '/companies/344658',\n '/companies/382109',\n '/companies/315009',\n '/companies/78061',\n '/companies/351150',\n '/companies/345837',\n '/companies/390265',\n '/companies/326954',\n '/companies/388863',\n '/companies/381226',\n '/companies/398284',\n '/companies/83474',\n '/companies/76620',\n '/companies/51032',\n '/companies/141319',\n '/companies/392120',\n '/companies/328116',\n '/companies/350182',\n '/companies/390649',\n '/companies/396906',\n '/companies/325470',\n '/companies/87444',\n '/companies/405330',\n '/companies/87444',\n '/companies/53190',\n '/companies/390135',\n '/companies/315641',\n '/companies/404373',\n '/companies/61210',\n '/companies/371446',\n '/companies/70599',\n '/companies/71815',\n '/companies/346534',\n '/companies/313528',\n '/companies/348086',\n '/companies/192210',\n '/companies/363462',\n '/companies/192210',\n '/companies/390237',\n '/companies/369458',\n '/companies/92409',\n '/companies/61210',\n '/companies/356306',\n '/companies/369751',\n '/companies/110576',\n '/companies/90944',\n '/companies/83517',\n '/companies/316175',\n '/companies/400754',\n '/companies/383477',\n '/companies/374362',\n '/companies/385700',\n '/companies/405278',\n '/companies/352679',\n '/companies/83517',\n '/companies/91095',\n '/companies/364609',\n '/companies/409884',\n '/companies/355267']"
     },
     "execution_count": 52,
     "metadata": {},
     "output_type": "execute_result"
    }
   ],
   "source": [],
   "metadata": {
    "collapsed": false,
    "ExecuteTime": {
     "end_time": "2024-02-14T09:11:25.193666700Z",
     "start_time": "2024-02-14T09:11:25.180522100Z"
    }
   },
   "id": "83e7acb3ce4de999",
   "execution_count": 52
  },
  {
   "cell_type": "code",
   "outputs": [],
   "source": [
    "\n",
    "driver = webdriver.Edge(options=options)"
   ],
   "metadata": {
    "collapsed": false,
    "ExecuteTime": {
     "end_time": "2024-02-14T09:10:05.978111600Z",
     "start_time": "2024-02-14T09:10:04.124692600Z"
    }
   },
   "id": "267931a7fc05af69",
   "execution_count": 47
  },
  {
   "cell_type": "code",
   "outputs": [],
   "source": [
    "driver.get('https://www.google.com')"
   ],
   "metadata": {
    "collapsed": false,
    "ExecuteTime": {
     "end_time": "2024-02-14T08:53:35.681840500Z",
     "start_time": "2024-02-14T08:53:32.109741200Z"
    }
   },
   "id": "43cd35ddcb6a1397",
   "execution_count": 36
  },
  {
   "cell_type": "code",
   "outputs": [],
   "source": [
    "urls = urllist['company.url'].tolist()"
   ],
   "metadata": {
    "collapsed": false,
    "ExecuteTime": {
     "end_time": "2024-02-14T09:12:02.528685400Z",
     "start_time": "2024-02-14T09:12:02.520087600Z"
    }
   },
   "id": "932eb35567dc495c",
   "execution_count": 54
  },
  {
   "cell_type": "code",
   "outputs": [],
   "source": [
    "baseurl = 'https://www.jobplanet.co.kr{}/reviews'\n",
    "\n",
    "result = []\n",
    "for x in urls:\n",
    "    driver.get(baseurl.format(x))\n",
    "    driver.implicitly_wait(5)\n",
    "    result.append(driver.page_source)\n",
    "    # time.sleep(10)\n"
   ],
   "metadata": {
    "collapsed": false,
    "ExecuteTime": {
     "end_time": "2024-02-14T09:14:30.564278600Z",
     "start_time": "2024-02-14T09:12:46.566076900Z"
    }
   },
   "id": "b81574947bb721ba",
   "execution_count": 56
  },
  {
   "cell_type": "code",
   "outputs": [],
   "source": [
    "import pickle\n",
    "\n",
    "with open('reviews.pkl', 'wb') as f:\n",
    "    pickle.dump(result,f)"
   ],
   "metadata": {
    "collapsed": false,
    "ExecuteTime": {
     "end_time": "2024-02-14T09:15:05.360649300Z",
     "start_time": "2024-02-14T09:15:05.327120800Z"
    }
   },
   "id": "3a0686b46f512033",
   "execution_count": 57
  },
  {
   "cell_type": "code",
   "outputs": [],
   "source": [
    "result_last = []\n",
    "for x in result:\n",
    "    soup = BeautifulSoup(x,'lxml')\n",
    "    suburl = soup.select_one('a.btn_pglast')\n",
    "    if suburl:\n",
    "        suburl = suburl.attrs['href']\n",
    "        result_last.append((suburl.split('=')[0], int(suburl.split('=')[-1])))\n",
    "    \n"
   ],
   "metadata": {
    "collapsed": false,
    "ExecuteTime": {
     "end_time": "2024-02-14T09:39:14.967031800Z",
     "start_time": "2024-02-14T09:39:11.515291400Z"
    }
   },
   "id": "f72e3e1b86bb5090",
   "execution_count": 62
  },
  {
   "cell_type": "code",
   "outputs": [],
   "source": [
    "BASEURL = 'https://www.jobplanet.co.kr'\n",
    "result_complete = {\n",
    "\n",
    "}\n",
    "# for url, pages in result_last:\n",
    "#     for page in range(1, pages + 1):\n",
    "#         driver.get(BASEURL + url + f\"={page}\")\n",
    "#         driver.implicitly_wait(5)\n",
    "#         pagesource = driver.page_source\n",
    "#         tmpsoup = BeautifulSoup(pagesource, 'lxml')\n",
    "#         if page == 1:\n",
    "#             result_complete[tmpsoup.select_one('title').get_text()] = list()\n",
    "#         result_complete[tmpsoup.select_one('title').get_text()].append(pagesource)\n",
    "#         if page > 50:\n",
    "#             break\n",
    "        \n",
    "        "
   ],
   "metadata": {
    "collapsed": false,
    "ExecuteTime": {
     "end_time": "2024-02-14T10:13:22.758743100Z",
     "start_time": "2024-02-14T09:45:53.977109700Z"
    }
   },
   "id": "231cd5fc5d95fcba",
   "execution_count": 64
  },
  {
   "cell_type": "code",
   "outputs": [],
   "source": [
    "with open('fullresult.pkl', 'wb') as f:\n",
    "    pickle.dump(result_complete, f)"
   ],
   "metadata": {
    "collapsed": false,
    "ExecuteTime": {
     "end_time": "2024-02-14T10:16:29.331664800Z",
     "start_time": "2024-02-14T10:16:28.772383400Z"
    }
   },
   "id": "9d1b39454bfd6859",
   "execution_count": 65
  },
  {
   "cell_type": "code",
   "outputs": [],
   "source": [
    "\n",
    "driver.quit()"
   ],
   "metadata": {
    "collapsed": false,
    "ExecuteTime": {
     "end_time": "2024-02-14T10:22:05.910726800Z",
     "start_time": "2024-02-14T10:22:03.576770900Z"
    }
   },
   "id": "33c52462210306a6",
   "execution_count": 66
  },
  {
   "cell_type": "code",
   "outputs": [],
   "source": [
    "names = list(result_complete.keys())\n",
    "\n",
    "with open('testwebpage.html', 'w', encoding='utf-8') as f:\n",
    "    f.write(result_complete[names[0]][0])\n",
    "    "
   ],
   "metadata": {
    "collapsed": false,
    "ExecuteTime": {
     "end_time": "2024-02-14T10:37:26.176108100Z",
     "start_time": "2024-02-14T10:37:26.166390400Z"
    }
   },
   "id": "c97b5bb02dff1876",
   "execution_count": 70
  }
 ],
 "metadata": {
  "kernelspec": {
   "display_name": "Python 3",
   "language": "python",
   "name": "python3"
  },
  "language_info": {
   "codemirror_mode": {
    "name": "ipython",
    "version": 2
   },
   "file_extension": ".py",
   "mimetype": "text/x-python",
   "name": "python",
   "nbconvert_exporter": "python",
   "pygments_lexer": "ipython2",
   "version": "2.7.6"
  }
 },
 "nbformat": 4,
 "nbformat_minor": 5
}
