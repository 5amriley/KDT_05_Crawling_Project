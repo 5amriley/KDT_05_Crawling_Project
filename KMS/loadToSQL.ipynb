{
 "cells": [
  {
   "cell_type": "code",
   "execution_count": 80,
   "id": "initial_id",
   "metadata": {
    "collapsed": true,
    "ExecuteTime": {
     "end_time": "2024-02-14T07:58:58.418628100Z",
     "start_time": "2024-02-14T07:58:58.413634800Z"
    }
   },
   "outputs": [],
   "source": [
    "import pandas as pd\n",
    "import requests\n",
    "import matplotlib.pyplot as plt\n",
    "import matplotlib as mpl\n",
    "import seaborn as sns\n",
    "from bs4 import BeautifulSoup\n",
    "from konlpy.tag import Okt\n",
    "from collections import Counter\n",
    "from wordcloud import WordCloud\n",
    "import time\n",
    "import platform\n",
    "import numpy as np\n",
    "import random\n",
    "import os\n",
    "import shutil\n",
    "from PIL import Image\n",
    "import collections\n",
    "if not hasattr(collections, 'Callable'):\n",
    "    collections.Callable = collections.abc.Callable\n",
    "\n",
    "\n",
    "from sqlalchemy.sql import text as Text\n",
    "from sqlalchemy import create_engine\n",
    "from sqlalchemy import engine"
   ]
  },
  {
   "cell_type": "code",
   "outputs": [],
   "source": [
    "\n",
    "header = {\n",
    "    'User-Agent': 'Mozilla/5.0 (Windows NT 10.0; Win64; x64) AppleWebKit/537.36 (KHTML, like Gecko) Chrome/91.0.4472.124 Safari/537.36'\n",
    "}\n",
    "\n",
    "sqlinfo = engine.URL.create(\n",
    "    drivername='mysql+pymysql',\n",
    "    username='kdt5',\n",
    "    password='q1@q1@q1@',\n",
    "    database='webcrawling',\n",
    "    query={'charset': 'utf8mb4'},\n",
    "    host=\"kdt5.mysql.database.azure.com\",\n",
    ")\n",
    "\n",
    "conn = create_engine(sqlinfo, connect_args={'ssl': {\"fake_flag_to_enable_tls\": True}})\n",
    "# cur 사용시 Text 로 쿼리문을 묶어 사용\n",
    "# cur = conn.connect()\n",
    "# result = cur.execute(Text('select * from editors'))\n",
    "# for row in result.fetchall():\n",
    "#     print(row)"
   ],
   "metadata": {
    "collapsed": false,
    "ExecuteTime": {
     "end_time": "2024-02-14T07:58:58.794138300Z",
     "start_time": "2024-02-14T07:58:58.790424900Z"
    }
   },
   "id": "8d1db5a4f08f3299",
   "execution_count": 81
  },
  {
   "cell_type": "code",
   "outputs": [],
   "source": [
    "excelfile = 'stockmarket.xlsx'\n",
    "\n",
    "df = pd.read_excel(excelfile, sheet_name=0, dtype='object')\n",
    "df.drop(columns=['결산월'], inplace=True)\n",
    "df['상장일'] = df['상장일'].astype('datetime64[ns]')\n",
    "df['지역'] = df['지역'].astype('category')\n",
    "\n"
   ],
   "metadata": {
    "collapsed": false,
    "ExecuteTime": {
     "end_time": "2024-02-14T07:49:01.467561900Z",
     "start_time": "2024-02-14T07:49:00.777458600Z"
    }
   },
   "id": "992d8431eb4129ca",
   "execution_count": 71
  },
  {
   "cell_type": "code",
   "outputs": [
    {
     "name": "stderr",
     "output_type": "stream",
     "text": [
      "C:\\Users\\Administrator\\AppData\\Local\\Temp\\ipykernel_15568\\4091631785.py:1: UserWarning: The provided table name 'stockCompanyList' is not found exactly as such in the database after writing the table, possibly due to case sensitivity issues. Consider using lower case table names.\n",
      "  df[df['회사명'].str.find('스팩') < 0].to_sql(\"stockCompanyList\", conn, if_exists='replace', index=False)\n"
     ]
    },
    {
     "data": {
      "text/plain": "2593"
     },
     "execution_count": 29,
     "metadata": {},
     "output_type": "execute_result"
    }
   ],
   "source": [
    "df[df['회사명'].str.find('스팩') < 0].to_sql(\"stockCompanyList\", conn, if_exists='replace', index=False)\n"
   ],
   "metadata": {
    "collapsed": false,
    "ExecuteTime": {
     "end_time": "2024-02-14T06:44:23.897262800Z",
     "start_time": "2024-02-14T06:44:23.220742400Z"
    }
   },
   "id": "ab02439d424743b1",
   "execution_count": 29
  },
  {
   "cell_type": "code",
   "outputs": [
    {
     "data": {
      "text/plain": "          id      score  sponsored jd.job_type.name  jd.job_type.id  \\\n0    1263151  18.193499      False              정규직               3   \n1    1266158  17.568310      False              정규직               3   \n2    1265009  17.412100      False              정규직               3   \n3    1265417  16.582916      False              정규직               3   \n4    1262056  15.171893      False              정규직               3   \n..       ...        ...        ...              ...             ...   \n123  1253231   7.525618      False              정규직               3   \n124  1253230   7.525618      False              정규직               3   \n125  1257905   7.041679      False              정규직               3   \n126  1253355   6.190506      False              정규직               3   \n127  1252109   5.139365      False              정규직               3   \n\n                  jd.end_at_factor                      jd.end_at  \\\n0    2024-04-01T23:59:00.000+09:00  2024-04-01T23:59:00.000+09:00   \n1    2024-05-05T23:59:00.000+09:00  2024-05-05T23:59:00.000+09:00   \n2    2024-04-21T23:59:00.000+09:00  2024-04-21T23:59:00.000+09:00   \n3    2024-04-24T23:59:00.000+09:00  2024-04-24T23:59:00.000+09:00   \n4    2024-03-07T23:59:00.000+09:00  2024-03-07T23:59:00.000+09:00   \n..                             ...                            ...   \n123  2024-04-29T23:59:59.000+09:00  2024-04-29T23:59:59.000+09:00   \n124  2024-04-29T23:59:59.000+09:00  2024-04-29T23:59:59.000+09:00   \n125  2024-04-10T23:59:59.000+09:00  2024-04-10T23:59:59.000+09:00   \n126  2024-04-30T23:59:59.000+09:00  2024-04-30T23:59:59.000+09:00   \n127  2024-04-11T23:59:59.000+09:00  2024-04-11T23:59:59.000+09:00   \n\n                                 jd.level2_occupations  \\\n0                [{'name': '데이터 사이언티스트', 'id': 11914}]   \n1                [{'name': '데이터 사이언티스트', 'id': 11914}]   \n2    [{'name': 'BI 엔지니어', 'id': 11917}, {'name': '데...   \n3    [{'name': '데이터 사이언티스트', 'id': 11914}, {'name':...   \n4    [{'name': '데이터 분석가', 'id': 11613}, {'name': '데...   \n..                                                 ...   \n123               [{'name': '머신러닝 엔지니어', 'id': 11915}]   \n124               [{'name': '머신러닝 엔지니어', 'id': 11915}]   \n125               [{'name': '머신러닝 엔지니어', 'id': 11915}]   \n126                [{'name': '데이터 엔지니어', 'id': 11913}]   \n127                 [{'name': '데이터 분석가', 'id': 11613}]   \n\n                      jd.cities  jd.use_jobplanet_resume  ...  \\\n0     [{'name': '서울', 'id': 1}]                     True  ...   \n1     [{'name': '서울', 'id': 1}]                     True  ...   \n2     [{'name': '경기', 'id': 2}]                     True  ...   \n3     [{'name': '서울', 'id': 1}]                     True  ...   \n4     [{'name': '서울', 'id': 1}]                     True  ...   \n..                          ...                      ...  ...   \n123   [{'name': '서울', 'id': 1}]                     True  ...   \n124   [{'name': '서울', 'id': 1}]                     True  ...   \n125   [{'name': '서울', 'id': 1}]                     True  ...   \n126   [{'name': '경기', 'id': 2}]                     True  ...   \n127  [{'name': '제주', 'id': 16}]                     True  ...   \n\n     track.entered_posting_ids track.controller_name track.action_name  \\\n0                                                                        \n1                                                                        \n2                                                                        \n3                                                                        \n4                                                                        \n..                         ...                   ...               ...   \n123                                                                      \n124                                                                      \n125                                                                      \n126                                                                      \n127                                                                      \n\n    track.element_name company.review_score_with_survey  \\\n0                                                   NaN   \n1                                                   3.7   \n2                                                   NaN   \n3                                                   NaN   \n4                                                   NaN   \n..                 ...                              ...   \n123                                                 NaN   \n124                                                 NaN   \n125                                                 NaN   \n126                                                 NaN   \n127                                                 NaN   \n\n     company.pref_score.compensation_with_survey  \\\n0                                            NaN   \n1                                           3.33   \n2                                            NaN   \n3                                            NaN   \n4                                            NaN   \n..                                           ...   \n123                                          NaN   \n124                                          NaN   \n125                                          NaN   \n126                                          NaN   \n127                                          NaN   \n\n    company.pref_score.management_with_survey  \\\n0                                         NaN   \n1                                        3.57   \n2                                         NaN   \n3                                         NaN   \n4                                         NaN   \n..                                        ...   \n123                                       NaN   \n124                                       NaN   \n125                                       NaN   \n126                                       NaN   \n127                                       NaN   \n\n    company.pref_score.worklife_with_survey  \\\n0                                       NaN   \n1                                      4.15   \n2                                       NaN   \n3                                       NaN   \n4                                       NaN   \n..                                      ...   \n123                                     NaN   \n124                                     NaN   \n125                                     NaN   \n126                                     NaN   \n127                                     NaN   \n\n    company.pref_score.advancement_with_survey  \\\n0                                          NaN   \n1                                         3.32   \n2                                          NaN   \n3                                          NaN   \n4                                          NaN   \n..                                         ...   \n123                                        NaN   \n124                                        NaN   \n125                                        NaN   \n126                                        NaN   \n127                                        NaN   \n\n    company.pref_score.culture_with_survey  \n0                                      NaN  \n1                                     3.73  \n2                                      NaN  \n3                                      NaN  \n4                                      NaN  \n..                                     ...  \n123                                    NaN  \n124                                    NaN  \n125                                    NaN  \n126                                    NaN  \n127                                    NaN  \n\n[128 rows x 58 columns]",
      "text/html": "<div>\n<style scoped>\n    .dataframe tbody tr th:only-of-type {\n        vertical-align: middle;\n    }\n\n    .dataframe tbody tr th {\n        vertical-align: top;\n    }\n\n    .dataframe thead th {\n        text-align: right;\n    }\n</style>\n<table border=\"1\" class=\"dataframe\">\n  <thead>\n    <tr style=\"text-align: right;\">\n      <th></th>\n      <th>id</th>\n      <th>score</th>\n      <th>sponsored</th>\n      <th>jd.job_type.name</th>\n      <th>jd.job_type.id</th>\n      <th>jd.end_at_factor</th>\n      <th>jd.end_at</th>\n      <th>jd.level2_occupations</th>\n      <th>jd.cities</th>\n      <th>jd.use_jobplanet_resume</th>\n      <th>...</th>\n      <th>track.entered_posting_ids</th>\n      <th>track.controller_name</th>\n      <th>track.action_name</th>\n      <th>track.element_name</th>\n      <th>company.review_score_with_survey</th>\n      <th>company.pref_score.compensation_with_survey</th>\n      <th>company.pref_score.management_with_survey</th>\n      <th>company.pref_score.worklife_with_survey</th>\n      <th>company.pref_score.advancement_with_survey</th>\n      <th>company.pref_score.culture_with_survey</th>\n    </tr>\n  </thead>\n  <tbody>\n    <tr>\n      <th>0</th>\n      <td>1263151</td>\n      <td>18.193499</td>\n      <td>False</td>\n      <td>정규직</td>\n      <td>3</td>\n      <td>2024-04-01T23:59:00.000+09:00</td>\n      <td>2024-04-01T23:59:00.000+09:00</td>\n      <td>[{'name': '데이터 사이언티스트', 'id': 11914}]</td>\n      <td>[{'name': '서울', 'id': 1}]</td>\n      <td>True</td>\n      <td>...</td>\n      <td></td>\n      <td></td>\n      <td></td>\n      <td></td>\n      <td>NaN</td>\n      <td>NaN</td>\n      <td>NaN</td>\n      <td>NaN</td>\n      <td>NaN</td>\n      <td>NaN</td>\n    </tr>\n    <tr>\n      <th>1</th>\n      <td>1266158</td>\n      <td>17.568310</td>\n      <td>False</td>\n      <td>정규직</td>\n      <td>3</td>\n      <td>2024-05-05T23:59:00.000+09:00</td>\n      <td>2024-05-05T23:59:00.000+09:00</td>\n      <td>[{'name': '데이터 사이언티스트', 'id': 11914}]</td>\n      <td>[{'name': '서울', 'id': 1}]</td>\n      <td>True</td>\n      <td>...</td>\n      <td></td>\n      <td></td>\n      <td></td>\n      <td></td>\n      <td>3.7</td>\n      <td>3.33</td>\n      <td>3.57</td>\n      <td>4.15</td>\n      <td>3.32</td>\n      <td>3.73</td>\n    </tr>\n    <tr>\n      <th>2</th>\n      <td>1265009</td>\n      <td>17.412100</td>\n      <td>False</td>\n      <td>정규직</td>\n      <td>3</td>\n      <td>2024-04-21T23:59:00.000+09:00</td>\n      <td>2024-04-21T23:59:00.000+09:00</td>\n      <td>[{'name': 'BI 엔지니어', 'id': 11917}, {'name': '데...</td>\n      <td>[{'name': '경기', 'id': 2}]</td>\n      <td>True</td>\n      <td>...</td>\n      <td></td>\n      <td></td>\n      <td></td>\n      <td></td>\n      <td>NaN</td>\n      <td>NaN</td>\n      <td>NaN</td>\n      <td>NaN</td>\n      <td>NaN</td>\n      <td>NaN</td>\n    </tr>\n    <tr>\n      <th>3</th>\n      <td>1265417</td>\n      <td>16.582916</td>\n      <td>False</td>\n      <td>정규직</td>\n      <td>3</td>\n      <td>2024-04-24T23:59:00.000+09:00</td>\n      <td>2024-04-24T23:59:00.000+09:00</td>\n      <td>[{'name': '데이터 사이언티스트', 'id': 11914}, {'name':...</td>\n      <td>[{'name': '서울', 'id': 1}]</td>\n      <td>True</td>\n      <td>...</td>\n      <td></td>\n      <td></td>\n      <td></td>\n      <td></td>\n      <td>NaN</td>\n      <td>NaN</td>\n      <td>NaN</td>\n      <td>NaN</td>\n      <td>NaN</td>\n      <td>NaN</td>\n    </tr>\n    <tr>\n      <th>4</th>\n      <td>1262056</td>\n      <td>15.171893</td>\n      <td>False</td>\n      <td>정규직</td>\n      <td>3</td>\n      <td>2024-03-07T23:59:00.000+09:00</td>\n      <td>2024-03-07T23:59:00.000+09:00</td>\n      <td>[{'name': '데이터 분석가', 'id': 11613}, {'name': '데...</td>\n      <td>[{'name': '서울', 'id': 1}]</td>\n      <td>True</td>\n      <td>...</td>\n      <td></td>\n      <td></td>\n      <td></td>\n      <td></td>\n      <td>NaN</td>\n      <td>NaN</td>\n      <td>NaN</td>\n      <td>NaN</td>\n      <td>NaN</td>\n      <td>NaN</td>\n    </tr>\n    <tr>\n      <th>...</th>\n      <td>...</td>\n      <td>...</td>\n      <td>...</td>\n      <td>...</td>\n      <td>...</td>\n      <td>...</td>\n      <td>...</td>\n      <td>...</td>\n      <td>...</td>\n      <td>...</td>\n      <td>...</td>\n      <td>...</td>\n      <td>...</td>\n      <td>...</td>\n      <td>...</td>\n      <td>...</td>\n      <td>...</td>\n      <td>...</td>\n      <td>...</td>\n      <td>...</td>\n      <td>...</td>\n    </tr>\n    <tr>\n      <th>123</th>\n      <td>1253231</td>\n      <td>7.525618</td>\n      <td>False</td>\n      <td>정규직</td>\n      <td>3</td>\n      <td>2024-04-29T23:59:59.000+09:00</td>\n      <td>2024-04-29T23:59:59.000+09:00</td>\n      <td>[{'name': '머신러닝 엔지니어', 'id': 11915}]</td>\n      <td>[{'name': '서울', 'id': 1}]</td>\n      <td>True</td>\n      <td>...</td>\n      <td></td>\n      <td></td>\n      <td></td>\n      <td></td>\n      <td>NaN</td>\n      <td>NaN</td>\n      <td>NaN</td>\n      <td>NaN</td>\n      <td>NaN</td>\n      <td>NaN</td>\n    </tr>\n    <tr>\n      <th>124</th>\n      <td>1253230</td>\n      <td>7.525618</td>\n      <td>False</td>\n      <td>정규직</td>\n      <td>3</td>\n      <td>2024-04-29T23:59:59.000+09:00</td>\n      <td>2024-04-29T23:59:59.000+09:00</td>\n      <td>[{'name': '머신러닝 엔지니어', 'id': 11915}]</td>\n      <td>[{'name': '서울', 'id': 1}]</td>\n      <td>True</td>\n      <td>...</td>\n      <td></td>\n      <td></td>\n      <td></td>\n      <td></td>\n      <td>NaN</td>\n      <td>NaN</td>\n      <td>NaN</td>\n      <td>NaN</td>\n      <td>NaN</td>\n      <td>NaN</td>\n    </tr>\n    <tr>\n      <th>125</th>\n      <td>1257905</td>\n      <td>7.041679</td>\n      <td>False</td>\n      <td>정규직</td>\n      <td>3</td>\n      <td>2024-04-10T23:59:59.000+09:00</td>\n      <td>2024-04-10T23:59:59.000+09:00</td>\n      <td>[{'name': '머신러닝 엔지니어', 'id': 11915}]</td>\n      <td>[{'name': '서울', 'id': 1}]</td>\n      <td>True</td>\n      <td>...</td>\n      <td></td>\n      <td></td>\n      <td></td>\n      <td></td>\n      <td>NaN</td>\n      <td>NaN</td>\n      <td>NaN</td>\n      <td>NaN</td>\n      <td>NaN</td>\n      <td>NaN</td>\n    </tr>\n    <tr>\n      <th>126</th>\n      <td>1253355</td>\n      <td>6.190506</td>\n      <td>False</td>\n      <td>정규직</td>\n      <td>3</td>\n      <td>2024-04-30T23:59:59.000+09:00</td>\n      <td>2024-04-30T23:59:59.000+09:00</td>\n      <td>[{'name': '데이터 엔지니어', 'id': 11913}]</td>\n      <td>[{'name': '경기', 'id': 2}]</td>\n      <td>True</td>\n      <td>...</td>\n      <td></td>\n      <td></td>\n      <td></td>\n      <td></td>\n      <td>NaN</td>\n      <td>NaN</td>\n      <td>NaN</td>\n      <td>NaN</td>\n      <td>NaN</td>\n      <td>NaN</td>\n    </tr>\n    <tr>\n      <th>127</th>\n      <td>1252109</td>\n      <td>5.139365</td>\n      <td>False</td>\n      <td>정규직</td>\n      <td>3</td>\n      <td>2024-04-11T23:59:59.000+09:00</td>\n      <td>2024-04-11T23:59:59.000+09:00</td>\n      <td>[{'name': '데이터 분석가', 'id': 11613}]</td>\n      <td>[{'name': '제주', 'id': 16}]</td>\n      <td>True</td>\n      <td>...</td>\n      <td></td>\n      <td></td>\n      <td></td>\n      <td></td>\n      <td>NaN</td>\n      <td>NaN</td>\n      <td>NaN</td>\n      <td>NaN</td>\n      <td>NaN</td>\n      <td>NaN</td>\n    </tr>\n  </tbody>\n</table>\n<p>128 rows × 58 columns</p>\n</div>"
     },
     "execution_count": 88,
     "metadata": {},
     "output_type": "execute_result"
    }
   ],
   "source": [
    "import json\n",
    "\n",
    "with open('saraminDataRecruit.json', 'r', encoding='utf-8') as f:\n",
    "    recruit = json.load(f)\n",
    "\n",
    "df = pd.json_normalize(recruit, record_path=['data', 'search_result', 'jobs'])\n",
    "# pd.read_json('saraminDataRecruit.json')\n",
    "df"
   ],
   "metadata": {
    "collapsed": false,
    "ExecuteTime": {
     "end_time": "2024-02-14T08:03:43.666814400Z",
     "start_time": "2024-02-14T08:03:43.598693600Z"
    }
   },
   "id": "d5a70441cd16417",
   "execution_count": 88
  },
  {
   "cell_type": "code",
   "outputs": [
    {
     "data": {
      "text/plain": "80"
     },
     "execution_count": 113,
     "metadata": {},
     "output_type": "execute_result"
    }
   ],
   "source": [
    "\n",
    "save = df[['company.name', 'company.url', 'company.approved_reviews_cache']].drop_duplicates()\n",
    "\n",
    "save.to_sql('companylist', conn, if_exists='replace', index=False)"
   ],
   "metadata": {
    "collapsed": false,
    "ExecuteTime": {
     "end_time": "2024-02-14T09:03:59.536824800Z",
     "start_time": "2024-02-14T09:03:59.371501600Z"
    }
   },
   "id": "fdf38f538ed8de42",
   "execution_count": 113
  },
  {
   "cell_type": "code",
   "outputs": [
    {
     "data": {
      "text/plain": "b'<!DOCTYPE html>\\n<!--[if lt IE 7]> <html class=\"no-js ie6 oldie\" lang=\"en-US\"> <![endif]-->\\n<!--[if IE 7]>    <html class=\"no-js ie7 oldie\" lang=\"en-US\"> <![endif]-->\\n<!--[if IE 8]>    <html class=\"no-js ie8 oldie\" lang=\"en-US\"> <![endif]-->\\n<!--[if gt IE 8]><!--> <html class=\"no-js\" lang=\"en-US\"> <!--<![endif]-->\\n<head>\\n<title>Attention Required! | Cloudflare</title>\\n<meta charset=\"UTF-8\" />\\n<meta http-equiv=\"Content-Type\" content=\"text/html; charset=UTF-8\" />\\n<meta http-equiv=\"X-UA-Compatible\" content=\"IE=Edge\" />\\n<meta name=\"robots\" content=\"noindex, nofollow\" />\\n<meta name=\"viewport\" content=\"width=device-width,initial-scale=1\" />\\n<script src=\"/cdn-cgi/apps/head/Pkvo1XfvcUSTQ4tNhbP9Iaf5hmo.js\"></script><link rel=\"stylesheet\" id=\"cf_styles-css\" href=\"/cdn-cgi/styles/cf.errors.css\" />\\n<!--[if lt IE 9]><link rel=\"stylesheet\" id=\\'cf_styles-ie-css\\' href=\"/cdn-cgi/styles/cf.errors.ie.css\" /><![endif]-->\\n<style>body{margin:0;padding:0}</style>\\n\\n\\n<!--[if gte IE 10]><!-->\\n<script>\\n  if (!navigator.cookieEnabled) {\\n    window.addEventListener(\\'DOMContentLoaded\\', function () {\\n      var cookieEl = document.getElementById(\\'cookie-alert\\');\\n      cookieEl.style.display = \\'block\\';\\n    })\\n  }\\n</script>\\n<!--<![endif]-->\\n\\n\\n</head>\\n<body>\\n  <div id=\"cf-wrapper\">\\n    <div class=\"cf-alert cf-alert-error cf-cookie-error\" id=\"cookie-alert\" data-translate=\"enable_cookies\">Please enable cookies.</div>\\n    <div id=\"cf-error-details\" class=\"cf-error-details-wrapper\">\\n      <div class=\"cf-wrapper cf-header cf-error-overview\">\\n        <h1 data-translate=\"block_headline\">Sorry, you have been blocked</h1>\\n        <h2 class=\"cf-subheadline\"><span data-translate=\"unable_to_access\">You are unable to access</span> jobplanet.co.kr</h2>\\n      </div><!-- /.header -->\\n\\n      <div class=\"cf-section cf-highlight\">\\n        <div class=\"cf-wrapper\">\\n          <div class=\"cf-screenshot-container cf-screenshot-full\">\\n            \\n              <span class=\"cf-no-screenshot error\"></span>\\n            \\n          </div>\\n        </div>\\n      </div><!-- /.captcha-container -->\\n\\n      <div class=\"cf-section cf-wrapper\">\\n        <div class=\"cf-columns two\">\\n          <div class=\"cf-column\">\\n            <h2 data-translate=\"blocked_why_headline\">Why have I been blocked?</h2>\\n\\n            <p data-translate=\"blocked_why_detail\">This website is using a security service to protect itself from online attacks. The action you just performed triggered the security solution. There are several actions that could trigger this block including submitting a certain word or phrase, a SQL command or malformed data.</p>\\n          </div>\\n\\n          <div class=\"cf-column\">\\n            <h2 data-translate=\"blocked_resolve_headline\">What can I do to resolve this?</h2>\\n\\n            <p data-translate=\"blocked_resolve_detail\">You can email the site owner to let them know you were blocked. Please include what you were doing when this page came up and the Cloudflare Ray ID found at the bottom of this page.</p>\\n          </div>\\n        </div>\\n      </div><!-- /.section -->\\n\\n      <div class=\"cf-error-footer cf-wrapper w-240 lg:w-full py-10 sm:py-4 sm:px-8 mx-auto text-center sm:text-left border-solid border-0 border-t border-gray-300\">\\n  <p class=\"text-13\">\\n    <span class=\"cf-footer-item sm:block sm:mb-1\">Cloudflare Ray ID: <strong class=\"font-semibold\">8553f8410871a7bf</strong></span>\\n    <span class=\"cf-footer-separator sm:hidden\">&bull;</span>\\n    <span id=\"cf-footer-item-ip\" class=\"cf-footer-item hidden sm:block sm:mb-1\">\\n      Your IP:\\n      <button type=\"button\" id=\"cf-footer-ip-reveal\" class=\"cf-footer-ip-reveal-btn\">Click to reveal</button>\\n      <span class=\"hidden\" id=\"cf-footer-ip\">155.230.84.127</span>\\n      <span class=\"cf-footer-separator sm:hidden\">&bull;</span>\\n    </span>\\n    <span class=\"cf-footer-item sm:block sm:mb-1\"><span>Performance &amp; security by</span> <a rel=\"noopener noreferrer\" href=\"https://www.cloudflare.com/5xx-error-landing\" id=\"brand_link\" target=\"_blank\">Cloudflare</a></span>\\n    \\n  </p>\\n  <script>(function(){function d(){var b=a.getElementById(\"cf-footer-item-ip\"),c=a.getElementById(\"cf-footer-ip-reveal\");b&&\"classList\"in b&&(b.classList.remove(\"hidden\"),c.addEventListener(\"click\",function(){c.classList.add(\"hidden\");a.getElementById(\"cf-footer-ip\").classList.remove(\"hidden\")}))}var a=document;document.addEventListener&&a.addEventListener(\"DOMContentLoaded\",d)})();</script>\\n</div><!-- /.error-footer -->\\n\\n\\n    </div><!-- /#cf-error-details -->\\n  </div><!-- /#cf-wrapper -->\\n\\n  <script>\\n  window._cf_translation = {};\\n  \\n  \\n</script>\\n\\n</body>\\n</html>\\n'"
     },
     "execution_count": 110,
     "metadata": {},
     "output_type": "execute_result"
    }
   ],
   "source": [
    "\n",
    "response.content"
   ],
   "metadata": {
    "collapsed": false,
    "ExecuteTime": {
     "end_time": "2024-02-14T08:34:08.099310400Z",
     "start_time": "2024-02-14T08:34:08.091193400Z"
    }
   },
   "id": "433b48af6dfa229b",
   "execution_count": 110
  },
  {
   "cell_type": "code",
   "outputs": [],
   "source": [
    "baseurl = 'https://www.jobplanet.co.kr{}/reviews'\n",
    "websites = []\n",
    "for x in save['company.url']:\n",
    "    websites.append(baseurl.format(x))\n",
    "    \n",
    "result = []\n",
    "with requests.session() as session:\n",
    "    session.headers.update(header)\n",
    "    session.cookies.update(cookies)\n",
    "    result = session.get(websites[0])\n",
    "    # for website in websites:\n",
    "    #     websiteget = session.get(website)\n",
    "    #     result.append(websiteget.content)\n",
    "    #     print(f\"{website} 다운 완료\")\n"
   ],
   "metadata": {
    "collapsed": false,
    "ExecuteTime": {
     "end_time": "2024-02-14T08:29:26.993133800Z",
     "start_time": "2024-02-14T08:29:26.748715100Z"
    }
   },
   "id": "f9bdb21852f0047e",
   "execution_count": 104
  },
  {
   "cell_type": "code",
   "outputs": [
    {
     "data": {
      "text/plain": "b'<!DOCTYPE html><html lang=\"en-US\"><head><title>Just a moment...</title><meta http-equiv=\"Content-Type\" content=\"text/html; charset=UTF-8\"><meta http-equiv=\"X-UA-Compatible\" content=\"IE=Edge\"><meta name=\"robots\" content=\"noindex,nofollow\"><meta name=\"viewport\" content=\"width=device-width,initial-scale=1\"><script src=\"/cdn-cgi/apps/head/Pkvo1XfvcUSTQ4tNhbP9Iaf5hmo.js\"></script><style>*{box-sizing:border-box;margin:0;padding:0}html{line-height:1.15;-webkit-text-size-adjust:100%;color:#313131}button,html{font-family:system-ui,-apple-system,BlinkMacSystemFont,Segoe UI,Roboto,Helvetica Neue,Arial,Noto Sans,sans-serif,Apple Color Emoji,Segoe UI Emoji,Segoe UI Symbol,Noto Color Emoji}@media (prefers-color-scheme:dark){body{background-color:#222;color:#d9d9d9}body a{color:#fff}body a:hover{color:#ee730a;text-decoration:underline}body .lds-ring div{border-color:#999 transparent transparent}body .font-red{color:#b20f03}body .big-button,body .pow-button{background-color:#4693ff;color:#1d1d1d}body #challenge-success-text{background-image:url(data:image/svg+xml;base64,PHN2ZyB4bWxucz0iaHR0cDovL3d3dy53My5vcmcvMjAwMC9zdmciIHdpZHRoPSIzMiIgaGVpZ2h0PSIzMiIgZmlsbD0ibm9uZSIgdmlld0JveD0iMCAwIDI2IDI2Ij48cGF0aCBmaWxsPSIjZDlkOWQ5IiBkPSJNMTMgMGExMyAxMyAwIDEgMCAwIDI2IDEzIDEzIDAgMCAwIDAtMjZtMCAyNGExMSAxMSAwIDEgMSAwLTIyIDExIDExIDAgMCAxIDAgMjIiLz48cGF0aCBmaWxsPSIjZDlkOWQ5IiBkPSJtMTAuOTU1IDE2LjA1NS0zLjk1LTQuMTI1LTEuNDQ1IDEuMzg1IDUuMzcgNS42MSA5LjQ5NS05LjYtMS40Mi0xLjQwNXoiLz48L3N2Zz4=)}body #challenge-error-text{background-image:url(data:image/svg+xml;base64,PHN2ZyB4bWxucz0iaHR0cDovL3d3dy53My5vcmcvMjAwMC9zdmciIHdpZHRoPSIzMiIgaGVpZ2h0PSIzMiIgZmlsbD0ibm9uZSI+PHBhdGggZmlsbD0iI0IyMEYwMyIgZD0iTTE2IDNhMTMgMTMgMCAxIDAgMTMgMTNBMTMuMDE1IDEzLjAxNSAwIDAgMCAxNiAzbTAgMjRhMTEgMTEgMCAxIDEgMTEtMTEgMTEuMDEgMTEuMDEgMCAwIDEtMTEgMTEiLz48cGF0aCBmaWxsPSIjQjIwRjAzIiBkPSJNMTcuMDM4IDE4LjYxNUgxNC44N0wxNC41NjMgOS41aDIuNzgzem0tMS4wODQgMS40MjdxLjY2IDAgMS4wNTcuMzg4LjQwNy4zODkuNDA3Ljk5NCAwIC41OTYtLjQwNy45ODQtLjM5Ny4zOS0xLjA1Ny4zODktLjY1IDAtMS4wNTYtLjM4OS0uMzk4LS4zODktLjM5OC0uOTg0IDAtLjU5Ny4zOTgtLjk4NS40MDYtLjM5NyAxLjA1Ni0uMzk3Ii8+PC9zdmc+)}}body{display:flex;flex-direction:column;min-height:100vh}body.no-js .loading-spinner{visibility:hidden}body.no-js .challenge-running{display:none}body.dark{background-color:#222;color:#d9d9d9}body.dark a{color:#fff}body.dark a:hover{color:#ee730a;text-decoration:underline}body.dark .lds-ring div{border-color:#999 transparent transparent}body.dark .font-red{color:#b20f03}body.dark .big-button,body.dark .pow-button{background-color:#4693ff;color:#1d1d1d}body.dark #challenge-success-text{background-image:url(data:image/svg+xml;base64,PHN2ZyB4bWxucz0iaHR0cDovL3d3dy53My5vcmcvMjAwMC9zdmciIHdpZHRoPSIzMiIgaGVpZ2h0PSIzMiIgZmlsbD0ibm9uZSIgdmlld0JveD0iMCAwIDI2IDI2Ij48cGF0aCBmaWxsPSIjZDlkOWQ5IiBkPSJNMTMgMGExMyAxMyAwIDEgMCAwIDI2IDEzIDEzIDAgMCAwIDAtMjZtMCAyNGExMSAxMSAwIDEgMSAwLTIyIDExIDExIDAgMCAxIDAgMjIiLz48cGF0aCBmaWxsPSIjZDlkOWQ5IiBkPSJtMTAuOTU1IDE2LjA1NS0zLjk1LTQuMTI1LTEuNDQ1IDEuMzg1IDUuMzcgNS42MSA5LjQ5NS05LjYtMS40Mi0xLjQwNXoiLz48L3N2Zz4=)}body.dark #challenge-error-text{background-image:url(data:image/svg+xml;base64,PHN2ZyB4bWxucz0iaHR0cDovL3d3dy53My5vcmcvMjAwMC9zdmciIHdpZHRoPSIzMiIgaGVpZ2h0PSIzMiIgZmlsbD0ibm9uZSI+PHBhdGggZmlsbD0iI0IyMEYwMyIgZD0iTTE2IDNhMTMgMTMgMCAxIDAgMTMgMTNBMTMuMDE1IDEzLjAxNSAwIDAgMCAxNiAzbTAgMjRhMTEgMTEgMCAxIDEgMTEtMTEgMTEuMDEgMTEuMDEgMCAwIDEtMTEgMTEiLz48cGF0aCBmaWxsPSIjQjIwRjAzIiBkPSJNMTcuMDM4IDE4LjYxNUgxNC44N0wxNC41NjMgOS41aDIuNzgzem0tMS4wODQgMS40MjdxLjY2IDAgMS4wNTcuMzg4LjQwNy4zODkuNDA3Ljk5NCAwIC41OTYtLjQwNy45ODQtLjM5Ny4zOS0xLjA1Ny4zODktLjY1IDAtMS4wNTYtLjM4OS0uMzk4LS4zODktLjM5OC0uOTg0IDAtLjU5Ny4zOTgtLjk4NS40MDYtLjM5NyAxLjA1Ni0uMzk3Ii8+PC9zdmc+)}body.light{background-color:transparent;color:#313131}body.light a{color:#0051c3}body.light a:hover{color:#ee730a;text-decoration:underline}body.light .lds-ring div{border-color:#595959 transparent transparent}body.light .font-red{color:#fc574a}body.light .big-button,body.light .pow-button{background-color:#003681;border-color:#003681;color:#fff}body.light #challenge-success-text{background-image:url(data:image/svg+xml;base64,PHN2ZyB4bWxucz0iaHR0cDovL3d3dy53My5vcmcvMjAwMC9zdmciIHdpZHRoPSIzMiIgaGVpZ2h0PSIzMiIgZmlsbD0ibm9uZSIgdmlld0JveD0iMCAwIDI2IDI2Ij48cGF0aCBmaWxsPSIjMzEzMTMxIiBkPSJNMTMgMGExMyAxMyAwIDEgMCAwIDI2IDEzIDEzIDAgMCAwIDAtMjZtMCAyNGExMSAxMSAwIDEgMSAwLTIyIDExIDExIDAgMCAxIDAgMjIiLz48cGF0aCBmaWxsPSIjMzEzMTMxIiBkPSJtMTAuOTU1IDE2LjA1NS0zLjk1LTQuMTI1LTEuNDQ1IDEuMzg1IDUuMzcgNS42MSA5LjQ5NS05LjYtMS40Mi0xLjQwNXoiLz48L3N2Zz4=)}body.light #challenge-error-text{background-image:url(data:image/svg+xml;base64,PHN2ZyB4bWxucz0iaHR0cDovL3d3dy53My5vcmcvMjAwMC9zdmciIHdpZHRoPSIzMiIgaGVpZ2h0PSIzMiIgZmlsbD0ibm9uZSI+PHBhdGggZmlsbD0iI2ZjNTc0YSIgZD0iTTE2IDNhMTMgMTMgMCAxIDAgMTMgMTNBMTMuMDE1IDEzLjAxNSAwIDAgMCAxNiAzbTAgMjRhMTEgMTEgMCAxIDEgMTEtMTEgMTEuMDEgMTEuMDEgMCAwIDEtMTEgMTEiLz48cGF0aCBmaWxsPSIjZmM1NzRhIiBkPSJNMTcuMDM4IDE4LjYxNUgxNC44N0wxNC41NjMgOS41aDIuNzgzem0tMS4wODQgMS40MjdxLjY2IDAgMS4wNTcuMzg4LjQwNy4zODkuNDA3Ljk5NCAwIC41OTYtLjQwNy45ODQtLjM5Ny4zOS0xLjA1Ny4zODktLjY1IDAtMS4wNTYtLjM4OS0uMzk4LS4zODktLjM5OC0uOTg0IDAtLjU5Ny4zOTgtLjk4NS40MDYtLjM5NyAxLjA1Ni0uMzk3Ii8+PC9zdmc+)}a{background-color:transparent;color:#0051c3;text-decoration:none;transition:color .15s ease}a:hover{color:#ee730a;text-decoration:underline}.main-content{margin:8rem auto;max-width:60rem;width:100%}.heading-favicon{height:2rem;margin-right:.5rem;width:2rem}@media (width <= 720px){.main-content{margin-top:4rem}.heading-favicon{height:1.5rem;width:1.5rem}}.footer,.main-content{padding-left:1.5rem;padding-right:1.5rem}.main-wrapper{align-items:center;display:flex;flex:1;flex-direction:column}.font-red{color:#b20f03}.spacer{margin:2rem 0}.h1{font-size:2.5rem;font-weight:500;line-height:3.75rem}.h2{font-weight:500}.core-msg,.h2{font-size:1.5rem;line-height:2.25rem}.body-text,.core-msg{font-weight:400}.body-text{font-size:1rem;line-height:1.25rem}@media (width <= 720px){.h1{font-size:1.5rem;line-height:1.75rem}.h2{font-size:1.25rem}.core-msg,.h2{line-height:1.5rem}.core-msg{font-size:1rem}}#challenge-error-text{background-image:url(data:image/svg+xml;base64,PHN2ZyB4bWxucz0iaHR0cDovL3d3dy53My5vcmcvMjAwMC9zdmciIHdpZHRoPSIzMiIgaGVpZ2h0PSIzMiIgZmlsbD0ibm9uZSI+PHBhdGggZmlsbD0iI2ZjNTc0YSIgZD0iTTE2IDNhMTMgMTMgMCAxIDAgMTMgMTNBMTMuMDE1IDEzLjAxNSAwIDAgMCAxNiAzbTAgMjRhMTEgMTEgMCAxIDEgMTEtMTEgMTEuMDEgMTEuMDEgMCAwIDEtMTEgMTEiLz48cGF0aCBmaWxsPSIjZmM1NzRhIiBkPSJNMTcuMDM4IDE4LjYxNUgxNC44N0wxNC41NjMgOS41aDIuNzgzem0tMS4wODQgMS40MjdxLjY2IDAgMS4wNTcuMzg4LjQwNy4zODkuNDA3Ljk5NCAwIC41OTYtLjQwNy45ODQtLjM5Ny4zOS0xLjA1Ny4zODktLjY1IDAtMS4wNTYtLjM4OS0uMzk4LS4zODktLjM5OC0uOTg0IDAtLjU5Ny4zOTgtLjk4NS40MDYtLjM5NyAxLjA1Ni0uMzk3Ii8+PC9zdmc+);padding-left:34px}#challenge-error-text,#challenge-success-text{background-repeat:no-repeat;background-size:contain}#challenge-success-text{background-image:url(data:image/svg+xml;base64,PHN2ZyB4bWxucz0iaHR0cDovL3d3dy53My5vcmcvMjAwMC9zdmciIHdpZHRoPSIzMiIgaGVpZ2h0PSIzMiIgZmlsbD0ibm9uZSIgdmlld0JveD0iMCAwIDI2IDI2Ij48cGF0aCBmaWxsPSIjMzEzMTMxIiBkPSJNMTMgMGExMyAxMyAwIDEgMCAwIDI2IDEzIDEzIDAgMCAwIDAtMjZtMCAyNGExMSAxMSAwIDEgMSAwLTIyIDExIDExIDAgMCAxIDAgMjIiLz48cGF0aCBmaWxsPSIjMzEzMTMxIiBkPSJtMTAuOTU1IDE2LjA1NS0zLjk1LTQuMTI1LTEuNDQ1IDEuMzg1IDUuMzcgNS42MSA5LjQ5NS05LjYtMS40Mi0xLjQwNXoiLz48L3N2Zz4=);padding-left:42px}.text-center{text-align:center}.big-button{border:.063rem solid #0051c3;border-radius:.313rem;font-size:.875rem;line-height:1.313rem;padding:.375rem 1rem;transition-duration:.2s;transition-property:background-color,border-color,color;transition-timing-function:ease}.big-button:hover{cursor:pointer}.captcha-prompt:not(.hidden){display:flex}@media (width <= 720px){.captcha-prompt:not(.hidden){flex-wrap:wrap;justify-content:center}}.pow-button{background-color:#0051c3;color:#fff;margin:2rem 0}.pow-button:hover{background-color:#003681;border-color:#003681;color:#fff}.footer{font-size:.75rem;line-height:1.125rem;margin:0 auto;max-width:60rem;width:100%}.footer-inner{border-top:1px solid #d9d9d9;padding-bottom:1rem;padding-top:1rem}.clearfix:after{clear:both;content:\"\";display:table}.clearfix .column{float:left;padding-right:1.5rem;width:50%}.diagnostic-wrapper{margin-bottom:.5rem}.footer .ray-id{text-align:center}.footer .ray-id code{font-family:monaco,courier,monospace}.core-msg,.zone-name-title{overflow-wrap:break-word}@media (width <= 720px){.diagnostic-wrapper{display:flex;flex-wrap:wrap;justify-content:center}.clearfix:after{clear:none;content:none;display:initial;text-align:center}.column{padding-bottom:2rem}.clearfix .column{float:none;padding:0;width:auto;word-break:keep-all}.zone-name-title{margin-bottom:1rem}}.loading-spinner{height:76.391px}.lds-ring{display:inline-block;position:relative}.lds-ring,.lds-ring div{height:1.875rem;width:1.875rem}.lds-ring div{animation:lds-ring 1.2s cubic-bezier(.5,0,.5,1) infinite;border:.3rem solid transparent;border-radius:50%;border-top-color:#313131;box-sizing:border-box;display:block;position:absolute}.lds-ring div:first-child{animation-delay:-.45s}.lds-ring div:nth-child(2){animation-delay:-.3s}.lds-ring div:nth-child(3){animation-delay:-.15s}@keyframes lds-ring{0%{transform:rotate(0)}to{transform:rotate(1turn)}}@media screen and (-ms-high-contrast:active),screen and (-ms-high-contrast:none){.main-wrapper,body{display:block}}</style><meta http-equiv=\"refresh\" content=\"375\"></head><body class=\"no-js\"><div class=\"main-wrapper\" role=\"main\"><div class=\"main-content\"><noscript><div id=\"challenge-error-title\"><div class=\"h2\"><span id=\"challenge-error-text\">Enable JavaScript and cookies to continue</span></div></div></noscript></div></div><script>(function(){window._cf_chl_opt={cvId: \\'3\\',cZone: \"www.jobplanet.co.kr\",cType: \\'managed\\',cNounce: \\'31591\\',cRay: \\'8553f18e998b322a\\',cHash: \\'d0bc6457eb6849e\\',cUPMDTk: \"\\\\/companies\\\\/318620\\\\/reviews?__cf_chl_tk=jTivZuvLceBnWohgUMErGkSME5A5NUlEswAsxW1u5rY-1707899368-0-6139\",cFPWv: \\'b\\',cTTimeMs: \\'1000\\',cMTimeMs: \\'375000\\',cTplV: 5,cTplB: \\'cf\\',cK: \"visitor-time\",fa: \"\\\\/companies\\\\/318620\\\\/reviews?__cf_chl_f_tk=jTivZuvLceBnWohgUMErGkSME5A5NUlEswAsxW1u5rY-1707899368-0-6139\",md: \"0AL6yd7wGdEDO_eGoF26mNgGFjQKi5nFHXXGGMt2Mas-1707899368-1-AUunZI2wRotY-1eL0Xer9-39zKcVVvm4RhR8eds7MOcdSZHAjn83ZwNLClTl-7MQCaaariw2NA4dE7JKWDy2QMmo2WaTBvO1mbdBzW5qEkVjZzkK_yhaPqYufsEnoKnNLXgkcGgPqRczb-FWVeY5yJzQadjQ18ZuB0bunKibBhzGK3H-Xe8SFafXhhFKJhkdPdZCfbL0K9uQC-eKhGfaMk-vNWSGxEAsNNltDKR7StcwoXSxgLIWl-e13Myb5oYUSY8OYqjXeutS7UbsBRwBxQNuklAwFkzjQjk3O--9oMIA-pZTQzj1X4aDdYKFeoA6Xe6CgqgY1nWGCiUdovkKkJ0invChKsipOKCWlEwmofZLLgIS8orXg5VCyP56z03PZtezKAjFRqsEoOR9Bk9OU48JaCINhWLIrhK88ISGNmHPWYUPImuB_Qzk2EOOXofLSWPzyJGbBxc-y5-FoBXL8ggcEcsP7CnM2qesY84RSUujsN7l2O22jz09gd6GzKbpU7zkNa0TT6As-CLfJS2-UMlHO6yPW_AqzDx6Mngb-4JLWu08a2b1lsnJZXzkDgDCL06xmwhEpbq4m6Lv4RV3YqFjCOKNsz1_CIiPZTfh8Kuk9X3--BQiBr3U_4a4qksWVq84aI5MYeGs5jeZ0Cqgq8Y_KQ-52_V5fMnl09RWgxxJTfrTuVPqSFN15YS92JqFzzYgdiYxMoEzdPndWF4-CYdS5zkEEosaIVSj5s_nsHhyf1yvIouC1VSMiXzwEutUsyVLiFxruqOVACAKS1ec5qW67l3XkijGgVy069GbVCLr1xTz1-CM_sGVej4vT_qffu1Tt86J8aDLiS-4XnKP3baGjj9kq6MQv3j1FA6VQRKk9-jtnPY_ga5Y308qzxdk1PqqU7t3_5bLTqifuHUiUd5i4seAj03qHNuMR1wUXwhS_hc6FrstzNDVi5JhabumYDu2gvIcORHnqoSQdVEm0Sh0TtlM2-4UtCyUhFyXBXhUUvZAlOBkcGJg3_m0AbEFMM1cqs2GWXV7oLIIsh7sFkE_49KYfVQadejDOCgnrepI4dtWdJRptOjzY6uQTytkmaEBNBBnt_QiaTdCvgulVwzTe7mrsQwboYKC5mJVxZjH-fKvDTrEXYGkT9ee_zRT2j9JgGEzEFIGGmcmmx9SP5CNpM3dFvApUlT_zJld1UQCjidPiNvhs-hfLtEzjy2wclfac7FPvygYKq7P5iAjyJcoX0Uvo5ykNjDnVQocQf66vUfQi8PxRZErVcU-XrivKHYXStgIvHyrmulVqCjP04g54AO7BtR77wGrbtwpMvYv1p0Ma59oFLs0wIbW_zBldMWBhX2tMOoJuVMwGp9KJpLrpO0d5IJpb3vyCv-I3CCo6-f7PC7AG_LpANTfWxYD8UdeztaYeBJ9lvr9jz2pzs0hsCb7uDihyiYfwdUAzeWoX5bQqYE3En3O8IpC_LGAIsnlZbeAwXwM1aMA8820PhlsKPqpmOYj31DNCFmY1xuphwAbH7OHsNdZZFCQIW3O_WCrKoBV9vDYzqMXLS-rXCFblb_5qfgL86b1MSFUT3em2g6tbTz774_8sDEMd2-sJQaj6pgvN0Qt0eglEAzRroUX6t7oS8nU23bQm5ikBnEPl93hJv3TW4M0QJXK5L9huHwKuntsuaNSRyn11wnM5mLoZfNMBHTSklPyFVDdYvapsBIa1aMXgkdlGJfA0O0BK5ez4onNO5eY3ddexA9CjX_QHbCowCbxJctdSCqwwomrs4uubS_w8KzbqHkVpsppYKwoxJqn8BcNqIqK3tAztQNSiOlf-yRCSZvgJdxOU1KemvMBy7YyFPPqUYRBsS2fbZwhX7dnOm5sxtqu-g4O6cI3iLeWK5EtxXrySH-mXXeieU1G0mt8YFI6RV885Ssl4U3_u2rP0Os5W5DQZyFc8WrzJBv7FudFX5QN9_FXGEP4fDee628c7k1ZTGQYHJg7LHGBIwrAJTyFuCV8p75djHRT7e8-ZqUFfUWcp5PkMtl-aUj33pkYJRvvrtbV4ytrjmJ6NANSz6XlyBvhO2PGD5Lp3SYpzY-yWFAeJ1BAkaMYIbuWeYM3XBwmCzHtVueWLgzygoIgyyFbJfW9mgOyS-GM-6rbOomGIgEgasl43aa9MFOodCnNaAungpe5LL4PGL83I1-0l3uu1Wk5w8FkjKah2feBJUyb0xKvQCmGfyMzVDvrTRCwrimXMuhBxONwbrcMJ8479rd_Zw9hm-yC4NMDKbiD2H4XmFQLQob_PEBI5q1eITxfjE66RHK07zElzHhzSdnYzk_AS7pLd3uptAA_LcgyhSY4WFpnLvpnwWQXTPOYPicWsbOPgCnFN-Z0bqXqlYmYNa0rR9rxXKPgBKKrdRSTiZh-l3PjbXGWlugo5g4SnQO058SsztyVXAA8XEQcCnwdWFCyl6OHryzcX6QQvFVobyxTfobP27OcrnJbCADmjvy6zBa9UCFibAHDjAhFF4tyxbwHtoHlxYktt8ljHL7NGo3Wxh3ibJcA6qMXSqBkBq6x-mVBjMtOYpSHb38yrs1Luz0KLx1PjO1jEaCspgax5z8nW_UpTMgmUM5N0sZs_NXyDaC5Lfq4lYD62mRXzR6AaQEWdNBeZ8sx4immhaYDw4kvEf8uqktauRu5D02BY6G7PEpOfEkTTIOToERN88S-uCZAK9vGJY4kaGxpgDxuBXs3lwfypzUOvRAPXEjP-jSWclV0DEQhwYNJOcQMbO08LftQ-97oMRbm0AfXXrUWdkUFBENPOKtHNiOvHMTuRNXmcPsvZ6Q8dVkpvTuHnvpcFX7tiiJYWjskDqStrDPMHiuO0EXJRMk78I6h3XYWJoONFR3rpOQAAQAqJR54akJxHjPdWKGfXTke5RR8BZZaztOhdGmnpiI3iaeTAz1TM1-zhc2kfnNhDS5NNBf7_qy4OScb5v0bcfh1L4GXTOajxlSUntkjNx-sRrAu5e9FXxCAasdHy0bK-t6T8SjPeZtTYqGtBFhwz90uE64M8OwJuSS8dcBTQGf5VozK1Izhbi4Dc5kKEOJQCWmNp-ozsj8MGrNtopWrul1nxw9k9dgcjHnx9hrT2835Thne0EUu5TyqO11xldTtTRmI99tMCWYNp6U2eoDyrSFeq5ORZQozJsCJt-32hptcVr9ntVeocc4F234oNloPRH3aK3S_rDgZdEQqeb5vh2_nMRCwn-ohdrXiQHoBnWdvNCCX9VFlUw93FxNVzQspXacanDaKhwRWYG1pXicPMgijZd6BGja2xUqiiaek7abtjjv7ROJA-2EvM7RVz0lzBKzkCnYfeQ6j15geyFis3clorThRLXn46_RJxk0317wJCt2YzZ5w9ot4hER8t9TM9qQDbXmHcbwGEzoi06gAxlxw0-tOsKhkOtaOkTdpK4yuxslMHITWrIovN3Y-PbfrDz-xkgdws487pCECPQs__M9te7enuCk0bjRG7gteURht7kEpAZ81PW-p_fTW9jR4FkG9rqsZ73QUo6vgagPhJYG1KhtEqLyCwZt9YG-uq-t5-5GOW22s6qmC9cIiHrAx9-GxtJ2HZNzNUS7vOPdd9W4YMVD84D09zEaaWxNzwcT68zVnMTxHP7T-WCoARQCum9D3FT4TzwPd9cvi22ZSz7r6yeqHcxWKoguASqPhppo0RXCizCgBNYSloxseLLfN3F4uu5Zcl2GVyVgNUjODfMhbD2WHbR7GT23D2AMHs6dvh-grNsfQ9lGT3s2522KUdbN9b5RsQkCYX_FpvUZDXkJOxqRtuMWUu-usfZQHdTh05ifQfBzY-VQfRP7kovd5ElzNFCiz4dJt8e8rQUhKd5Ow8unyoLM40yG122XQ7F-_pNpaTzNCh9WMXqAQajkGIol5apzZqelgtaWjJ4MQtcLLiadVrSRd-Y4vHZyeNnuChE4jDPIpwrxgp-qYUaaunVLrLwZn6oIjVsa7EcDKjYC_AUHvfjr_a45SRye2KUQR7MeKSxClnBSl4KJCQp1o8QkNlNCqO3n6vj_Dv3Xp5A8SQUrOupbsW6ymRnicwaMPnDt7obtJSY4q7CT7G0TZb7iQrpUL5L7u-kwYbcCCo451M-oP-pUiGH4ptPSpw0awmTLf2LyDN0l8DHW0JK9eFrbs4regWLulF1l3YdM7ckPKWB-xUEFSAfERUxwd2VvJvr1_AWw_iS56XMer6H76IIar4in0_m9KOxPHbebN9Fgz-NnUmW12BuuOVjYVGoaSLgZWbBkpk6nrdgUWQgW8XiGf3dBvQDOkHNKMuqG6Y48F01LqP2Y5p34oewrFiiIwZj-YcXNrWs48SgzxUyupMc4j-Z6dslHlmX7RZM8DgkQkAaGnSy8LsDk2-wDDsybf7T-eJziVVCJy3KeLva_M9rse0PmqwAepgYyErgG1nrXnajtCxBuqYlJnxNsbJHKeSxxQecLV47K5hMkcBS7Qtot0wY5xZAt3LfJcFsT0dTkshesyjk59dfdOmP-ANYd_1Z2qL1xmeEq0nAqp6-2Zt9EG6FmTjNUEHT2_mOWJYlZfNhWrK-2JSwZf_CFkRNkVNPGrR3QKTWCUIn48rb9xUH1tMC4UQyIaLYaQMxPkwh01pLqlezrUVX_ePINB_3zsokX9dtyLt8h2tD21LFTzFMNQhQQW9Q5G90SttvN6-96ZAP4lDbgotd6xsmHMP37pTg2vKfUKhR_p7d4JW9B1lo3DdBv3XXipvoi0Cf39R6ORUPxlTdQ-tloukGoNY70kZtmixY31uxUdiRue1nEmy194L399o1xHwtf012WxzWHfiqRAN01cV4OmwNWFD0JA5fzBMkV-Qx0odqRA6oSecsFHuEiGvG-vdIP8jbUn7hR9jqxxug_Gr20Prfr2cUk1bFGlsGvzf9tR3dkn8y1_v5nhVPS0QVMI0CXvgnePRcGeq1EuDBBb1hs1UD1hjuBve_j-uX7a8qqd464M8z5UTXEK6Mkj7LH7tKZiBc5Ghf1Fx7OFDkp5GHPtIzy-eyG6UjZ84SUMwQ8pikytkcAwt7NN4_m-pUGUteDi7U1gSIgBYzsQKdxJpPaIpbWu2eqnI6C_B00fipVWS1mxRJfoYbbRiA9CSXe_eU4xJWRm4artFaNPTSs1ctB1oJaN8rMUB3ZJ0_Gt7kCzX_mP9ONKOpxuc-0EgPkyLT_oXfAbpc_rQoIsrFPXh29pmp7Pqzq4rPXKbXYgqexnqtSNfAajc5f8Xd2N2HuK5_2Cm9Zo2S0B6gNEVFpg_jSRvHGSdgIeFxal9QKUyeH4c4rBiiw5nMjiGNqNDuT_PzIdYJDwwh5pGGnLvJSrEd5K2eD5v-KnAwzHDq5CQlR26Et1RQqCRFLobEJp7xwzOGCms07LJOqqJ6KlQL2pD9ei9tSwzZHh5RRkjr9WmoBK0oUP_KeSRSbOPgVKI4nSFP7Bciq4s828vZyFvG44Ce0rh4bg95RmKzQoFaEiZdCmbcyxwYcAMceQRopaTnN47ei3_-ZSTK49s_VIbugP0VcVxKLuSGHYwsQ4AiJb3t62fFYaGgH65pAP4dbVe3ASO_2-Bi5pcrypO39j1_PFYB8zjB3-wNDbDroin58_-K4iB12uqL0PSth0qRy-YnWlBWtZGbU8PCcI3kQ6tk7wWFMU3BFyWSKiEZolmiyrhNcChv7DaKRPey4VFO1sf14N0wcCJHqex_J07dtkxHnsKmkrjMEx6ABjIb9Y3ZD2QTI3YNUANe0Ix-KgNTcjj0HFRypRrUgaSu6zwnS3uGrBQajYrwlgBF1v57ckUDcZ-wNOlANjKRCkdane-IfJA8OZuBVYHRVqL926GlosP6U2mXzTsz-wmKURnZ-LUlOu9YEZRGgViG0RIXecquMMJZFH0RYnGzYbz4hholUTkA1EPyBOEewTdCEnEAnWSBuMWl0tBcd36IjeREpdbIsDyWy2zHXvj6gY6ythuRsKgtzuR2DAiciPZqbBiEeWOnRa8luIPngvWzGLIghZ60-CgtTQiOng3dI4en88eza4Yc6kJs5dQy4VdmRc_oS8mJGFgKiTfCRUAGa0k8TyTw\",cRq: {ru: \\'aHR0cHM6Ly93d3cuam9icGxhbmV0LmNvLmtyL2NvbXBhbmllcy8zMTg2MjAvcmV2aWV3cw==\\',ra: \\'TW96aWxsYS81LjAgKFdpbmRvd3MgTlQgMTAuMDsgV2luNjQ7IHg2NCkgQXBwbGVXZWJLaXQvNTM3LjM2IChLSFRNTCwgbGlrZSBHZWNrbykgQ2hyb21lLzkxLjAuNDQ3Mi4xMjQgU2FmYXJpLzUzNy4zNg==\\',rm: \\'R0VU\\',d: \\'s7O1qv56Mxw0cF4JY972HoMWFT4S6H8rTD05HBczF6wSPfgBduINEcAQ/iWdhbZvC4lV4T+Wr0d9fxESBiMgenJeTJXiFVsGOxzCKUy2Qub9WQjS/Bbn05WHaTNsaLwehI+q4FLAgKj6c0fls8d5CJNIAyh9khZ4R6DPCGraOjoG/CtAsmC9Dy/3fWswOPkjn4h339bWsi7GtBuzT1eU/zTnqU2hz04RVWdZOTy0Z278sG4ZJ6p1P5JPAo2q6sH38f5awpR6dfkrfrUHw3F63J6PxE40yRbpeLxRBhXYqR2D+Asvohzodk3wnmlrsm9HLXsKBUjIe1sofJhqPkOHNCO/hmbCYOFqQzHapvJCsmQWWWS6DViHFIqZQMy8lVhuX/fQwF+NlFWYsreCjJQPXXno37GsQAbEaTjlpGl2uT5wmwqFbnaiktw94QKr5h5EXeCNcIBoBmHHp/WJZJdQPVlCEAaF307iCgOIrCrmXSHbhWAdP0YqUNP5GBqVZ4ydNPJl96eCblMTURoWyICpu6hjPnx6RUqBmjOxSilp3BIAOmuDgiuC1W+CaXqnIhjYq7Quy9Rs2RPVgRdozO6rAA==\\',t: \\'MTcwNzg5OTM2OC43MzQwMDA=\\',cT: Math.floor(Date.now() / 1000),m: \\'82mFmQHGUH1WIFP9w96/dNWBF31NmuqmxCofLYETGUQ=\\',i1: \\'L9Q0E8todxFhxRira5fiPA==\\',i2: \\'ktJxjSYbTd9N3h7L3DXh0A==\\',zh: \\'6J5ESTNqcEWRXTZPQCb1xzJyrMreeKs5wfCbBkSvh7k=\\',uh: \\'6MfvW9btGmDtSIPzr0zj9JhmieeaNz5tOYKoqhCmfqk=\\',hh: \\'kKnhPj8jyI5swbj3SL5O0KslF0HYjT/AV7+gV0Wq9Y8=\\',}};var cpo = document.createElement(\\'script\\');cpo.src = \\'/cdn-cgi/challenge-platform/h/b/orchestrate/chl_page/v1?ray=8553f18e998b322a\\';window._cf_chl_opt.cOgUHash = location.hash === \\'\\' && location.href.indexOf(\\'#\\') !== -1 ? \\'#\\' : location.hash;window._cf_chl_opt.cOgUQuery = location.search === \\'\\' && location.href.slice(0, location.href.length - window._cf_chl_opt.cOgUHash.length).indexOf(\\'?\\') !== -1 ? \\'?\\' : location.search;if (window.history && window.history.replaceState) {var ogU = location.pathname + window._cf_chl_opt.cOgUQuery + window._cf_chl_opt.cOgUHash;history.replaceState(null, null, \"\\\\/companies\\\\/318620\\\\/reviews?__cf_chl_rt_tk=jTivZuvLceBnWohgUMErGkSME5A5NUlEswAsxW1u5rY-1707899368-0-6139\" + window._cf_chl_opt.cOgUHash);cpo.onload = function() {history.replaceState(null, null, ogU);}}document.getElementsByTagName(\\'head\\')[0].appendChild(cpo);}());</script></body></html>'"
     },
     "execution_count": 108,
     "metadata": {},
     "output_type": "execute_result"
    }
   ],
   "source": [
    "result.content"
   ],
   "metadata": {
    "collapsed": false,
    "ExecuteTime": {
     "end_time": "2024-02-14T08:29:54.411855500Z",
     "start_time": "2024-02-14T08:29:54.405561200Z"
    }
   },
   "id": "4a71ad374da3b712",
   "execution_count": 108
  }
 ],
 "metadata": {
  "kernelspec": {
   "display_name": "Python 3",
   "language": "python",
   "name": "python3"
  },
  "language_info": {
   "codemirror_mode": {
    "name": "ipython",
    "version": 2
   },
   "file_extension": ".py",
   "mimetype": "text/x-python",
   "name": "python",
   "nbconvert_exporter": "python",
   "pygments_lexer": "ipython2",
   "version": "2.7.6"
  }
 },
 "nbformat": 4,
 "nbformat_minor": 5
}
