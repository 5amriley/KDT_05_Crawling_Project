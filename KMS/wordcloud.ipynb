{
 "cells": [
  {
   "cell_type": "markdown",
   "source": [
    "## 사용할 모듈 미리 로딩"
   ],
   "metadata": {
    "collapsed": false
   },
   "id": "2b7f2e244a0f9720"
  },
  {
   "cell_type": "code",
   "execution_count": 1,
   "id": "ff2517772120d0c9",
   "metadata": {
    "collapsed": false,
    "ExecuteTime": {
     "end_time": "2024-02-15T02:07:18.426226800Z",
     "start_time": "2024-02-15T02:07:18.239979600Z"
    }
   },
   "outputs": [],
   "source": [
    "import pandas as pd\n",
    "import requests\n",
    "import matplotlib.pyplot as plt\n",
    "import matplotlib as mpl\n",
    "import seaborn as sns\n",
    "from bs4 import BeautifulSoup\n",
    "from konlpy.tag import Okt\n",
    "from collections import Counter\n",
    "from wordcloud import WordCloud\n",
    "import time\n",
    "import platform\n",
    "import numpy as np\n",
    "import random\n",
    "import os\n",
    "import shutil\n",
    "from PIL import Image\n",
    "import collections\n",
    "if not hasattr(collections, 'Callable'):\n",
    "    collections.Callable = collections.abc.Callable\n",
    "\n",
    "\n",
    "from sqlalchemy.sql import text as Text\n",
    "from sqlalchemy import create_engine\n",
    "from sqlalchemy import engine"
   ]
  },
  {
   "cell_type": "markdown",
   "source": [
    "## 데이터베이스(선택) 및 유저 에이전트"
   ],
   "metadata": {
    "collapsed": false
   },
   "id": "6277347331870f30"
  },
  {
   "cell_type": "code",
   "outputs": [],
   "source": [
    "\n",
    "header = {\n",
    "    'User-Agent': 'Mozilla/5.0 (Windows NT 10.0; Win64; x64) AppleWebKit/537.36 (KHTML, like Gecko) Chrome/91.0.4472.124 Safari/537.36'\n",
    "}\n",
    "\n",
    "sqlinfo = engine.URL.create(\n",
    "    drivername='mysql+pymysql',\n",
    "    username = 'kdt5',\n",
    "    password = 'q1@q1@q1@',\n",
    "    database = 'webcrawling',\n",
    "    query = {'charset':'utf8mb4'},\n",
    "    host = \"kdt5.mysql.database.azure.com\",\n",
    ")\n",
    "\n",
    "conn = create_engine(sqlinfo,connect_args={'ssl':{\"fake_flag_to_enable_tls\":True}})\n",
    "# cur 사용시 Text 로 쿼리문을 묶어 사용\n",
    "# cur = conn.connect()\n",
    "# result = cur.execute(Text('select * from editors'))\n",
    "# for row in result.fetchall():\n",
    "#     print(row)"
   ],
   "metadata": {
    "collapsed": true,
    "ExecuteTime": {
     "end_time": "2024-02-15T02:07:18.454519100Z",
     "start_time": "2024-02-15T02:07:18.425229200Z"
    }
   },
   "id": "initial_id",
   "execution_count": 2
  },
  {
   "cell_type": "markdown",
   "source": [
    "## 폰트 설정"
   ],
   "metadata": {
    "collapsed": false
   },
   "id": "bf378640b56b994d"
  },
  {
   "cell_type": "code",
   "outputs": [],
   "source": [
    "mpl.rc('font', family='Malgun Gothic')"
   ],
   "metadata": {
    "collapsed": false,
    "ExecuteTime": {
     "end_time": "2024-02-15T02:07:18.455907500Z",
     "start_time": "2024-02-15T02:07:18.450719900Z"
    }
   },
   "id": "95155773cccd77d",
   "execution_count": 3
  },
  {
   "cell_type": "markdown",
   "source": [
    "## sql 판다스 연동하기"
   ],
   "metadata": {
    "collapsed": false
   },
   "id": "416d4db3c3fc41d8"
  },
  {
   "cell_type": "code",
   "outputs": [],
   "source": [
    "# 해당 구문을 활용하여 sql 에서 읽어보세요\n",
    "# pd.read_sql('select * from editors', conn)"
   ],
   "metadata": {
    "collapsed": false,
    "ExecuteTime": {
     "end_time": "2024-02-15T02:07:18.462587800Z",
     "start_time": "2024-02-15T02:07:18.454519100Z"
    }
   },
   "id": "6cb2082d411acfbc",
   "execution_count": 4
  },
  {
   "cell_type": "code",
   "outputs": [],
   "source": [
    "# 해당 구문을 활용하여 sql로 전송해주세요\n",
    "# sqldf = pd.read_sql('select * from editors', conn)\n",
    "# sqldf.to_sql('editors_copied'+str(random.randint(100,1000)), conn, if_exists='replace', index=False)"
   ],
   "metadata": {
    "collapsed": false,
    "ExecuteTime": {
     "end_time": "2024-02-15T02:07:18.462587800Z",
     "start_time": "2024-02-15T02:07:18.458421800Z"
    }
   },
   "id": "c1e81452f6c05cce",
   "execution_count": 5
  },
  {
   "cell_type": "markdown",
   "source": [
    "## requests 활용하기\n",
    "\n",
    "아래처럼 session 으로 만든 다음에 사용하시면  \n",
    "보다 빠르게 웹페이지 크롤링 가능"
   ],
   "metadata": {
    "collapsed": false
   },
   "id": "6da37f81aeb148f9"
  },
  {
   "cell_type": "code",
   "outputs": [],
   "source": [
    "stoptext = '아 휴 아이구 아이쿠 아이고 어 나 우리 저희 따라 의해 을 를 에 의 가 으로 로 에게 뿐이다 의거하여 근거하여 입각하여 기준으로 예하면 예를 들면 예를 들자면 저 소인 소생 저희 지말고 하지마 하지마라 다른 물론 또한 그리고 비길수 없다 해서는 안된다 뿐만 아니라 만이 아니다 만은 아니다 막론하고 관계없이 그치지 않다 그러나 그런데 하지만 든간에 논하지 않다 따지지 않다 설사 비록 더라도 아니면 만 못하다 하는 편이 낫다 불문하고 향하여 향해서 향하다 쪽으로 틈타 이용하여 타다 오르다 제외하고 이 외에 이 밖에 하여야 비로소 한다면 몰라도 외에도 이곳 여기 부터 기점으로 따라서 할 생각이다 하려고하다 이리하여 그리하여 그렇게 함으로써 하지만 일때 할때 앞에서 중에서 보는데서 으로써 로써 까지 해야한다 일것이다 반드시 할줄알다 할수있다 할수있어 임에 틀림없다 한다면 등 등등 제 겨우 단지 다만 할뿐 딩동 댕그 대해서 대하여 대하면 훨씬 얼마나 얼마만큼 얼마큼 남짓 여 얼마간 약간 다소 좀 조금 다수 몇 얼마 지만 하물며 또한 그러나 그렇지만 하지만 이외에도 대해 말하자면 뿐이다 다음에 반대로 반대로 말하자면 이와 반대로 바꾸어서 말하면 바꾸어서 한다면 만약 그렇지않으면 까악 툭 딱 삐걱거리다 보드득 비걱거리다 꽈당 응당 해야한다 에 가서 각 각각 여러분 각종 각자 제각기 하도록하다 와 과 그러므로 그래서 고로 한 까닭에 하기 때문에 거니와 이지만 대하여 관하여 관한 과연 실로 아니나다를가 생각한대로 진짜로 한적이있다 하곤하였다 하 하하 허허 아하 거바 와 오 왜 어째서 무엇때문에 어찌 하겠는가 무슨 어디 어느곳 더군다나 하물며 더욱이는 어느때 언제 야 이봐 어이 여보시오 흐흐 흥 휴 헉헉 헐떡헐떡 영차 여차 어기여차 끙끙 아야 앗 아야 콸콸 졸졸 좍좍 뚝뚝 주룩주룩 솨 우르르 그래도 또 그리고 바꾸어말하면 바꾸어말하자면 혹은 혹시 답다 및 그에 따르는 때가 되어 즉 지든지 설령 가령 하더라도 할지라도 일지라도 지든지 몇 거의 하마터면 인젠 이젠 된바에야 된이상 만큼 어찌됏든 그위에 게다가 점에서 보아 비추어 보아 고려하면 하게될것이다 일것이다 비교적 좀 보다더 비하면 시키다 하게하다 할만하다 의해서 연이서 이어서 잇따라 뒤따라 뒤이어 결국 의지하여 기대여 통하여 자마자 더욱더 불구하고 얼마든지 마음대로 주저하지 않고 곧 즉시 바로 당장 하자마자 밖에 안된다 하면된다 그래 그렇지 요컨대 다시 말하자면 바꿔 말하면 즉 구체적으로 말하자면 시작하여 시초에 이상 허 헉 허걱 바와같이 해도좋다 해도된다 게다가 더구나 하물며 와르르 팍 퍽 펄렁 동안 이래 하고있었다 이었다 에서 로부터 까지 예하면 했어요 해요 함께 같이 더불어 마저 마저도 양자 모두 습니다 가까스로 하려고하다 즈음하여 다른 다른 방면으로 해봐요 습니까 했어요 말할것도 없고 무릎쓰고 개의치않고 하는것만 못하다 하는것이 낫다 매 매번 들 모 어느것 어느 로써 갖고말하자면 어디 어느쪽 어느것 어느해 어느 년도 라 해도 언젠가 어떤것 어느것 저기 저쪽 저것 그때 그럼 그러면 요만한걸 그래 그때 저것만큼 그저 이르기까지 할 줄 안다 할 힘이 있다 너 너희 당신 어찌 설마 차라리 할지언정 할지라도 할망정 할지언정 구토하다 게우다 토하다 메쓰겁다 옆사람 퉤 쳇 의거하여 근거하여 의해 따라 힘입어 그 다음 버금 두번째로 기타 첫번째로 나머지는 그중에서 견지에서 형식으로 쓰여 입장에서 위해서 단지 의해되다 하도록시키다 뿐만아니라 반대로 전후 전자 앞의것 잠시 잠깐 하면서 그렇지만 다음에 그러한즉 그런즉 남들 아무거나 어찌하든지 같다 비슷하다 예컨대 이럴정도로 어떻게 만약 만일 위에서 서술한바와같이 인 듯하다 하지 않는다면 만약에 무엇 무슨 어느 어떤 아래윗 조차 한데 그럼에도 불구하고 여전히 심지어 까지도 조차도 하지 않도록 않기 위하여 때 시각 무렵 시간 동안 어때 어떠한 하여금 네 예 우선 누구 누가 알겠는가 아무도 줄은모른다 줄은 몰랏다 하는 김에 겸사겸사 하는바 그런 까닭에 한 이유는 그러니 그러니까 때문에 그 너희 그들 너희들 타인 것 것들 너 위하여 공동으로 동시에 하기 위하여 어찌하여 무엇때문에 붕붕 윙윙 나 우리 엉엉 휘익 윙윙 오호 아하 어쨋든 만 못하다 하기보다는 차라리 하는 편이 낫다 흐흐 놀라다 상대적으로 말하자면 마치 아니라면 쉿 그렇지 않으면 그렇지 않다면 안 그러면 아니었다면 하든지 아니면 이라면 좋아 알았어 하는것도 그만이다 어쩔수 없다 하나 일 일반적으로 일단 한켠으로는 오자마자 이렇게되면 이와같다면 전부 한마디 한항목 근거로 하기에 아울러 하지 않도록 않기 위해서 이르기까지 이 되다 로 인하여 까닭으로 이유만으로 이로 인하여 그래서 이 때문에 그러므로 그런 까닭에 알 수 있다 결론을 낼 수 있다 으로 인하여 있다 어떤것 관계가 있다 관련이 있다 연관되다 어떤것들 에 대해 이리하여 그리하여 여부 하기보다는 하느니 하면 할수록 운운 이러이러하다 하구나 하도다 다시말하면 다음으로 에 있다 에 달려 있다 우리 우리들 오히려 하기는한데 어떻게 어떻해 어찌됏어 어때 어째서 본대로 자 이 이쪽 여기 이것 이번 이렇게말하자면 이런 이러한 이와 같은 요만큼 요만한 것 얼마 안 되는 것 이만큼 이 정도의 이렇게 많은 것 이와 같다 이때 이렇구나 것과 같이 끼익 삐걱 따위 와 같은 사람들 부류의 사람들 왜냐하면 중의하나 오직 오로지 에 한하다 하기만 하면 도착하다 까지 미치다 도달하다 정도에 이르다 할 지경이다 결과에 이르다 관해서는 여러분 하고 있다 한 후 혼자 자기 자기집 자신 우에 종합한것과같이 총적으로 보면 총적으로 말하면 총적으로 대로 하다 으로서 참 그만이다 할 따름이다 쿵 탕탕 쾅쾅 둥둥 봐 봐라 아이야 아니 와아 응 아이 참나 년 월 일 령 영 일 이 삼 사 오 육 륙 칠 팔 구 이천육 이천칠 이천팔 이천구 하나 둘 셋 넷 다섯 여섯 일곱 여덟 아홉 령 영 이 있 하 것 들 그 되 수 이 보 않 없 나 사람 주 아니 등 같 우리 때 년 가 한 지 대하 오 말 일 그렇 위하 때문 그것 두 말하 알 그러나 받 못하 일 그런 또 문제 더 사회 많 그리고 좋 크 따르 중 나오 가지 씨 시키 만들 지금 생각하 그러 속 하나 집 살 모르 적 월 데 자신 안 어떤 내 내 경우 명 생각 시간 그녀 다시 이런 앞 보이 번 나 다른 어떻 여자 개 전 들 사실 이렇 점 싶 말 정도 좀 원 잘 통하 놓'\n",
    "\n",
    "stoplist = stoptext.split(\" \")"
   ],
   "metadata": {
    "collapsed": false,
    "ExecuteTime": {
     "end_time": "2024-02-15T03:05:58.247607Z",
     "start_time": "2024-02-15T03:05:58.239127500Z"
    }
   },
   "id": "1c265a39d9536ac0",
   "execution_count": 27
  },
  {
   "cell_type": "code",
   "outputs": [
    {
     "data": {
      "text/plain": "<Figure size 640x480 with 1 Axes>",
      "image/png": "[encoded data removed]"
     },
     "metadata": {},
     "output_type": "display_data"
    }
   ],
   "source": [
    "img_mask = np.array(Image.open('butterfly.jpg'))\n",
    "df = pd.read_csv(\"totalReviewList.csv\")\n",
    "df_devonly = df[df['리뷰어분야'].isin(['데이터'])]\n",
    "\n",
    "df_devonly['회사명'].unique().tolist()\n",
    "ax, fig = plt.subplots()\n",
    "def wordclouddraw(company = None):\n",
    "    for idxcategory, category in enumerate(['좋은점', '나쁜점', '제목']):\n",
    "        text = \" \".join(map(str, df_devonly[df_devonly['회사명'] == company][category].values.tolist())) if company else \" \".join(map(str, df_devonly[category].values.tolist()))\n",
    "        \n",
    "        okt = Okt()\n",
    "        \n",
    "        sentences_tag = []\n",
    "        sentences_tag = okt.pos(text)\n",
    "        \n",
    "        noun_adj_list = list()\n",
    "        for word, tag in sentences_tag:\n",
    "            if tag in [\n",
    "                'Noun', \n",
    "                'Adjective'\n",
    "            ]:\n",
    "                noun_adj_list.append(word)\n",
    "                \n",
    "        # print(noun_adj_list)\n",
    "        counts = Counter(noun_adj_list)\n",
    "        tags = counts.most_common(100)\n",
    "        print(tag)\n",
    "        path = 'c:/Windows/Fonts/NanumBarunGothic.ttf'\n",
    "        \n",
    "        \n",
    "        \n",
    "        wordcloud = WordCloud(\n",
    "            font_path=path,\n",
    "            width=400,\n",
    "            height=400,\n",
    "            background_color='white',\n",
    "            max_font_size=200,\n",
    "            repeat=False,\n",
    "            colormap='winter',\n",
    "            mask=img_mask,\n",
    "            stopwords=stoplist\n",
    "        ).generate_from_frequencies(dict(tags))\n",
    "    \n",
    "        titleTxt = (company + \" \" + category) if company else category\n",
    "        # plt.axes(ax[idxcategory])\n",
    "        plt.figure(figsize=(10,8), dpi=300)\n",
    "        plt.axis('off')\n",
    "        plt.title(titleTxt, fontsize=25 , fontweight='bold', color = 'black')\n",
    "        plt.imshow(wordcloud)\n",
    "        os.mkdir('resultimg') if 'resultimg' not in os.listdir() else \"\"\n",
    "    \n",
    "        plt.savefig('./resultimg/' + titleTxt + '.png', dpi = 200)\n",
    "        plt.close()\n",
    "        "
   ],
   "metadata": {
    "collapsed": false,
    "ExecuteTime": {
     "end_time": "2024-02-15T04:24:36.778401600Z",
     "start_time": "2024-02-15T04:24:36.609427900Z"
    }
   },
   "id": "66ba2d87068e42ae",
   "execution_count": 43
  },
  {
   "cell_type": "code",
   "outputs": [
    {
     "name": "stdout",
     "output_type": "stream",
     "text": [
      "Punctuation\n",
      "Punctuation\n",
      "Punctuation\n",
      "Punctuation\n",
      "Noun\n",
      "Noun\n",
      "Punctuation\n",
      "Punctuation\n",
      "Punctuation\n",
      "Punctuation\n",
      "Punctuation\n",
      "Punctuation\n",
      "Suffix\n",
      "Noun\n",
      "Noun\n",
      "Punctuation\n",
      "Punctuation\n",
      "Punctuation\n",
      "Adjective\n",
      "Punctuation\n",
      "Noun\n",
      "Verb\n",
      "Adjective\n",
      "Verb\n",
      "Noun\n",
      "Noun\n",
      "Noun\n",
      "Punctuation\n",
      "Punctuation\n",
      "Punctuation\n",
      "Noun\n",
      "Adverb\n",
      "Noun\n",
      "Adjective\n",
      "Verb\n",
      "Noun\n",
      "Punctuation\n",
      "Punctuation\n",
      "Punctuation\n",
      "Punctuation\n",
      "Punctuation\n",
      "Punctuation\n",
      "Punctuation\n",
      "Punctuation\n",
      "Noun\n",
      "Adjective\n",
      "Punctuation\n",
      "Verb\n",
      "Punctuation\n",
      "Punctuation\n",
      "Punctuation\n",
      "Punctuation\n",
      "Punctuation\n",
      "Punctuation\n",
      "Josa\n",
      "Adjective\n",
      "Noun\n",
      "Adjective\n",
      "Noun\n",
      "Punctuation\n",
      "Noun\n",
      "Suffix\n",
      "Noun\n",
      "Noun\n",
      "Adjective\n",
      "Punctuation\n",
      "Punctuation\n",
      "Punctuation\n",
      "Punctuation\n",
      "Verb\n",
      "Verb\n",
      "Adjective\n",
      "Punctuation\n",
      "Punctuation\n",
      "Punctuation\n",
      "Punctuation\n",
      "Punctuation\n",
      "Punctuation\n",
      "Adjective\n",
      "Verb\n",
      "Punctuation\n",
      "Noun\n",
      "Adjective\n",
      "Verb\n",
      "Suffix\n",
      "Noun\n",
      "Verb\n",
      "Noun\n",
      "Verb\n",
      "Noun\n",
      "Adjective\n",
      "Adjective\n",
      "Adjective\n",
      "Punctuation\n",
      "Punctuation\n",
      "Punctuation\n",
      "Noun\n",
      "Noun\n",
      "Noun\n",
      "Punctuation\n",
      "Punctuation\n",
      "Punctuation\n",
      "Adjective\n",
      "Noun\n",
      "Verb\n",
      "Adjective\n",
      "Punctuation\n",
      "Adjective\n"
     ]
    },
    {
     "data": {
      "text/plain": "<Figure size 640x480 with 1 Axes>",
      "image/png": "[encoded data removed]"
     },
     "metadata": {},
     "output_type": "display_data"
    }
   ],
   "source": [
    "\n",
    "for company in df_devonly['회사명'].unique().tolist():\n",
    "    # fig, ax = plt.subplots(1,3, figsize=(10, 10))\n",
    "    wordclouddraw(company)\n",
    "    # plt.savefig('./resultimg/' + company + '.png', dpi = 200)\n",
    "    # plt.close()"
   ],
   "metadata": {
    "collapsed": false,
    "ExecuteTime": {
     "end_time": "2024-02-15T04:23:53.602640800Z",
     "start_time": "2024-02-15T04:22:14.552933800Z"
    }
   },
   "id": "933deb0800d6eb65",
   "execution_count": 42
  },
  {
   "cell_type": "code",
   "outputs": [
    {
     "name": "stdout",
     "output_type": "stream",
     "text": [
      "Adjective\n",
      "Punctuation\n",
      "Adjective\n"
     ]
    }
   ],
   "source": [
    "wordclouddraw()"
   ],
   "metadata": {
    "collapsed": false,
    "ExecuteTime": {
     "end_time": "2024-02-15T04:24:52.549366900Z",
     "start_time": "2024-02-15T04:24:43.608384200Z"
    }
   },
   "id": "68ca83f15d404ce2",
   "execution_count": 44
  }
 ],
 "metadata": {
  "kernelspec": {
   "display_name": "Python 3",
   "language": "python",
   "name": "python3"
  },
  "language_info": {
   "codemirror_mode": {
    "name": "ipython",
    "version": 2
   },
   "file_extension": ".py",
   "mimetype": "text/x-python",
   "name": "python",
   "nbconvert_exporter": "python",
   "pygments_lexer": "ipython2",
   "version": "2.7.6"
  }
 },
 "nbformat": 4,
 "nbformat_minor": 5
}
