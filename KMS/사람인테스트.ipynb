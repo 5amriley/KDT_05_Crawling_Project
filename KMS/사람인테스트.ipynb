{
 "cells": [
  {
   "cell_type": "markdown",
   "source": [
    "## 사용할 모듈 미리 로딩"
   ],
   "metadata": {
    "collapsed": false
   },
   "id": "2b7f2e244a0f9720"
  },
  {
   "cell_type": "code",
   "execution_count": 1,
   "id": "ff2517772120d0c9",
   "metadata": {
    "collapsed": false,
    "ExecuteTime": {
     "end_time": "2024-02-14T07:19:16.785166700Z",
     "start_time": "2024-02-14T07:19:16.562526800Z"
    }
   },
   "outputs": [],
   "source": [
    "import pandas as pd\n",
    "import requests\n",
    "import matplotlib.pyplot as plt\n",
    "import matplotlib as mpl\n",
    "import seaborn as sns\n",
    "from bs4 import BeautifulSoup\n",
    "from konlpy.tag import Okt\n",
    "from collections import Counter\n",
    "from wordcloud import WordCloud\n",
    "import time\n",
    "import platform\n",
    "import numpy as np\n",
    "import random\n",
    "import os\n",
    "import shutil\n",
    "from PIL import Image\n",
    "import collections\n",
    "if not hasattr(collections, 'Callable'):\n",
    "    collections.Callable = collections.abc.Callable\n",
    "\n",
    "\n",
    "from sqlalchemy.sql import text as Text\n",
    "from sqlalchemy import create_engine\n",
    "from sqlalchemy import engine"
   ]
  },
  {
   "cell_type": "markdown",
   "source": [
    "## 데이터베이스(선택) 및 유저 에이전트"
   ],
   "metadata": {
    "collapsed": false
   },
   "id": "6277347331870f30"
  },
  {
   "cell_type": "code",
   "outputs": [],
   "source": [
    "\n",
    "header = {\n",
    "    'User-Agent': 'Mozilla/5.0 (Windows NT 10.0; Win64; x64) AppleWebKit/537.36 (KHTML, like Gecko) Chrome/91.0.4472.124 Safari/537.36'\n",
    "}\n",
    "\n",
    "sqlinfo = engine.URL.create(\n",
    "    drivername='mysql+pymysql',\n",
    "    username = 'kdt5',\n",
    "    password = 'q1@q1@q1@',\n",
    "    database = 'webcrawling',\n",
    "    query = {'charset':'utf8mb4'},\n",
    "    host = \"kdt5.mysql.database.azure.com\",\n",
    ")\n",
    "\n",
    "conn = create_engine(sqlinfo,connect_args={'ssl':{\"fake_flag_to_enable_tls\":True}})\n",
    "# cur 사용시 Text 로 쿼리문을 묶어 사용\n",
    "# cur = conn.connect()\n",
    "# result = cur.execute(Text('select * from editors'))\n",
    "# for row in result.fetchall():\n",
    "#     print(row)"
   ],
   "metadata": {
    "collapsed": true,
    "ExecuteTime": {
     "end_time": "2024-02-14T07:19:16.819420600Z",
     "start_time": "2024-02-14T07:19:16.785166700Z"
    }
   },
   "id": "initial_id",
   "execution_count": 2
  },
  {
   "cell_type": "markdown",
   "source": [
    "## 폰트 설정"
   ],
   "metadata": {
    "collapsed": false
   },
   "id": "bf378640b56b994d"
  },
  {
   "cell_type": "code",
   "outputs": [],
   "source": [
    "mpl.rc('font', family='Malgun Gothic')"
   ],
   "metadata": {
    "collapsed": false,
    "ExecuteTime": {
     "end_time": "2024-02-14T07:19:16.826798800Z",
     "start_time": "2024-02-14T07:19:16.819420600Z"
    }
   },
   "id": "95155773cccd77d",
   "execution_count": 3
  },
  {
   "cell_type": "markdown",
   "source": [
    "## sql 판다스 연동하기"
   ],
   "metadata": {
    "collapsed": false
   },
   "id": "416d4db3c3fc41d8"
  },
  {
   "cell_type": "code",
   "outputs": [],
   "source": [
    "# 해당 구문을 활용하여 sql 에서 읽어보세요\n",
    "# pd.read_sql('select * from editors', conn)"
   ],
   "metadata": {
    "collapsed": false,
    "ExecuteTime": {
     "end_time": "2024-02-14T07:19:16.833645600Z",
     "start_time": "2024-02-14T07:19:16.823771800Z"
    }
   },
   "id": "6cb2082d411acfbc",
   "execution_count": 4
  },
  {
   "cell_type": "code",
   "outputs": [],
   "source": [
    "# 해당 구문을 활용하여 sql로 전송해주세요\n",
    "# sqldf = pd.read_sql('select * from editors', conn)\n",
    "# sqldf.to_sql('editors_copied'+str(random.randint(100,1000)), conn, if_exists='replace', index=False)"
   ],
   "metadata": {
    "collapsed": false,
    "ExecuteTime": {
     "end_time": "2024-02-14T07:19:16.833645600Z",
     "start_time": "2024-02-14T07:19:16.827793500Z"
    }
   },
   "id": "c1e81452f6c05cce",
   "execution_count": 5
  },
  {
   "cell_type": "markdown",
   "source": [
    "## requests 활용하기\n",
    "\n",
    "아래처럼 session 으로 만든 다음에 사용하시면  \n",
    "보다 빠르게 웹페이지 크롤링 가능"
   ],
   "metadata": {
    "collapsed": false
   },
   "id": "6da37f81aeb148f9"
  },
  {
   "cell_type": "code",
   "outputs": [],
   "source": [
    "with requests.session() as session:\n",
    "    session.headers.update(header)\n",
    "    # result = session.get(\"url\")"
   ],
   "metadata": {
    "collapsed": false,
    "ExecuteTime": {
     "end_time": "2024-02-14T07:19:16.843187200Z",
     "start_time": "2024-02-14T07:19:16.833645600Z"
    }
   },
   "id": "933deb0800d6eb65",
   "execution_count": 6
  }
 ],
 "metadata": {
  "kernelspec": {
   "display_name": "Python 3",
   "language": "python",
   "name": "python3"
  },
  "language_info": {
   "codemirror_mode": {
    "name": "ipython",
    "version": 2
   },
   "file_extension": ".py",
   "mimetype": "text/x-python",
   "name": "python",
   "nbconvert_exporter": "python",
   "pygments_lexer": "ipython2",
   "version": "2.7.6"
  }
 },
 "nbformat": 4,
 "nbformat_minor": 5
}
