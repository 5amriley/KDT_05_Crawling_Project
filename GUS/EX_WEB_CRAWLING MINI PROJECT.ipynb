{
 "cells": [
  {
   "cell_type": "code",
   "execution_count": 96,
   "id": "initial_id",
   "metadata": {
    "ExecuteTime": {
     "end_time": "2024-02-15T03:23:05.025460500Z",
     "start_time": "2024-02-15T03:23:04.931181100Z"
    }
   },
   "outputs": [],
   "source": [
    "from wordcloud import WordCloud\n",
    "from bs4 import BeautifulSoup\n",
    "import requests\n",
    "from konlpy.tag import Okt\n",
    "from collections import Counter\n",
    "import matplotlib.pyplot as plt\n",
    "import time\n",
    "import platform\n",
    "import numpy as np\n",
    "from PIL import Image\n",
    "import pandas as pd\n",
    "import collections\n",
    "collections.Callable = collections.abc.Callable\n",
    "from selenium import webdriver\n",
    "\n"
   ]
  },
  {
   "cell_type": "code",
   "execution_count": 97,
   "id": "595a681e59ca9eac",
   "metadata": {
    "ExecuteTime": {
     "end_time": "2024-02-15T03:23:05.122154200Z",
     "start_time": "2024-02-15T03:23:05.028334900Z"
    }
   },
   "outputs": [],
   "source": [
    "file=\"stockcompanylist.csv\""
   ]
  },
  {
   "cell_type": "code",
   "execution_count": 98,
   "id": "f3e37d056096cb62",
   "metadata": {
    "ExecuteTime": {
     "end_time": "2024-02-15T03:23:05.149245Z",
     "start_time": "2024-02-15T03:23:05.095562700Z"
    }
   },
   "outputs": [],
   "source": [
    "stockcompanydf=pd.read_csv(file)"
   ]
  },
  {
   "cell_type": "code",
   "execution_count": 99,
   "id": "a5e1ba79d96d2b8c",
   "metadata": {
    "ExecuteTime": {
     "end_time": "2024-02-15T03:23:05.171652400Z",
     "start_time": "2024-02-15T03:23:05.151276300Z"
    }
   },
   "outputs": [
    {
     "data": {
      "text/plain": "         회사명    종목코드                                업종  \\\n0         컨텍  451760           컴퓨터 프로그래밍, 시스템 통합 및 관리업   \n1     크라우드웍스  355390                    소프트웨어 개발 및 공급업   \n2   NICE평가정보   30190                        기타 정보 서비스업   \n3       씨유박스  340810                    소프트웨어 개발 및 공급업   \n4      핑거스토리  417180                        기타 정보 서비스업   \n..       ...     ...                               ...   \n89   키다리스튜디오   20120  자료처리, 호스팅, 포털 및 기타 인터넷 정보매개 서비스업   \n90    대신정보통신   20180           컴퓨터 프로그래밍, 시스템 통합 및 관리업   \n91      신라섬유    1000                 가전제품 및 정보통신장비 소매업   \n92        DB   12030           컴퓨터 프로그래밍, 시스템 통합 및 관리업   \n93     더존비즈온   12510           컴퓨터 프로그래밍, 시스템 통합 및 관리업   \n\n                                                 주요제품                  상장일  \\\n0            지상국 시스템 엔지니어링 솔루션, 위성영상 생성을 위한 데이터처리 솔루션  2023-11-09 00:00:00   \n1                                     인공지능 데이터 구축 서비스  2023-08-31 00:00:00   \n2                                      개인 및 기업정보, 솔루션  2023-08-08 00:00:00   \n3      AI얼굴인식 시스템, AI얼굴인증 솔루션, AI 객체인식 솔루션, AI데이터 플랫폼  2023-05-19 00:00:00   \n4                                     웹툰, 디지털 만화, 웹소설  2022-12-08 00:00:00   \n..                                                ...                  ...   \n89  만화, 소설 등 콘텐츠 제작 및 유통, 판매, 컴퓨터 프로그래밍, 시스템 통합 및 관리업  1996-07-03 00:00:00   \n90                             디지털서비스, SI서비스, 산업용 PDA  1995-10-06 00:00:00   \n91                                                부동산  1994-06-28 00:00:00   \n92                             컴퓨터 프로그래밍, 시스템 통합 및 관리  1993-01-06 00:00:00   \n93                                  응용 소프트웨어 개발 및 공급업  1988-10-28 00:00:00   \n\n                  대표자명                         홈페이지       지역  \n0                  이성희         http://kr.contec.kr/    대전광역시  \n1                  박민우     http://www.crowdworks.kr    서울특별시  \n2                  신희부                          NaN    서울특별시  \n3                  남운성          http://www.cubox.ai    서울특별시  \n4                  라현성     http://www.mootoon.co.kr    서울특별시  \n..                 ...                          ...      ...  \n89                 김영훈  http://www.kidaristudio.com    서울특별시  \n90  이재원, 최현택 (각자 대표이사)        http://www.dsic.co.kr    광주광역시  \n91                 박재흥    http://sillatextile.co.kr    대구광역시  \n92   문덕식,강운식 (각자 대표이사)       http://www.dbinc.co.kr    서울특별시  \n93                 김용우       http://www.douzone.com  강원특별자치도  \n\n[94 rows x 8 columns]",
      "text/html": "<div>\n<style scoped>\n    .dataframe tbody tr th:only-of-type {\n        vertical-align: middle;\n    }\n\n    .dataframe tbody tr th {\n        vertical-align: top;\n    }\n\n    .dataframe thead th {\n        text-align: right;\n    }\n</style>\n<table border=\"1\" class=\"dataframe\">\n  <thead>\n    <tr style=\"text-align: right;\">\n      <th></th>\n      <th>회사명</th>\n      <th>종목코드</th>\n      <th>업종</th>\n      <th>주요제품</th>\n      <th>상장일</th>\n      <th>대표자명</th>\n      <th>홈페이지</th>\n      <th>지역</th>\n    </tr>\n  </thead>\n  <tbody>\n    <tr>\n      <th>0</th>\n      <td>컨텍</td>\n      <td>451760</td>\n      <td>컴퓨터 프로그래밍, 시스템 통합 및 관리업</td>\n      <td>지상국 시스템 엔지니어링 솔루션, 위성영상 생성을 위한 데이터처리 솔루션</td>\n      <td>2023-11-09 00:00:00</td>\n      <td>이성희</td>\n      <td>http://kr.contec.kr/</td>\n      <td>대전광역시</td>\n    </tr>\n    <tr>\n      <th>1</th>\n      <td>크라우드웍스</td>\n      <td>355390</td>\n      <td>소프트웨어 개발 및 공급업</td>\n      <td>인공지능 데이터 구축 서비스</td>\n      <td>2023-08-31 00:00:00</td>\n      <td>박민우</td>\n      <td>http://www.crowdworks.kr</td>\n      <td>서울특별시</td>\n    </tr>\n    <tr>\n      <th>2</th>\n      <td>NICE평가정보</td>\n      <td>30190</td>\n      <td>기타 정보 서비스업</td>\n      <td>개인 및 기업정보, 솔루션</td>\n      <td>2023-08-08 00:00:00</td>\n      <td>신희부</td>\n      <td>NaN</td>\n      <td>서울특별시</td>\n    </tr>\n    <tr>\n      <th>3</th>\n      <td>씨유박스</td>\n      <td>340810</td>\n      <td>소프트웨어 개발 및 공급업</td>\n      <td>AI얼굴인식 시스템, AI얼굴인증 솔루션, AI 객체인식 솔루션, AI데이터 플랫폼</td>\n      <td>2023-05-19 00:00:00</td>\n      <td>남운성</td>\n      <td>http://www.cubox.ai</td>\n      <td>서울특별시</td>\n    </tr>\n    <tr>\n      <th>4</th>\n      <td>핑거스토리</td>\n      <td>417180</td>\n      <td>기타 정보 서비스업</td>\n      <td>웹툰, 디지털 만화, 웹소설</td>\n      <td>2022-12-08 00:00:00</td>\n      <td>라현성</td>\n      <td>http://www.mootoon.co.kr</td>\n      <td>서울특별시</td>\n    </tr>\n    <tr>\n      <th>...</th>\n      <td>...</td>\n      <td>...</td>\n      <td>...</td>\n      <td>...</td>\n      <td>...</td>\n      <td>...</td>\n      <td>...</td>\n      <td>...</td>\n    </tr>\n    <tr>\n      <th>89</th>\n      <td>키다리스튜디오</td>\n      <td>20120</td>\n      <td>자료처리, 호스팅, 포털 및 기타 인터넷 정보매개 서비스업</td>\n      <td>만화, 소설 등 콘텐츠 제작 및 유통, 판매, 컴퓨터 프로그래밍, 시스템 통합 및 관리업</td>\n      <td>1996-07-03 00:00:00</td>\n      <td>김영훈</td>\n      <td>http://www.kidaristudio.com</td>\n      <td>서울특별시</td>\n    </tr>\n    <tr>\n      <th>90</th>\n      <td>대신정보통신</td>\n      <td>20180</td>\n      <td>컴퓨터 프로그래밍, 시스템 통합 및 관리업</td>\n      <td>디지털서비스, SI서비스, 산업용 PDA</td>\n      <td>1995-10-06 00:00:00</td>\n      <td>이재원, 최현택 (각자 대표이사)</td>\n      <td>http://www.dsic.co.kr</td>\n      <td>광주광역시</td>\n    </tr>\n    <tr>\n      <th>91</th>\n      <td>신라섬유</td>\n      <td>1000</td>\n      <td>가전제품 및 정보통신장비 소매업</td>\n      <td>부동산</td>\n      <td>1994-06-28 00:00:00</td>\n      <td>박재흥</td>\n      <td>http://sillatextile.co.kr</td>\n      <td>대구광역시</td>\n    </tr>\n    <tr>\n      <th>92</th>\n      <td>DB</td>\n      <td>12030</td>\n      <td>컴퓨터 프로그래밍, 시스템 통합 및 관리업</td>\n      <td>컴퓨터 프로그래밍, 시스템 통합 및 관리</td>\n      <td>1993-01-06 00:00:00</td>\n      <td>문덕식,강운식 (각자 대표이사)</td>\n      <td>http://www.dbinc.co.kr</td>\n      <td>서울특별시</td>\n    </tr>\n    <tr>\n      <th>93</th>\n      <td>더존비즈온</td>\n      <td>12510</td>\n      <td>컴퓨터 프로그래밍, 시스템 통합 및 관리업</td>\n      <td>응용 소프트웨어 개발 및 공급업</td>\n      <td>1988-10-28 00:00:00</td>\n      <td>김용우</td>\n      <td>http://www.douzone.com</td>\n      <td>강원특별자치도</td>\n    </tr>\n  </tbody>\n</table>\n<p>94 rows × 8 columns</p>\n</div>"
     },
     "execution_count": 99,
     "metadata": {},
     "output_type": "execute_result"
    }
   ],
   "source": [
    "stockcompanydf"
   ]
  },
  {
   "cell_type": "code",
   "execution_count": 100,
   "id": "555f7cc9bea3b6e9",
   "metadata": {
    "ExecuteTime": {
     "end_time": "2024-02-15T03:23:05.203659900Z",
     "start_time": "2024-02-15T03:23:05.171652400Z"
    }
   },
   "outputs": [],
   "source": [
    "codenum=stockcompanydf['종목코드'].astype(str)"
   ]
  },
  {
   "cell_type": "code",
   "execution_count": 101,
   "id": "fb85bff7fd1841d9",
   "metadata": {
    "ExecuteTime": {
     "end_time": "2024-02-15T03:23:05.204676700Z",
     "start_time": "2024-02-15T03:23:05.176443600Z"
    }
   },
   "outputs": [
    {
     "data": {
      "text/plain": "0     451760\n1     355390\n2      30190\n3     340810\n4     417180\n       ...  \n89     20120\n90     20180\n91      1000\n92     12030\n93     12510\nName: 종목코드, Length: 94, dtype: object"
     },
     "execution_count": 101,
     "metadata": {},
     "output_type": "execute_result"
    }
   ],
   "source": [
    "codenum"
   ]
  },
  {
   "cell_type": "code",
   "execution_count": 102,
   "id": "3b5927e21e036bb",
   "metadata": {
    "ExecuteTime": {
     "end_time": "2024-02-15T03:23:05.285600600Z",
     "start_time": "2024-02-15T03:23:05.209775300Z"
    }
   },
   "outputs": [
    {
     "name": "stdout",
     "output_type": "stream",
     "text": [
      "<class 'pandas.core.series.Series'>\n",
      "RangeIndex: 94 entries, 0 to 93\n",
      "Series name: 종목코드\n",
      "Non-Null Count  Dtype \n",
      "--------------  ----- \n",
      "94 non-null     object\n",
      "dtypes: object(1)\n",
      "memory usage: 884.0+ bytes\n"
     ]
    }
   ],
   "source": [
    "codenum.info()"
   ]
  },
  {
   "cell_type": "code",
   "execution_count": 103,
   "id": "76de8dd153c2f080",
   "metadata": {
    "ExecuteTime": {
     "end_time": "2024-02-15T03:23:05.341046300Z",
     "start_time": "2024-02-15T03:23:05.232463500Z"
    }
   },
   "outputs": [],
   "source": [
    "codelist=[]\n",
    "for code in codenum:\n",
    "    if len(code)==4:\n",
    "        codelist.append('00'+code)\n",
    "    elif len(code)==5:\n",
    "        codelist.append('0'+code)\n",
    "    else:\n",
    "        codelist.append(code)\n",
    "        \n",
    "        "
   ]
  },
  {
   "cell_type": "code",
   "execution_count": 104,
   "id": "7849ce73b1fddb56",
   "metadata": {
    "ExecuteTime": {
     "end_time": "2024-02-15T03:23:05.372864600Z",
     "start_time": "2024-02-15T03:23:05.321987100Z"
    }
   },
   "outputs": [
    {
     "data": {
      "text/plain": "['451760',\n '355390',\n '030190',\n '340810',\n '417180',\n '424760',\n '402030',\n '357880',\n '377450',\n '352910',\n '303530',\n '294570',\n '351330',\n '189330',\n '321820',\n '064850',\n '301300',\n '337930',\n '304100',\n '065370',\n '062970',\n '226330',\n '328380',\n '300080',\n '234340',\n '307870',\n '267850',\n '173130',\n '286940',\n '042000',\n '234300',\n '035720',\n '243870',\n '250060',\n '239340',\n '127710',\n '067730',\n '214180',\n '124500',\n '207760',\n '018260',\n '121060',\n '143240',\n '139050',\n '071840',\n '136540',\n '093320',\n '058860',\n '030790',\n '058850',\n '067920',\n '115500',\n '035420',\n '092130',\n '032640',\n '067010',\n '072770',\n '089150',\n '089230',\n '039290',\n '035510',\n '075130',\n '052220',\n '052460',\n '078000',\n '070590',\n '060570',\n '037270',\n '072130',\n '066980',\n '039980',\n '042500',\n '040350',\n '060250',\n '053590',\n '049480',\n '038540',\n '043610',\n '038680',\n '010280',\n '036120',\n '007120',\n '033230',\n '030200',\n '023590',\n '033130',\n '032680',\n '028080',\n '031820',\n '020120',\n '020180',\n '001000',\n '012030',\n '012510']"
     },
     "execution_count": 104,
     "metadata": {},
     "output_type": "execute_result"
    }
   ],
   "source": [
    "codelist"
   ]
  },
  {
   "cell_type": "code",
   "execution_count": 105,
   "id": "b2af4dd60f4fe6cb",
   "metadata": {
    "ExecuteTime": {
     "end_time": "2024-02-15T03:23:05.413790800Z",
     "start_time": "2024-02-15T03:23:05.349263300Z"
    }
   },
   "outputs": [
    {
     "data": {
      "text/plain": "94"
     },
     "execution_count": 105,
     "metadata": {},
     "output_type": "execute_result"
    }
   ],
   "source": [
    "len(codelist)"
   ]
  },
  {
   "cell_type": "code",
   "execution_count": 105,
   "id": "93bc891eedb9dd26",
   "metadata": {
    "ExecuteTime": {
     "end_time": "2024-02-15T03:23:05.452657800Z",
     "start_time": "2024-02-15T03:23:05.414895200Z"
    }
   },
   "outputs": [],
   "source": []
  },
  {
   "cell_type": "code",
   "execution_count": 106,
   "id": "790a14c73a2c4cbd",
   "metadata": {
    "ExecuteTime": {
     "end_time": "2024-02-15T03:23:05.484887300Z",
     "start_time": "2024-02-15T03:23:05.439290900Z"
    }
   },
   "outputs": [],
   "source": [
    "urllist=[]\n",
    "for i in range(0,len(codelist)):\n",
    "    urllist.append(\"https://finance.naver.com/item/main.naver?code=\"+codelist[i])\n",
    "\n"
   ]
  },
  {
   "cell_type": "markdown",
   "id": "c6f5e218c41f7aac",
   "metadata": {},
   "source": []
  },
  {
   "cell_type": "code",
   "execution_count": 107,
   "id": "3f028a4d2ed0f749",
   "metadata": {
    "ExecuteTime": {
     "end_time": "2024-02-15T03:23:11.401298200Z",
     "start_time": "2024-02-15T03:23:05.485945200Z"
    }
   },
   "outputs": [],
   "source": [
    "driver = webdriver.Chrome()"
   ]
  },
  {
   "cell_type": "code",
   "execution_count": 108,
   "id": "d6ab1d995403d3d5",
   "metadata": {
    "ExecuteTime": {
     "end_time": "2024-02-15T03:23:11.417167800Z",
     "start_time": "2024-02-15T03:23:11.402322900Z"
    }
   },
   "outputs": [
    {
     "data": {
      "text/plain": "'https://finance.naver.com/item/main.naver?code=451760'"
     },
     "execution_count": 108,
     "metadata": {},
     "output_type": "execute_result"
    }
   ],
   "source": [
    "urllist[0]"
   ]
  },
  {
   "cell_type": "code",
   "execution_count": 109,
   "id": "d2fa3a19c1491e89",
   "metadata": {
    "ExecuteTime": {
     "end_time": "2024-02-15T03:26:46.541222500Z",
     "start_time": "2024-02-15T03:23:11.406461Z"
    }
   },
   "outputs": [],
   "source": [
    "webpages = []\n",
    "for finalurl in urllist:\n",
    "    driver.get(finalurl)\n",
    "    time.sleep(2)\n",
    "    webpages.append(driver.page_source)\n",
    "   \n",
    "   \n",
    "   \n",
    "    "
   ]
  },
  {
   "cell_type": "code",
   "outputs": [],
   "source": [
    "driver.quit()"
   ],
   "metadata": {
    "collapsed": false,
    "ExecuteTime": {
     "end_time": "2024-02-15T03:26:48.714333800Z",
     "start_time": "2024-02-15T03:26:46.544629700Z"
    }
   },
   "id": "75b0800a4e3ccec6",
   "execution_count": 110
  },
  {
   "cell_type": "code",
   "execution_count": 111,
   "id": "b8a458bef410ba06",
   "metadata": {
    "ExecuteTime": {
     "end_time": "2024-02-15T03:26:48.720152800Z",
     "start_time": "2024-02-15T03:26:48.716543900Z"
    }
   },
   "outputs": [],
   "source": [
    "import pickle\n",
    "# with open('stockcompanylist.pickle', 'rb') as f:\n",
    "#     pickle.load(f)\n",
    "\n",
    "# with open('stockcompanylist.pickle', 'wb') as f:\n",
    "#     pickle.dump(webpages, f)"
   ]
  },
  {
   "cell_type": "code",
   "execution_count": 112,
   "id": "506544ffe947fc91",
   "metadata": {
    "collapsed": false,
    "ExecuteTime": {
     "end_time": "2024-02-15T03:26:54.057352100Z",
     "start_time": "2024-02-15T03:26:48.724671100Z"
    }
   },
   "outputs": [],
   "source": [
    "save = BeautifulSoup(webpages[10],'lxml')\n",
    "with open('test.html' ,'r', encoding='euc-kr') as f:\n",
    "    save = BeautifulSoup(f.read(), 'lxml')\n",
    "colname = ['기업이름']\n",
    "rows = []\n",
    "for number in range(10,24): #8, 24\n",
    "    colname.append(save.select_one('th.h_th2.th_cop_anal{}'.format(number)).get_text())\n",
    "\n",
    "for webpage in webpages:\n",
    "    tmpsoup = BeautifulSoup(webpage, 'lxml')\n",
    "    row = [tmpsoup.select_one('title').get_text().split(':')[0].strip()]\n",
    "    tmptmp = []\n",
    "    for number in range(10,24):\n",
    "        tmprow = tmpsoup.select_one('th.h_th2.th_cop_anal{}'.format(number))\n",
    "        if tmprow:\n",
    "            tmptmp.append(tmprow.parent.select('td')[2].get_text().strip().replace(',',''))\n",
    "        else:\n",
    "            tmptmp.append(None)\n",
    "    row.extend(tmptmp)\n",
    "    rows.append(row)"
   ]
  },
  {
   "cell_type": "code",
   "outputs": [],
   "source": [
    "\n",
    "df = pd.DataFrame(rows)\n",
    "df.columns = colname\n",
    "df[df.columns[1:]] = df[df.columns[1:]].apply(lambda x : pd.to_numeric(x, errors='coerce'))\n",
    "        "
   ],
   "metadata": {
    "ExecuteTime": {
     "end_time": "2024-02-15T03:26:54.060580500Z",
     "start_time": "2024-02-15T03:26:54.049166Z"
    }
   },
   "id": "752e718367f0010",
   "execution_count": 113
  },
  {
   "cell_type": "code",
   "outputs": [],
   "source": [
    "colname = ['기업이름',\n",
    " '당기순이익(억원)',\n",
    " '영업이익률(%)',\n",
    " '순이익률(%)',\n",
    " 'ROE(지배주주)(%)',\n",
    " '부채비율(%)',\n",
    " '당좌비율(%)',\n",
    " 'PER(배)',\n",
    " 'BPS(원)',\n",
    " 'PBR(원)',\n",
    " '주당배당금(원)',\n",
    " 'PBR(배)',\n",
    " '주당배당금(원)',\n",
    " '시가배당률(%)',\n",
    " '배당성향(%)']"
   ],
   "metadata": {
    "collapsed": false,
    "ExecuteTime": {
     "end_time": "2024-02-15T03:26:54.081083300Z",
     "start_time": "2024-02-15T03:26:54.061690600Z"
    }
   },
   "id": "e657af765e2e4785",
   "execution_count": 114
  },
  {
   "cell_type": "code",
   "outputs": [],
   "source": [
    "df.columns = colname"
   ],
   "metadata": {
    "collapsed": false,
    "ExecuteTime": {
     "end_time": "2024-02-15T03:26:54.082092900Z",
     "start_time": "2024-02-15T03:26:54.068243300Z"
    }
   },
   "id": "dea1c2075e14eb3f",
   "execution_count": 115
  },
  {
   "cell_type": "code",
   "outputs": [
    {
     "data": {
      "text/plain": "        기업이름  당기순이익(억원)  영업이익률(%)  순이익률(%)  ROE(지배주주)(%)  부채비율(%)  당좌비율(%)  \\\n0         컨텍     -207.0    -14.56  -162.26         98.43  -368.00    52.00   \n1     크라우드웍스     -134.0    -53.03  -112.96         97.06   313.28   115.30   \n2   NICE평가정보      527.0     14.92    10.98         16.39    40.82   192.32   \n3       씨유박스      -83.0    -37.71   -49.38       -130.25   813.46    73.76   \n4      핑거스토리      -36.0      5.67   -20.71        -39.36    32.64   483.56   \n..       ...        ...       ...      ...           ...      ...      ...   \n89   키다리스튜디오      -25.0      2.52    -1.50         -1.14    37.92   152.59   \n90    대신정보통신       -0.0      1.83    -0.02         -0.17   197.64    77.27   \n91      신라섬유       -0.0     10.49    -0.81         -0.23   107.48     5.84   \n92        DB       57.0      5.88     1.42          1.58    45.38    98.64   \n93     더존비즈온      231.0     14.96     7.58          5.15    89.94    98.65   \n\n     PER(배)  BPS(원)   PBR(원)  주당배당금(원)   PBR(배)  주당배당금(원)  시가배당률(%)  배당성향(%)  \n0  -6660.52 -3153.0  -4494.0       0.0     0.00      0.00      0.00     0.00  \n1     29.21 -3629.0   1087.0       0.0     0.00      0.00      0.00     0.00  \n2   1053.36   868.0   5733.0     370.0    14.06      0.60      3.03    41.85  \n3    -69.22  -972.0    476.0       0.0     0.00      0.00      0.00     0.00  \n4    983.13  -273.0   1083.0       0.0   -26.97      6.80      0.00     0.00  \n..      ...     ...      ...       ...      ...       ...       ...      ...  \n89  1301.91   -78.0   7338.0      50.0  -117.58      1.25      0.55   -65.46  \n90    49.38    -1.0    744.0      20.0  -881.31      1.49      1.80 -1589.38  \n91   534.01    -1.0    634.0       0.0 -1317.52      3.07      0.00     0.00  \n92   222.14    28.0   1492.0       0.0    28.28      0.54      0.00     0.00  \n93  3139.85   757.0  14769.0     123.0    48.70      2.50      0.33    30.21  \n\n[94 rows x 15 columns]",
      "text/html": "<div>\n<style scoped>\n    .dataframe tbody tr th:only-of-type {\n        vertical-align: middle;\n    }\n\n    .dataframe tbody tr th {\n        vertical-align: top;\n    }\n\n    .dataframe thead th {\n        text-align: right;\n    }\n</style>\n<table border=\"1\" class=\"dataframe\">\n  <thead>\n    <tr style=\"text-align: right;\">\n      <th></th>\n      <th>기업이름</th>\n      <th>당기순이익(억원)</th>\n      <th>영업이익률(%)</th>\n      <th>순이익률(%)</th>\n      <th>ROE(지배주주)(%)</th>\n      <th>부채비율(%)</th>\n      <th>당좌비율(%)</th>\n      <th>PER(배)</th>\n      <th>BPS(원)</th>\n      <th>PBR(원)</th>\n      <th>주당배당금(원)</th>\n      <th>PBR(배)</th>\n      <th>주당배당금(원)</th>\n      <th>시가배당률(%)</th>\n      <th>배당성향(%)</th>\n    </tr>\n  </thead>\n  <tbody>\n    <tr>\n      <th>0</th>\n      <td>컨텍</td>\n      <td>-207.0</td>\n      <td>-14.56</td>\n      <td>-162.26</td>\n      <td>98.43</td>\n      <td>-368.00</td>\n      <td>52.00</td>\n      <td>-6660.52</td>\n      <td>-3153.0</td>\n      <td>-4494.0</td>\n      <td>0.0</td>\n      <td>0.00</td>\n      <td>0.00</td>\n      <td>0.00</td>\n      <td>0.00</td>\n    </tr>\n    <tr>\n      <th>1</th>\n      <td>크라우드웍스</td>\n      <td>-134.0</td>\n      <td>-53.03</td>\n      <td>-112.96</td>\n      <td>97.06</td>\n      <td>313.28</td>\n      <td>115.30</td>\n      <td>29.21</td>\n      <td>-3629.0</td>\n      <td>1087.0</td>\n      <td>0.0</td>\n      <td>0.00</td>\n      <td>0.00</td>\n      <td>0.00</td>\n      <td>0.00</td>\n    </tr>\n    <tr>\n      <th>2</th>\n      <td>NICE평가정보</td>\n      <td>527.0</td>\n      <td>14.92</td>\n      <td>10.98</td>\n      <td>16.39</td>\n      <td>40.82</td>\n      <td>192.32</td>\n      <td>1053.36</td>\n      <td>868.0</td>\n      <td>5733.0</td>\n      <td>370.0</td>\n      <td>14.06</td>\n      <td>0.60</td>\n      <td>3.03</td>\n      <td>41.85</td>\n    </tr>\n    <tr>\n      <th>3</th>\n      <td>씨유박스</td>\n      <td>-83.0</td>\n      <td>-37.71</td>\n      <td>-49.38</td>\n      <td>-130.25</td>\n      <td>813.46</td>\n      <td>73.76</td>\n      <td>-69.22</td>\n      <td>-972.0</td>\n      <td>476.0</td>\n      <td>0.0</td>\n      <td>0.00</td>\n      <td>0.00</td>\n      <td>0.00</td>\n      <td>0.00</td>\n    </tr>\n    <tr>\n      <th>4</th>\n      <td>핑거스토리</td>\n      <td>-36.0</td>\n      <td>5.67</td>\n      <td>-20.71</td>\n      <td>-39.36</td>\n      <td>32.64</td>\n      <td>483.56</td>\n      <td>983.13</td>\n      <td>-273.0</td>\n      <td>1083.0</td>\n      <td>0.0</td>\n      <td>-26.97</td>\n      <td>6.80</td>\n      <td>0.00</td>\n      <td>0.00</td>\n    </tr>\n    <tr>\n      <th>...</th>\n      <td>...</td>\n      <td>...</td>\n      <td>...</td>\n      <td>...</td>\n      <td>...</td>\n      <td>...</td>\n      <td>...</td>\n      <td>...</td>\n      <td>...</td>\n      <td>...</td>\n      <td>...</td>\n      <td>...</td>\n      <td>...</td>\n      <td>...</td>\n      <td>...</td>\n    </tr>\n    <tr>\n      <th>89</th>\n      <td>키다리스튜디오</td>\n      <td>-25.0</td>\n      <td>2.52</td>\n      <td>-1.50</td>\n      <td>-1.14</td>\n      <td>37.92</td>\n      <td>152.59</td>\n      <td>1301.91</td>\n      <td>-78.0</td>\n      <td>7338.0</td>\n      <td>50.0</td>\n      <td>-117.58</td>\n      <td>1.25</td>\n      <td>0.55</td>\n      <td>-65.46</td>\n    </tr>\n    <tr>\n      <th>90</th>\n      <td>대신정보통신</td>\n      <td>-0.0</td>\n      <td>1.83</td>\n      <td>-0.02</td>\n      <td>-0.17</td>\n      <td>197.64</td>\n      <td>77.27</td>\n      <td>49.38</td>\n      <td>-1.0</td>\n      <td>744.0</td>\n      <td>20.0</td>\n      <td>-881.31</td>\n      <td>1.49</td>\n      <td>1.80</td>\n      <td>-1589.38</td>\n    </tr>\n    <tr>\n      <th>91</th>\n      <td>신라섬유</td>\n      <td>-0.0</td>\n      <td>10.49</td>\n      <td>-0.81</td>\n      <td>-0.23</td>\n      <td>107.48</td>\n      <td>5.84</td>\n      <td>534.01</td>\n      <td>-1.0</td>\n      <td>634.0</td>\n      <td>0.0</td>\n      <td>-1317.52</td>\n      <td>3.07</td>\n      <td>0.00</td>\n      <td>0.00</td>\n    </tr>\n    <tr>\n      <th>92</th>\n      <td>DB</td>\n      <td>57.0</td>\n      <td>5.88</td>\n      <td>1.42</td>\n      <td>1.58</td>\n      <td>45.38</td>\n      <td>98.64</td>\n      <td>222.14</td>\n      <td>28.0</td>\n      <td>1492.0</td>\n      <td>0.0</td>\n      <td>28.28</td>\n      <td>0.54</td>\n      <td>0.00</td>\n      <td>0.00</td>\n    </tr>\n    <tr>\n      <th>93</th>\n      <td>더존비즈온</td>\n      <td>231.0</td>\n      <td>14.96</td>\n      <td>7.58</td>\n      <td>5.15</td>\n      <td>89.94</td>\n      <td>98.65</td>\n      <td>3139.85</td>\n      <td>757.0</td>\n      <td>14769.0</td>\n      <td>123.0</td>\n      <td>48.70</td>\n      <td>2.50</td>\n      <td>0.33</td>\n      <td>30.21</td>\n    </tr>\n  </tbody>\n</table>\n<p>94 rows × 15 columns</p>\n</div>"
     },
     "execution_count": 116,
     "metadata": {},
     "output_type": "execute_result"
    }
   ],
   "source": [
    "df.fillna(0)"
   ],
   "metadata": {
    "collapsed": false,
    "ExecuteTime": {
     "end_time": "2024-02-15T03:26:54.112275900Z",
     "start_time": "2024-02-15T03:26:54.074739100Z"
    }
   },
   "id": "31cefaf2d4e7d075",
   "execution_count": 116
  },
  {
   "cell_type": "code",
   "execution_count": 117,
   "id": "1ff0e39958e432a8",
   "metadata": {
    "ExecuteTime": {
     "end_time": "2024-02-15T03:26:54.114492900Z",
     "start_time": "2024-02-15T03:26:54.095572600Z"
    }
   },
   "outputs": [],
   "source": [
    "highdangi=df.sort_values('당기순이익(억원)',ascending=False)\n",
    "\n",
    "\n",
    "\n",
    "\n",
    "    "
   ]
  },
  {
   "cell_type": "code",
   "execution_count": 120,
   "id": "86b2724385cf5822",
   "metadata": {
    "ExecuteTime": {
     "end_time": "2024-02-15T03:27:13.521691900Z",
     "start_time": "2024-02-15T03:27:13.506528600Z"
    }
   },
   "outputs": [],
   "source": [
    "highdangi=df.sort_values('당기순이익(억원)',ascending=False)\n",
    "lowdangi=df.sort_values('당기순이익(억원)')\n",
    "highyeongup=df.sort_values('영업이익률(%)',ascending=False)\n",
    "lowyeongup=df.sort_values('영업이익률(%)')\n",
    "highrealprofit=df.sort_values('순이익률(%)',ascending=False)\n",
    "lowrealprofit=df.sort_values('순이익률(%)')\n",
    "highRoe=df.sort_values('ROE(지배주주)(%)',ascending=False)\n",
    "lowRoe=df.sort_values('ROE(지배주주)(%)')\n",
    "highdebtrate=df.sort_values('부채비율(%)',ascending=False)\n",
    "lowdebtrate=df.sort_values('부채비율(%)')\n",
    "highquickratio=df.sort_values('당좌비율(%)',ascending=False)\n",
    "lowquickratio=df.sort_values('당좌비율(%)')\n",
    "highBPS=df.sort_values('BPS(원)',ascending=False)\n",
    "lowBPS=df.sort_values('BPS(원)')"
   ]
  },
  {
   "cell_type": "code",
   "execution_count": 135,
   "id": "405f6fc4f346dd2a",
   "metadata": {
    "ExecuteTime": {
     "end_time": "2024-02-15T03:28:13.246729100Z",
     "start_time": "2024-02-15T03:28:13.211579900Z"
    }
   },
   "outputs": [
    {
     "data": {
      "text/plain": "        기업이름  당기순이익(억원)  영업이익률(%)  순이익률(%)  ROE(지배주주)(%)  부채비율(%)  당좌비율(%)  \\\n83        KT    13877.0      6.59     5.41          7.99   122.54    99.95   \n40   삼성에스디에스    11300.0      5.32     6.56         14.23    41.16   319.45   \n31       카카오    10626.0      8.17    14.95         13.54    69.70   149.38   \n84      다우기술     6805.0      7.80     7.39         17.36   849.42     9.21   \n52     NAVER     6732.0     15.87     8.19          3.29    44.56   103.76   \n54    LG유플러스     6626.0      7.78     4.76          8.37   134.03    66.59   \n60   신세계 I&C      841.0      6.29    14.08           NaN    32.70   217.31   \n2   NICE평가정보      527.0     14.92    10.98         16.39    40.82   192.32   \n76       상상인      423.0      8.48     5.53          6.55   642.18   672.76   \n73   NHN KCP      349.0      5.37     4.24         19.35   135.80   137.40   \n88     콤텍시스템      335.0      2.24     4.72         16.63   179.37    83.01   \n30     에스트래픽      324.0      7.27    24.52         66.79   161.30   109.17   \n37   헥토이노베이션      322.0     13.55    12.24         21.32    86.41   161.97   \n38      아이티센      312.0      1.16     1.19          3.07   202.61    86.69   \n42       사람인      293.0     27.25    19.65         18.11    21.76   187.59   \n\n       PER(배)   BPS(원)    PBR(원)  주당배당금(원)  PBR(배)  주당배당금(원)  시가배당률(%)  \\\n83    1003.36   4835.0   64880.0    1960.0    6.99      0.52      5.80   \n40   21449.10  14213.0  106311.0    3200.0    8.65      1.16      2.60   \n31   25032.00   3037.0   22893.0      60.0   17.48      2.32      0.11   \n84   10358.93   8304.0   53655.0     600.0    2.31      0.36      3.13   \n52  152913.19   4634.0  151646.0     914.0   38.30      1.17      0.51   \n54     221.58   1519.0   18996.0     650.0    7.28      0.58      5.88   \n60    4580.88   4877.0   27495.0     500.0    2.82      0.50      3.64   \n2     1053.36    868.0    5733.0     370.0   14.06      0.60      3.03   \n76    1200.37    845.0   13091.0     100.0    7.25      0.47      1.63   \n73    1110.22    870.0    5131.0     200.0   15.41      2.61      1.49   \n88     185.05    201.0    1259.0       NaN    3.02      0.48       NaN   \n30     422.90   1232.0    2506.0       NaN    3.11      1.53       NaN   \n37    2156.92   2222.0   10882.0     420.0    5.42      1.11      3.49   \n38     438.24     85.0    2681.0       NaN   42.09      1.34       NaN   \n42    3013.86   2517.0   15696.0     700.0   10.49      1.68      2.65   \n\n    배당성향(%)  \n83    39.75  \n40    22.51  \n31     1.94  \n84     6.95  \n52    18.03  \n54    42.14  \n60     7.84  \n2     41.85  \n76    11.55  \n73    22.14  \n88      NaN  \n30      NaN  \n37    18.38  \n38      NaN  \n42    26.25  ",
      "text/html": "<div>\n<style scoped>\n    .dataframe tbody tr th:only-of-type {\n        vertical-align: middle;\n    }\n\n    .dataframe tbody tr th {\n        vertical-align: top;\n    }\n\n    .dataframe thead th {\n        text-align: right;\n    }\n</style>\n<table border=\"1\" class=\"dataframe\">\n  <thead>\n    <tr style=\"text-align: right;\">\n      <th></th>\n      <th>기업이름</th>\n      <th>당기순이익(억원)</th>\n      <th>영업이익률(%)</th>\n      <th>순이익률(%)</th>\n      <th>ROE(지배주주)(%)</th>\n      <th>부채비율(%)</th>\n      <th>당좌비율(%)</th>\n      <th>PER(배)</th>\n      <th>BPS(원)</th>\n      <th>PBR(원)</th>\n      <th>주당배당금(원)</th>\n      <th>PBR(배)</th>\n      <th>주당배당금(원)</th>\n      <th>시가배당률(%)</th>\n      <th>배당성향(%)</th>\n    </tr>\n  </thead>\n  <tbody>\n    <tr>\n      <th>83</th>\n      <td>KT</td>\n      <td>13877.0</td>\n      <td>6.59</td>\n      <td>5.41</td>\n      <td>7.99</td>\n      <td>122.54</td>\n      <td>99.95</td>\n      <td>1003.36</td>\n      <td>4835.0</td>\n      <td>64880.0</td>\n      <td>1960.0</td>\n      <td>6.99</td>\n      <td>0.52</td>\n      <td>5.80</td>\n      <td>39.75</td>\n    </tr>\n    <tr>\n      <th>40</th>\n      <td>삼성에스디에스</td>\n      <td>11300.0</td>\n      <td>5.32</td>\n      <td>6.56</td>\n      <td>14.23</td>\n      <td>41.16</td>\n      <td>319.45</td>\n      <td>21449.10</td>\n      <td>14213.0</td>\n      <td>106311.0</td>\n      <td>3200.0</td>\n      <td>8.65</td>\n      <td>1.16</td>\n      <td>2.60</td>\n      <td>22.51</td>\n    </tr>\n    <tr>\n      <th>31</th>\n      <td>카카오</td>\n      <td>10626.0</td>\n      <td>8.17</td>\n      <td>14.95</td>\n      <td>13.54</td>\n      <td>69.70</td>\n      <td>149.38</td>\n      <td>25032.00</td>\n      <td>3037.0</td>\n      <td>22893.0</td>\n      <td>60.0</td>\n      <td>17.48</td>\n      <td>2.32</td>\n      <td>0.11</td>\n      <td>1.94</td>\n    </tr>\n    <tr>\n      <th>84</th>\n      <td>다우기술</td>\n      <td>6805.0</td>\n      <td>7.80</td>\n      <td>7.39</td>\n      <td>17.36</td>\n      <td>849.42</td>\n      <td>9.21</td>\n      <td>10358.93</td>\n      <td>8304.0</td>\n      <td>53655.0</td>\n      <td>600.0</td>\n      <td>2.31</td>\n      <td>0.36</td>\n      <td>3.13</td>\n      <td>6.95</td>\n    </tr>\n    <tr>\n      <th>52</th>\n      <td>NAVER</td>\n      <td>6732.0</td>\n      <td>15.87</td>\n      <td>8.19</td>\n      <td>3.29</td>\n      <td>44.56</td>\n      <td>103.76</td>\n      <td>152913.19</td>\n      <td>4634.0</td>\n      <td>151646.0</td>\n      <td>914.0</td>\n      <td>38.30</td>\n      <td>1.17</td>\n      <td>0.51</td>\n      <td>18.03</td>\n    </tr>\n    <tr>\n      <th>54</th>\n      <td>LG유플러스</td>\n      <td>6626.0</td>\n      <td>7.78</td>\n      <td>4.76</td>\n      <td>8.37</td>\n      <td>134.03</td>\n      <td>66.59</td>\n      <td>221.58</td>\n      <td>1519.0</td>\n      <td>18996.0</td>\n      <td>650.0</td>\n      <td>7.28</td>\n      <td>0.58</td>\n      <td>5.88</td>\n      <td>42.14</td>\n    </tr>\n    <tr>\n      <th>60</th>\n      <td>신세계 I&amp;C</td>\n      <td>841.0</td>\n      <td>6.29</td>\n      <td>14.08</td>\n      <td>NaN</td>\n      <td>32.70</td>\n      <td>217.31</td>\n      <td>4580.88</td>\n      <td>4877.0</td>\n      <td>27495.0</td>\n      <td>500.0</td>\n      <td>2.82</td>\n      <td>0.50</td>\n      <td>3.64</td>\n      <td>7.84</td>\n    </tr>\n    <tr>\n      <th>2</th>\n      <td>NICE평가정보</td>\n      <td>527.0</td>\n      <td>14.92</td>\n      <td>10.98</td>\n      <td>16.39</td>\n      <td>40.82</td>\n      <td>192.32</td>\n      <td>1053.36</td>\n      <td>868.0</td>\n      <td>5733.0</td>\n      <td>370.0</td>\n      <td>14.06</td>\n      <td>0.60</td>\n      <td>3.03</td>\n      <td>41.85</td>\n    </tr>\n    <tr>\n      <th>76</th>\n      <td>상상인</td>\n      <td>423.0</td>\n      <td>8.48</td>\n      <td>5.53</td>\n      <td>6.55</td>\n      <td>642.18</td>\n      <td>672.76</td>\n      <td>1200.37</td>\n      <td>845.0</td>\n      <td>13091.0</td>\n      <td>100.0</td>\n      <td>7.25</td>\n      <td>0.47</td>\n      <td>1.63</td>\n      <td>11.55</td>\n    </tr>\n    <tr>\n      <th>73</th>\n      <td>NHN KCP</td>\n      <td>349.0</td>\n      <td>5.37</td>\n      <td>4.24</td>\n      <td>19.35</td>\n      <td>135.80</td>\n      <td>137.40</td>\n      <td>1110.22</td>\n      <td>870.0</td>\n      <td>5131.0</td>\n      <td>200.0</td>\n      <td>15.41</td>\n      <td>2.61</td>\n      <td>1.49</td>\n      <td>22.14</td>\n    </tr>\n    <tr>\n      <th>88</th>\n      <td>콤텍시스템</td>\n      <td>335.0</td>\n      <td>2.24</td>\n      <td>4.72</td>\n      <td>16.63</td>\n      <td>179.37</td>\n      <td>83.01</td>\n      <td>185.05</td>\n      <td>201.0</td>\n      <td>1259.0</td>\n      <td>NaN</td>\n      <td>3.02</td>\n      <td>0.48</td>\n      <td>NaN</td>\n      <td>NaN</td>\n    </tr>\n    <tr>\n      <th>30</th>\n      <td>에스트래픽</td>\n      <td>324.0</td>\n      <td>7.27</td>\n      <td>24.52</td>\n      <td>66.79</td>\n      <td>161.30</td>\n      <td>109.17</td>\n      <td>422.90</td>\n      <td>1232.0</td>\n      <td>2506.0</td>\n      <td>NaN</td>\n      <td>3.11</td>\n      <td>1.53</td>\n      <td>NaN</td>\n      <td>NaN</td>\n    </tr>\n    <tr>\n      <th>37</th>\n      <td>헥토이노베이션</td>\n      <td>322.0</td>\n      <td>13.55</td>\n      <td>12.24</td>\n      <td>21.32</td>\n      <td>86.41</td>\n      <td>161.97</td>\n      <td>2156.92</td>\n      <td>2222.0</td>\n      <td>10882.0</td>\n      <td>420.0</td>\n      <td>5.42</td>\n      <td>1.11</td>\n      <td>3.49</td>\n      <td>18.38</td>\n    </tr>\n    <tr>\n      <th>38</th>\n      <td>아이티센</td>\n      <td>312.0</td>\n      <td>1.16</td>\n      <td>1.19</td>\n      <td>3.07</td>\n      <td>202.61</td>\n      <td>86.69</td>\n      <td>438.24</td>\n      <td>85.0</td>\n      <td>2681.0</td>\n      <td>NaN</td>\n      <td>42.09</td>\n      <td>1.34</td>\n      <td>NaN</td>\n      <td>NaN</td>\n    </tr>\n    <tr>\n      <th>42</th>\n      <td>사람인</td>\n      <td>293.0</td>\n      <td>27.25</td>\n      <td>19.65</td>\n      <td>18.11</td>\n      <td>21.76</td>\n      <td>187.59</td>\n      <td>3013.86</td>\n      <td>2517.0</td>\n      <td>15696.0</td>\n      <td>700.0</td>\n      <td>10.49</td>\n      <td>1.68</td>\n      <td>2.65</td>\n      <td>26.25</td>\n    </tr>\n  </tbody>\n</table>\n</div>"
     },
     "execution_count": 135,
     "metadata": {},
     "output_type": "execute_result"
    }
   ],
   "source": [
    "highdangi.head(15)"
   ]
  },
  {
   "cell_type": "code",
   "outputs": [],
   "source": [
    "highdangi1=highdangi[['기업이름','당기순이익(억원)']]"
   ],
   "metadata": {
    "collapsed": false,
    "ExecuteTime": {
     "end_time": "2024-02-15T03:30:23.035036100Z",
     "start_time": "2024-02-15T03:30:23.015078100Z"
    }
   },
   "id": "3827bf21df7d8e46",
   "execution_count": 137
  },
  {
   "cell_type": "code",
   "outputs": [
    {
     "data": {
      "text/plain": "       기업이름  당기순이익(억원)\n0        KT    13877.0\n1   삼성에스디에스    11300.0\n2       카카오    10626.0\n3      다우기술     6805.0\n4     NAVER     6732.0\n..      ...        ...\n89     카페24     -499.0\n90   휴맥스홀딩스     -506.0\n91   롯데하이마트    -5279.0\n92       굿센        NaN\n93    유니포인트        NaN\n\n[94 rows x 2 columns]",
      "text/html": "<div>\n<style scoped>\n    .dataframe tbody tr th:only-of-type {\n        vertical-align: middle;\n    }\n\n    .dataframe tbody tr th {\n        vertical-align: top;\n    }\n\n    .dataframe thead th {\n        text-align: right;\n    }\n</style>\n<table border=\"1\" class=\"dataframe\">\n  <thead>\n    <tr style=\"text-align: right;\">\n      <th></th>\n      <th>기업이름</th>\n      <th>당기순이익(억원)</th>\n    </tr>\n  </thead>\n  <tbody>\n    <tr>\n      <th>0</th>\n      <td>KT</td>\n      <td>13877.0</td>\n    </tr>\n    <tr>\n      <th>1</th>\n      <td>삼성에스디에스</td>\n      <td>11300.0</td>\n    </tr>\n    <tr>\n      <th>2</th>\n      <td>카카오</td>\n      <td>10626.0</td>\n    </tr>\n    <tr>\n      <th>3</th>\n      <td>다우기술</td>\n      <td>6805.0</td>\n    </tr>\n    <tr>\n      <th>4</th>\n      <td>NAVER</td>\n      <td>6732.0</td>\n    </tr>\n    <tr>\n      <th>...</th>\n      <td>...</td>\n      <td>...</td>\n    </tr>\n    <tr>\n      <th>89</th>\n      <td>카페24</td>\n      <td>-499.0</td>\n    </tr>\n    <tr>\n      <th>90</th>\n      <td>휴맥스홀딩스</td>\n      <td>-506.0</td>\n    </tr>\n    <tr>\n      <th>91</th>\n      <td>롯데하이마트</td>\n      <td>-5279.0</td>\n    </tr>\n    <tr>\n      <th>92</th>\n      <td>굿센</td>\n      <td>NaN</td>\n    </tr>\n    <tr>\n      <th>93</th>\n      <td>유니포인트</td>\n      <td>NaN</td>\n    </tr>\n  </tbody>\n</table>\n<p>94 rows × 2 columns</p>\n</div>"
     },
     "execution_count": 151,
     "metadata": {},
     "output_type": "execute_result"
    }
   ],
   "source": [
    "highdangi1"
   ],
   "metadata": {
    "collapsed": false,
    "ExecuteTime": {
     "end_time": "2024-02-15T03:37:17.346273800Z",
     "start_time": "2024-02-15T03:37:17.329132500Z"
    }
   },
   "id": "a1e787f8e0137a29",
   "execution_count": 151
  },
  {
   "cell_type": "code",
   "outputs": [],
   "source": [
    "highrealprofit1=highrealprofit[['기업이름','순이익률(%)']]"
   ],
   "metadata": {
    "collapsed": false,
    "ExecuteTime": {
     "end_time": "2024-02-15T03:36:23.586060400Z",
     "start_time": "2024-02-15T03:36:23.566915400Z"
    }
   },
   "id": "ed1ca9e5a5f7e774",
   "execution_count": 147
  },
  {
   "cell_type": "code",
   "outputs": [],
   "source": [],
   "metadata": {
    "collapsed": false
   },
   "id": "e1a21f5537850ea6"
  },
  {
   "cell_type": "code",
   "outputs": [],
   "source": [],
   "metadata": {
    "collapsed": false
   },
   "id": "5bb7596e98b88339"
  },
  {
   "cell_type": "code",
   "outputs": [],
   "source": [
    "highrealprofit1.reset_index(drop=True,inplace=True)\n",
    "highdangi1.reset_index(drop=True,inplace=True)"
   ],
   "metadata": {
    "collapsed": false,
    "ExecuteTime": {
     "end_time": "2024-02-15T03:37:13.382154700Z",
     "start_time": "2024-02-15T03:37:13.362777Z"
    }
   },
   "id": "191059341ffd39d1",
   "execution_count": 150
  },
  {
   "cell_type": "code",
   "outputs": [
    {
     "data": {
      "text/plain": "       기업이름  순이익률(%)\n0     이크레더블    33.23\n1       리파인    32.11\n2    에프앤가이드    27.95\n3   케이아이엔엑스    24.64\n4     에스트래픽    24.52\n..      ...      ...\n89      큐로컴  -133.53\n90       컨텍  -162.26\n91   신테카바이오 -1846.96\n92       굿센      NaN\n93    유니포인트      NaN\n\n[94 rows x 2 columns]",
      "text/html": "<div>\n<style scoped>\n    .dataframe tbody tr th:only-of-type {\n        vertical-align: middle;\n    }\n\n    .dataframe tbody tr th {\n        vertical-align: top;\n    }\n\n    .dataframe thead th {\n        text-align: right;\n    }\n</style>\n<table border=\"1\" class=\"dataframe\">\n  <thead>\n    <tr style=\"text-align: right;\">\n      <th></th>\n      <th>기업이름</th>\n      <th>순이익률(%)</th>\n    </tr>\n  </thead>\n  <tbody>\n    <tr>\n      <th>0</th>\n      <td>이크레더블</td>\n      <td>33.23</td>\n    </tr>\n    <tr>\n      <th>1</th>\n      <td>리파인</td>\n      <td>32.11</td>\n    </tr>\n    <tr>\n      <th>2</th>\n      <td>에프앤가이드</td>\n      <td>27.95</td>\n    </tr>\n    <tr>\n      <th>3</th>\n      <td>케이아이엔엑스</td>\n      <td>24.64</td>\n    </tr>\n    <tr>\n      <th>4</th>\n      <td>에스트래픽</td>\n      <td>24.52</td>\n    </tr>\n    <tr>\n      <th>...</th>\n      <td>...</td>\n      <td>...</td>\n    </tr>\n    <tr>\n      <th>89</th>\n      <td>큐로컴</td>\n      <td>-133.53</td>\n    </tr>\n    <tr>\n      <th>90</th>\n      <td>컨텍</td>\n      <td>-162.26</td>\n    </tr>\n    <tr>\n      <th>91</th>\n      <td>신테카바이오</td>\n      <td>-1846.96</td>\n    </tr>\n    <tr>\n      <th>92</th>\n      <td>굿센</td>\n      <td>NaN</td>\n    </tr>\n    <tr>\n      <th>93</th>\n      <td>유니포인트</td>\n      <td>NaN</td>\n    </tr>\n  </tbody>\n</table>\n<p>94 rows × 2 columns</p>\n</div>"
     },
     "execution_count": 149,
     "metadata": {},
     "output_type": "execute_result"
    }
   ],
   "source": [
    "highrealprofit1"
   ],
   "metadata": {
    "collapsed": false,
    "ExecuteTime": {
     "end_time": "2024-02-15T03:36:36.194464800Z",
     "start_time": "2024-02-15T03:36:36.177305500Z"
    }
   },
   "id": "8395ff251ffaa933",
   "execution_count": 149
  },
  {
   "cell_type": "code",
   "outputs": [],
   "source": [
    "highquickratio1=highquickratio[[\"기업이름\",\"당좌비율(%)\"]]\n",
    "highquickratio1.reset_index(drop=True,inplace=True)"
   ],
   "metadata": {
    "collapsed": false,
    "ExecuteTime": {
     "end_time": "2024-02-15T03:44:21.797201500Z",
     "start_time": "2024-02-15T03:44:21.777834Z"
    }
   },
   "id": "cf27d2a12eafe913",
   "execution_count": 168
  },
  {
   "cell_type": "code",
   "outputs": [
    {
     "data": {
      "text/plain": "      기업이름  당좌비율(%)\n0      오비고  1478.50\n1      리파인  1067.51\n2     비트나인   937.64\n3      상상인   672.76\n4   미래아이앤지   669.07\n..     ...      ...\n89    케이씨티    19.44\n90    다우기술     9.21\n91    신라섬유     5.84\n92      굿센      NaN\n93   유니포인트      NaN\n\n[94 rows x 2 columns]",
      "text/html": "<div>\n<style scoped>\n    .dataframe tbody tr th:only-of-type {\n        vertical-align: middle;\n    }\n\n    .dataframe tbody tr th {\n        vertical-align: top;\n    }\n\n    .dataframe thead th {\n        text-align: right;\n    }\n</style>\n<table border=\"1\" class=\"dataframe\">\n  <thead>\n    <tr style=\"text-align: right;\">\n      <th></th>\n      <th>기업이름</th>\n      <th>당좌비율(%)</th>\n    </tr>\n  </thead>\n  <tbody>\n    <tr>\n      <th>0</th>\n      <td>오비고</td>\n      <td>1478.50</td>\n    </tr>\n    <tr>\n      <th>1</th>\n      <td>리파인</td>\n      <td>1067.51</td>\n    </tr>\n    <tr>\n      <th>2</th>\n      <td>비트나인</td>\n      <td>937.64</td>\n    </tr>\n    <tr>\n      <th>3</th>\n      <td>상상인</td>\n      <td>672.76</td>\n    </tr>\n    <tr>\n      <th>4</th>\n      <td>미래아이앤지</td>\n      <td>669.07</td>\n    </tr>\n    <tr>\n      <th>...</th>\n      <td>...</td>\n      <td>...</td>\n    </tr>\n    <tr>\n      <th>89</th>\n      <td>케이씨티</td>\n      <td>19.44</td>\n    </tr>\n    <tr>\n      <th>90</th>\n      <td>다우기술</td>\n      <td>9.21</td>\n    </tr>\n    <tr>\n      <th>91</th>\n      <td>신라섬유</td>\n      <td>5.84</td>\n    </tr>\n    <tr>\n      <th>92</th>\n      <td>굿센</td>\n      <td>NaN</td>\n    </tr>\n    <tr>\n      <th>93</th>\n      <td>유니포인트</td>\n      <td>NaN</td>\n    </tr>\n  </tbody>\n</table>\n<p>94 rows × 2 columns</p>\n</div>"
     },
     "execution_count": 169,
     "metadata": {},
     "output_type": "execute_result"
    }
   ],
   "source": [
    "highquickratio1"
   ],
   "metadata": {
    "collapsed": false,
    "ExecuteTime": {
     "end_time": "2024-02-15T03:44:24.105489Z",
     "start_time": "2024-02-15T03:44:24.089988400Z"
    }
   },
   "id": "41ce7427460acb9f",
   "execution_count": 169
  },
  {
   "cell_type": "code",
   "outputs": [],
   "source": [
    "lowquickratio1=lowquickratio[[\"기업이름\",\"당좌비율(%)\"]]\n",
    "lowquickratio1.reset_index(drop=True,inplace=True)"
   ],
   "metadata": {
    "collapsed": false,
    "ExecuteTime": {
     "end_time": "2024-02-15T03:38:44.890304800Z",
     "start_time": "2024-02-15T03:38:44.873360500Z"
    }
   },
   "id": "e3d28742019a821f",
   "execution_count": 152
  },
  {
   "cell_type": "code",
   "outputs": [],
   "source": [
    "worsequick=lowquickratio1[lowquickratio1[\"당좌비율(%)\"]<=100]"
   ],
   "metadata": {
    "collapsed": false,
    "ExecuteTime": {
     "end_time": "2024-02-15T03:38:47.210004900Z",
     "start_time": "2024-02-15T03:38:47.193821Z"
    }
   },
   "id": "c1683787ce5d49bd",
   "execution_count": 153
  },
  {
   "cell_type": "code",
   "outputs": [
    {
     "data": {
      "text/plain": "38"
     },
     "execution_count": 154,
     "metadata": {},
     "output_type": "execute_result"
    }
   ],
   "source": [
    "len(worsequick)"
   ],
   "metadata": {
    "collapsed": false,
    "ExecuteTime": {
     "end_time": "2024-02-15T03:38:49.021649600Z",
     "start_time": "2024-02-15T03:38:49.007207100Z"
    }
   },
   "id": "f0f494cb75271669",
   "execution_count": 154
  },
  {
   "cell_type": "code",
   "outputs": [
    {
     "data": {
      "text/plain": "          기업이름  당좌비율(%)\n0         신라섬유     5.84\n1         다우기술     9.21\n2         케이씨티    19.44\n3       롯데하이마트    21.22\n4         BF랩스    27.44\n5       바이브컴퍼니    27.86\n6        한성크린텍    31.37\n7        비케이탑스    42.21\n8           컨텍    52.00\n9          큐로컴    53.35\n10     한국테크놀로지    57.09\n11        피피아이    61.54\n12      휴맥스홀딩스    61.82\n13      에프앤가이드    62.26\n14         플리토    63.17\n15     THE E&M    66.50\n16      LG유플러스    66.59\n17        오파스넷    68.59\n18       위세아이텍    71.42\n19     YG PLUS    71.73\n20        씨유박스    73.76\n21       아시아경제    74.67\n22         링네트    76.76\n23      대신정보통신    77.27\n24         에스넷    77.62\n25        카페24    79.91\n26       콤텍시스템    83.01\n27          율호    85.24\n28        아이티센    86.69\n29        인성정보    86.76\n30        KTis    87.12\n31       케이씨에스    87.46\n32      아이크래프트    88.35\n33  브랜드엑스코퍼레이션    91.79\n34      쌍용정보통신    93.36\n35          DB    98.64\n36       더존비즈온    98.65\n37          KT    99.95",
      "text/html": "<div>\n<style scoped>\n    .dataframe tbody tr th:only-of-type {\n        vertical-align: middle;\n    }\n\n    .dataframe tbody tr th {\n        vertical-align: top;\n    }\n\n    .dataframe thead th {\n        text-align: right;\n    }\n</style>\n<table border=\"1\" class=\"dataframe\">\n  <thead>\n    <tr style=\"text-align: right;\">\n      <th></th>\n      <th>기업이름</th>\n      <th>당좌비율(%)</th>\n    </tr>\n  </thead>\n  <tbody>\n    <tr>\n      <th>0</th>\n      <td>신라섬유</td>\n      <td>5.84</td>\n    </tr>\n    <tr>\n      <th>1</th>\n      <td>다우기술</td>\n      <td>9.21</td>\n    </tr>\n    <tr>\n      <th>2</th>\n      <td>케이씨티</td>\n      <td>19.44</td>\n    </tr>\n    <tr>\n      <th>3</th>\n      <td>롯데하이마트</td>\n      <td>21.22</td>\n    </tr>\n    <tr>\n      <th>4</th>\n      <td>BF랩스</td>\n      <td>27.44</td>\n    </tr>\n    <tr>\n      <th>5</th>\n      <td>바이브컴퍼니</td>\n      <td>27.86</td>\n    </tr>\n    <tr>\n      <th>6</th>\n      <td>한성크린텍</td>\n      <td>31.37</td>\n    </tr>\n    <tr>\n      <th>7</th>\n      <td>비케이탑스</td>\n      <td>42.21</td>\n    </tr>\n    <tr>\n      <th>8</th>\n      <td>컨텍</td>\n      <td>52.00</td>\n    </tr>\n    <tr>\n      <th>9</th>\n      <td>큐로컴</td>\n      <td>53.35</td>\n    </tr>\n    <tr>\n      <th>10</th>\n      <td>한국테크놀로지</td>\n      <td>57.09</td>\n    </tr>\n    <tr>\n      <th>11</th>\n      <td>피피아이</td>\n      <td>61.54</td>\n    </tr>\n    <tr>\n      <th>12</th>\n      <td>휴맥스홀딩스</td>\n      <td>61.82</td>\n    </tr>\n    <tr>\n      <th>13</th>\n      <td>에프앤가이드</td>\n      <td>62.26</td>\n    </tr>\n    <tr>\n      <th>14</th>\n      <td>플리토</td>\n      <td>63.17</td>\n    </tr>\n    <tr>\n      <th>15</th>\n      <td>THE E&amp;M</td>\n      <td>66.50</td>\n    </tr>\n    <tr>\n      <th>16</th>\n      <td>LG유플러스</td>\n      <td>66.59</td>\n    </tr>\n    <tr>\n      <th>17</th>\n      <td>오파스넷</td>\n      <td>68.59</td>\n    </tr>\n    <tr>\n      <th>18</th>\n      <td>위세아이텍</td>\n      <td>71.42</td>\n    </tr>\n    <tr>\n      <th>19</th>\n      <td>YG PLUS</td>\n      <td>71.73</td>\n    </tr>\n    <tr>\n      <th>20</th>\n      <td>씨유박스</td>\n      <td>73.76</td>\n    </tr>\n    <tr>\n      <th>21</th>\n      <td>아시아경제</td>\n      <td>74.67</td>\n    </tr>\n    <tr>\n      <th>22</th>\n      <td>링네트</td>\n      <td>76.76</td>\n    </tr>\n    <tr>\n      <th>23</th>\n      <td>대신정보통신</td>\n      <td>77.27</td>\n    </tr>\n    <tr>\n      <th>24</th>\n      <td>에스넷</td>\n      <td>77.62</td>\n    </tr>\n    <tr>\n      <th>25</th>\n      <td>카페24</td>\n      <td>79.91</td>\n    </tr>\n    <tr>\n      <th>26</th>\n      <td>콤텍시스템</td>\n      <td>83.01</td>\n    </tr>\n    <tr>\n      <th>27</th>\n      <td>율호</td>\n      <td>85.24</td>\n    </tr>\n    <tr>\n      <th>28</th>\n      <td>아이티센</td>\n      <td>86.69</td>\n    </tr>\n    <tr>\n      <th>29</th>\n      <td>인성정보</td>\n      <td>86.76</td>\n    </tr>\n    <tr>\n      <th>30</th>\n      <td>KTis</td>\n      <td>87.12</td>\n    </tr>\n    <tr>\n      <th>31</th>\n      <td>케이씨에스</td>\n      <td>87.46</td>\n    </tr>\n    <tr>\n      <th>32</th>\n      <td>아이크래프트</td>\n      <td>88.35</td>\n    </tr>\n    <tr>\n      <th>33</th>\n      <td>브랜드엑스코퍼레이션</td>\n      <td>91.79</td>\n    </tr>\n    <tr>\n      <th>34</th>\n      <td>쌍용정보통신</td>\n      <td>93.36</td>\n    </tr>\n    <tr>\n      <th>35</th>\n      <td>DB</td>\n      <td>98.64</td>\n    </tr>\n    <tr>\n      <th>36</th>\n      <td>더존비즈온</td>\n      <td>98.65</td>\n    </tr>\n    <tr>\n      <th>37</th>\n      <td>KT</td>\n      <td>99.95</td>\n    </tr>\n  </tbody>\n</table>\n</div>"
     },
     "execution_count": 155,
     "metadata": {},
     "output_type": "execute_result"
    }
   ],
   "source": [
    "worsequick"
   ],
   "metadata": {
    "collapsed": false,
    "ExecuteTime": {
     "end_time": "2024-02-15T03:38:51.241298200Z",
     "start_time": "2024-02-15T03:38:51.217172200Z"
    }
   },
   "id": "201406b6c0dd4b28",
   "execution_count": 155
  },
  {
   "cell_type": "code",
   "outputs": [],
   "source": [
    "lowdebtrate1=lowdebtrate[[\"기업이름\",\"부채비율(%)\"]]\n",
    "highdebtrate1=highdebtrate[[\"기업이름\",\"부채비율(%)\"]]\n",
    "lowdebtrate1.reset_index(drop=True,inplace=True)\n",
    "highdebtrate1.reset_index(drop=True,inplace=True)"
   ],
   "metadata": {
    "collapsed": false,
    "ExecuteTime": {
     "end_time": "2024-02-15T03:40:23.461422Z",
     "start_time": "2024-02-15T03:40:23.444848500Z"
    }
   },
   "id": "973f19c79d237834",
   "execution_count": 156
  },
  {
   "cell_type": "code",
   "outputs": [
    {
     "data": {
      "text/plain": "     기업이름  부채비율(%)\n0      컨텍  -368.00\n1     리파인     9.18\n2   디지틀조선    10.74\n3     오비고    11.94\n4     유엔젤    13.47\n..    ...      ...\n89   씨유박스   813.46\n90   다우기술   849.42\n91  비케이탑스  1190.27\n92     굿센      NaN\n93  유니포인트      NaN\n\n[94 rows x 2 columns]",
      "text/html": "<div>\n<style scoped>\n    .dataframe tbody tr th:only-of-type {\n        vertical-align: middle;\n    }\n\n    .dataframe tbody tr th {\n        vertical-align: top;\n    }\n\n    .dataframe thead th {\n        text-align: right;\n    }\n</style>\n<table border=\"1\" class=\"dataframe\">\n  <thead>\n    <tr style=\"text-align: right;\">\n      <th></th>\n      <th>기업이름</th>\n      <th>부채비율(%)</th>\n    </tr>\n  </thead>\n  <tbody>\n    <tr>\n      <th>0</th>\n      <td>컨텍</td>\n      <td>-368.00</td>\n    </tr>\n    <tr>\n      <th>1</th>\n      <td>리파인</td>\n      <td>9.18</td>\n    </tr>\n    <tr>\n      <th>2</th>\n      <td>디지틀조선</td>\n      <td>10.74</td>\n    </tr>\n    <tr>\n      <th>3</th>\n      <td>오비고</td>\n      <td>11.94</td>\n    </tr>\n    <tr>\n      <th>4</th>\n      <td>유엔젤</td>\n      <td>13.47</td>\n    </tr>\n    <tr>\n      <th>...</th>\n      <td>...</td>\n      <td>...</td>\n    </tr>\n    <tr>\n      <th>89</th>\n      <td>씨유박스</td>\n      <td>813.46</td>\n    </tr>\n    <tr>\n      <th>90</th>\n      <td>다우기술</td>\n      <td>849.42</td>\n    </tr>\n    <tr>\n      <th>91</th>\n      <td>비케이탑스</td>\n      <td>1190.27</td>\n    </tr>\n    <tr>\n      <th>92</th>\n      <td>굿센</td>\n      <td>NaN</td>\n    </tr>\n    <tr>\n      <th>93</th>\n      <td>유니포인트</td>\n      <td>NaN</td>\n    </tr>\n  </tbody>\n</table>\n<p>94 rows × 2 columns</p>\n</div>"
     },
     "execution_count": 157,
     "metadata": {},
     "output_type": "execute_result"
    }
   ],
   "source": [
    "lowdebtrate1"
   ],
   "metadata": {
    "collapsed": false,
    "ExecuteTime": {
     "end_time": "2024-02-15T03:40:25.804756700Z",
     "start_time": "2024-02-15T03:40:25.789589500Z"
    }
   },
   "id": "c9c8ffdd232312aa",
   "execution_count": 157
  },
  {
   "cell_type": "code",
   "outputs": [],
   "source": [
    "low200debtrate=lowdebtrate1[lowdebtrate1[\"부채비율(%)\"]<=200]\n",
    "high300debtrate=highdebtrate1[highdebtrate1[\"부채비율(%)\"]>=300]"
   ],
   "metadata": {
    "collapsed": false,
    "ExecuteTime": {
     "end_time": "2024-02-15T03:40:30.349487700Z",
     "start_time": "2024-02-15T03:40:30.336088600Z"
    }
   },
   "id": "dc5200fabdc4931a",
   "execution_count": 159
  },
  {
   "cell_type": "code",
   "outputs": [
    {
     "data": {
      "text/plain": "      기업이름  부채비율(%)\n0       컨텍  -368.00\n1      리파인     9.18\n2    디지틀조선    10.74\n3      오비고    11.94\n4      유엔젤    13.47\n..     ...      ...\n71   한성크린텍   155.06\n72   에스트래픽   161.30\n73  아이크래프트   168.44\n74   콤텍시스템   179.37\n75  대신정보통신   197.64\n\n[76 rows x 2 columns]",
      "text/html": "<div>\n<style scoped>\n    .dataframe tbody tr th:only-of-type {\n        vertical-align: middle;\n    }\n\n    .dataframe tbody tr th {\n        vertical-align: top;\n    }\n\n    .dataframe thead th {\n        text-align: right;\n    }\n</style>\n<table border=\"1\" class=\"dataframe\">\n  <thead>\n    <tr style=\"text-align: right;\">\n      <th></th>\n      <th>기업이름</th>\n      <th>부채비율(%)</th>\n    </tr>\n  </thead>\n  <tbody>\n    <tr>\n      <th>0</th>\n      <td>컨텍</td>\n      <td>-368.00</td>\n    </tr>\n    <tr>\n      <th>1</th>\n      <td>리파인</td>\n      <td>9.18</td>\n    </tr>\n    <tr>\n      <th>2</th>\n      <td>디지틀조선</td>\n      <td>10.74</td>\n    </tr>\n    <tr>\n      <th>3</th>\n      <td>오비고</td>\n      <td>11.94</td>\n    </tr>\n    <tr>\n      <th>4</th>\n      <td>유엔젤</td>\n      <td>13.47</td>\n    </tr>\n    <tr>\n      <th>...</th>\n      <td>...</td>\n      <td>...</td>\n    </tr>\n    <tr>\n      <th>71</th>\n      <td>한성크린텍</td>\n      <td>155.06</td>\n    </tr>\n    <tr>\n      <th>72</th>\n      <td>에스트래픽</td>\n      <td>161.30</td>\n    </tr>\n    <tr>\n      <th>73</th>\n      <td>아이크래프트</td>\n      <td>168.44</td>\n    </tr>\n    <tr>\n      <th>74</th>\n      <td>콤텍시스템</td>\n      <td>179.37</td>\n    </tr>\n    <tr>\n      <th>75</th>\n      <td>대신정보통신</td>\n      <td>197.64</td>\n    </tr>\n  </tbody>\n</table>\n<p>76 rows × 2 columns</p>\n</div>"
     },
     "execution_count": 160,
     "metadata": {},
     "output_type": "execute_result"
    }
   ],
   "source": [
    "low200debtrate"
   ],
   "metadata": {
    "collapsed": false,
    "ExecuteTime": {
     "end_time": "2024-02-15T03:40:32.303064600Z",
     "start_time": "2024-02-15T03:40:32.288024300Z"
    }
   },
   "id": "c3b03907da98cdc4",
   "execution_count": 160
  },
  {
   "cell_type": "code",
   "outputs": [
    {
     "data": {
      "text/plain": "76"
     },
     "execution_count": 131,
     "metadata": {},
     "output_type": "execute_result"
    }
   ],
   "source": [
    "len(low200debtrate)"
   ],
   "metadata": {
    "collapsed": false,
    "ExecuteTime": {
     "end_time": "2024-02-15T03:27:41.118009600Z",
     "start_time": "2024-02-15T03:27:41.107147600Z"
    }
   },
   "id": "c4eaee19457b604b",
   "execution_count": 131
  },
  {
   "cell_type": "code",
   "outputs": [
    {
     "data": {
      "text/plain": "      기업이름  부채비율(%)\n0    비케이탑스  1190.27\n1     다우기술   849.42\n2     씨유박스   813.46\n3      상상인   642.18\n4   바이브컴퍼니   639.83\n5   와이더플래닛   559.56\n6  한국테크놀로지   531.45\n7     피피아이   379.40\n8   쌍용정보통신   329.21\n9   크라우드웍스   313.28",
      "text/html": "<div>\n<style scoped>\n    .dataframe tbody tr th:only-of-type {\n        vertical-align: middle;\n    }\n\n    .dataframe tbody tr th {\n        vertical-align: top;\n    }\n\n    .dataframe thead th {\n        text-align: right;\n    }\n</style>\n<table border=\"1\" class=\"dataframe\">\n  <thead>\n    <tr style=\"text-align: right;\">\n      <th></th>\n      <th>기업이름</th>\n      <th>부채비율(%)</th>\n    </tr>\n  </thead>\n  <tbody>\n    <tr>\n      <th>0</th>\n      <td>비케이탑스</td>\n      <td>1190.27</td>\n    </tr>\n    <tr>\n      <th>1</th>\n      <td>다우기술</td>\n      <td>849.42</td>\n    </tr>\n    <tr>\n      <th>2</th>\n      <td>씨유박스</td>\n      <td>813.46</td>\n    </tr>\n    <tr>\n      <th>3</th>\n      <td>상상인</td>\n      <td>642.18</td>\n    </tr>\n    <tr>\n      <th>4</th>\n      <td>바이브컴퍼니</td>\n      <td>639.83</td>\n    </tr>\n    <tr>\n      <th>5</th>\n      <td>와이더플래닛</td>\n      <td>559.56</td>\n    </tr>\n    <tr>\n      <th>6</th>\n      <td>한국테크놀로지</td>\n      <td>531.45</td>\n    </tr>\n    <tr>\n      <th>7</th>\n      <td>피피아이</td>\n      <td>379.40</td>\n    </tr>\n    <tr>\n      <th>8</th>\n      <td>쌍용정보통신</td>\n      <td>329.21</td>\n    </tr>\n    <tr>\n      <th>9</th>\n      <td>크라우드웍스</td>\n      <td>313.28</td>\n    </tr>\n  </tbody>\n</table>\n</div>"
     },
     "execution_count": 161,
     "metadata": {},
     "output_type": "execute_result"
    }
   ],
   "source": [
    "high300debtrate"
   ],
   "metadata": {
    "collapsed": false,
    "ExecuteTime": {
     "end_time": "2024-02-15T03:40:38.969382Z",
     "start_time": "2024-02-15T03:40:38.955708700Z"
    }
   },
   "id": "d2bc069864f30e0f",
   "execution_count": 161
  },
  {
   "cell_type": "code",
   "outputs": [],
   "source": [
    "highRoe1=highRoe[[\"기업이름\",\"ROE(지배주주)(%)\"]]\n",
    "highRoe1.reset_index(drop=True,inplace=True)"
   ],
   "metadata": {
    "collapsed": false,
    "ExecuteTime": {
     "end_time": "2024-02-15T03:40:59.835484900Z",
     "start_time": "2024-02-15T03:40:59.812259200Z"
    }
   },
   "id": "13cb367af055c8e5",
   "execution_count": 163
  },
  {
   "cell_type": "code",
   "outputs": [
    {
     "data": {
      "text/plain": "       기업이름  ROE(지배주주)(%)\n0        컨텍         98.43\n1    크라우드웍스         97.06\n2     에스트래픽         66.79\n3     이크레더블         28.58\n4    쌍용정보통신         23.63\n..      ...           ...\n89       굿센           NaN\n90    아시아경제           NaN\n91    유니포인트           NaN\n92  신세계 I&C           NaN\n93   미래아이앤지           NaN\n\n[94 rows x 2 columns]",
      "text/html": "<div>\n<style scoped>\n    .dataframe tbody tr th:only-of-type {\n        vertical-align: middle;\n    }\n\n    .dataframe tbody tr th {\n        vertical-align: top;\n    }\n\n    .dataframe thead th {\n        text-align: right;\n    }\n</style>\n<table border=\"1\" class=\"dataframe\">\n  <thead>\n    <tr style=\"text-align: right;\">\n      <th></th>\n      <th>기업이름</th>\n      <th>ROE(지배주주)(%)</th>\n    </tr>\n  </thead>\n  <tbody>\n    <tr>\n      <th>0</th>\n      <td>컨텍</td>\n      <td>98.43</td>\n    </tr>\n    <tr>\n      <th>1</th>\n      <td>크라우드웍스</td>\n      <td>97.06</td>\n    </tr>\n    <tr>\n      <th>2</th>\n      <td>에스트래픽</td>\n      <td>66.79</td>\n    </tr>\n    <tr>\n      <th>3</th>\n      <td>이크레더블</td>\n      <td>28.58</td>\n    </tr>\n    <tr>\n      <th>4</th>\n      <td>쌍용정보통신</td>\n      <td>23.63</td>\n    </tr>\n    <tr>\n      <th>...</th>\n      <td>...</td>\n      <td>...</td>\n    </tr>\n    <tr>\n      <th>89</th>\n      <td>굿센</td>\n      <td>NaN</td>\n    </tr>\n    <tr>\n      <th>90</th>\n      <td>아시아경제</td>\n      <td>NaN</td>\n    </tr>\n    <tr>\n      <th>91</th>\n      <td>유니포인트</td>\n      <td>NaN</td>\n    </tr>\n    <tr>\n      <th>92</th>\n      <td>신세계 I&amp;C</td>\n      <td>NaN</td>\n    </tr>\n    <tr>\n      <th>93</th>\n      <td>미래아이앤지</td>\n      <td>NaN</td>\n    </tr>\n  </tbody>\n</table>\n<p>94 rows × 2 columns</p>\n</div>"
     },
     "execution_count": 164,
     "metadata": {},
     "output_type": "execute_result"
    }
   ],
   "source": [
    "highRoe1"
   ],
   "metadata": {
    "collapsed": false,
    "ExecuteTime": {
     "end_time": "2024-02-15T03:41:01.156576900Z",
     "start_time": "2024-02-15T03:41:01.141805100Z"
    }
   },
   "id": "c8e0364602306776",
   "execution_count": 164
  },
  {
   "cell_type": "code",
   "outputs": [],
   "source": [
    "highdangi120=highdangi1.head(30)\n",
    "highrealprofit120=highrealprofit1.head(30)\n",
    "highquickratio120=highquickratio1.head(30)\n",
    "lowdebtrate120=lowdebtrate1.head(30)\n",
    "highRoe120=highRoe1.head(30)\n",
    "\n"
   ],
   "metadata": {
    "collapsed": false,
    "ExecuteTime": {
     "end_time": "2024-02-15T04:05:01.957773600Z",
     "start_time": "2024-02-15T04:05:01.937543500Z"
    }
   },
   "id": "4b685a786f9ae9c3",
   "execution_count": 228
  },
  {
   "cell_type": "code",
   "outputs": [
    {
     "data": {
      "text/plain": "        기업이름  당기순이익(억원)\n0         KT    13877.0\n1    삼성에스디에스    11300.0\n2        카카오    10626.0\n3       다우기술     6805.0\n4      NAVER     6732.0\n5     LG유플러스     6626.0\n6    신세계 I&C      841.0\n7   NICE평가정보      527.0\n8        상상인      423.0\n9    NHN KCP      349.0\n10     콤텍시스템      335.0\n11     에스트래픽      324.0\n12   헥토이노베이션      322.0\n13      아이티센      312.0\n14       사람인      293.0\n15    롯데정보통신      284.0\n16   드림어스컴퍼니      273.0\n17   케이아이엔엑스      273.0\n18     더존비즈온      231.0\n19        윈스      192.0\n20      지니뮤직      187.0\n21      KTcs      181.0\n22       리파인      177.0\n23     아시아경제      175.0\n24   YG PLUS      167.0\n25      KTis      159.0\n26     이크레더블      157.0\n27    쌍용정보통신      122.0\n28    헥토파이낸셜      120.0\n29      소프트센      116.0",
      "text/html": "<div>\n<style scoped>\n    .dataframe tbody tr th:only-of-type {\n        vertical-align: middle;\n    }\n\n    .dataframe tbody tr th {\n        vertical-align: top;\n    }\n\n    .dataframe thead th {\n        text-align: right;\n    }\n</style>\n<table border=\"1\" class=\"dataframe\">\n  <thead>\n    <tr style=\"text-align: right;\">\n      <th></th>\n      <th>기업이름</th>\n      <th>당기순이익(억원)</th>\n    </tr>\n  </thead>\n  <tbody>\n    <tr>\n      <th>0</th>\n      <td>KT</td>\n      <td>13877.0</td>\n    </tr>\n    <tr>\n      <th>1</th>\n      <td>삼성에스디에스</td>\n      <td>11300.0</td>\n    </tr>\n    <tr>\n      <th>2</th>\n      <td>카카오</td>\n      <td>10626.0</td>\n    </tr>\n    <tr>\n      <th>3</th>\n      <td>다우기술</td>\n      <td>6805.0</td>\n    </tr>\n    <tr>\n      <th>4</th>\n      <td>NAVER</td>\n      <td>6732.0</td>\n    </tr>\n    <tr>\n      <th>5</th>\n      <td>LG유플러스</td>\n      <td>6626.0</td>\n    </tr>\n    <tr>\n      <th>6</th>\n      <td>신세계 I&amp;C</td>\n      <td>841.0</td>\n    </tr>\n    <tr>\n      <th>7</th>\n      <td>NICE평가정보</td>\n      <td>527.0</td>\n    </tr>\n    <tr>\n      <th>8</th>\n      <td>상상인</td>\n      <td>423.0</td>\n    </tr>\n    <tr>\n      <th>9</th>\n      <td>NHN KCP</td>\n      <td>349.0</td>\n    </tr>\n    <tr>\n      <th>10</th>\n      <td>콤텍시스템</td>\n      <td>335.0</td>\n    </tr>\n    <tr>\n      <th>11</th>\n      <td>에스트래픽</td>\n      <td>324.0</td>\n    </tr>\n    <tr>\n      <th>12</th>\n      <td>헥토이노베이션</td>\n      <td>322.0</td>\n    </tr>\n    <tr>\n      <th>13</th>\n      <td>아이티센</td>\n      <td>312.0</td>\n    </tr>\n    <tr>\n      <th>14</th>\n      <td>사람인</td>\n      <td>293.0</td>\n    </tr>\n    <tr>\n      <th>15</th>\n      <td>롯데정보통신</td>\n      <td>284.0</td>\n    </tr>\n    <tr>\n      <th>16</th>\n      <td>드림어스컴퍼니</td>\n      <td>273.0</td>\n    </tr>\n    <tr>\n      <th>17</th>\n      <td>케이아이엔엑스</td>\n      <td>273.0</td>\n    </tr>\n    <tr>\n      <th>18</th>\n      <td>더존비즈온</td>\n      <td>231.0</td>\n    </tr>\n    <tr>\n      <th>19</th>\n      <td>윈스</td>\n      <td>192.0</td>\n    </tr>\n    <tr>\n      <th>20</th>\n      <td>지니뮤직</td>\n      <td>187.0</td>\n    </tr>\n    <tr>\n      <th>21</th>\n      <td>KTcs</td>\n      <td>181.0</td>\n    </tr>\n    <tr>\n      <th>22</th>\n      <td>리파인</td>\n      <td>177.0</td>\n    </tr>\n    <tr>\n      <th>23</th>\n      <td>아시아경제</td>\n      <td>175.0</td>\n    </tr>\n    <tr>\n      <th>24</th>\n      <td>YG PLUS</td>\n      <td>167.0</td>\n    </tr>\n    <tr>\n      <th>25</th>\n      <td>KTis</td>\n      <td>159.0</td>\n    </tr>\n    <tr>\n      <th>26</th>\n      <td>이크레더블</td>\n      <td>157.0</td>\n    </tr>\n    <tr>\n      <th>27</th>\n      <td>쌍용정보통신</td>\n      <td>122.0</td>\n    </tr>\n    <tr>\n      <th>28</th>\n      <td>헥토파이낸셜</td>\n      <td>120.0</td>\n    </tr>\n    <tr>\n      <th>29</th>\n      <td>소프트센</td>\n      <td>116.0</td>\n    </tr>\n  </tbody>\n</table>\n</div>"
     },
     "execution_count": 229,
     "metadata": {},
     "output_type": "execute_result"
    }
   ],
   "source": [
    "highdangi120"
   ],
   "metadata": {
    "collapsed": false,
    "ExecuteTime": {
     "end_time": "2024-02-15T04:05:02.352963900Z",
     "start_time": "2024-02-15T04:05:02.292537100Z"
    }
   },
   "id": "dfea84f95ec8e5d3",
   "execution_count": 229
  },
  {
   "cell_type": "code",
   "outputs": [],
   "source": [
    "sethighdangi=set(highdangi120.loc[:30, '기업이름'].to_list())"
   ],
   "metadata": {
    "collapsed": false,
    "ExecuteTime": {
     "end_time": "2024-02-15T04:05:02.790932400Z",
     "start_time": "2024-02-15T04:05:02.787652700Z"
    }
   },
   "id": "413eb881ca9c73f9",
   "execution_count": 230
  },
  {
   "cell_type": "code",
   "outputs": [
    {
     "data": {
      "text/plain": "{'KT',\n 'KTcs',\n 'KTis',\n 'LG유플러스',\n 'NAVER',\n 'NHN KCP',\n 'NICE평가정보',\n 'YG PLUS',\n '다우기술',\n '더존비즈온',\n '드림어스컴퍼니',\n '롯데정보통신',\n '리파인',\n '사람인',\n '삼성에스디에스',\n '상상인',\n '소프트센',\n '신세계 I&C',\n '쌍용정보통신',\n '아시아경제',\n '아이티센',\n '에스트래픽',\n '윈스',\n '이크레더블',\n '지니뮤직',\n '카카오',\n '케이아이엔엑스',\n '콤텍시스템',\n '헥토이노베이션',\n '헥토파이낸셜'}"
     },
     "execution_count": 231,
     "metadata": {},
     "output_type": "execute_result"
    }
   ],
   "source": [
    "sethighdangi"
   ],
   "metadata": {
    "collapsed": false,
    "ExecuteTime": {
     "end_time": "2024-02-15T04:05:03.017875300Z",
     "start_time": "2024-02-15T04:05:03.013940900Z"
    }
   },
   "id": "e0b65741d615703e",
   "execution_count": 231
  },
  {
   "cell_type": "code",
   "outputs": [
    {
     "data": {
      "text/plain": "        기업이름  순이익률(%)\n0      이크레더블    33.23\n1        리파인    32.11\n2     에프앤가이드    27.95\n3    케이아이엔엑스    24.64\n4      에스트래픽    24.52\n5      아시아경제    20.49\n6        사람인    19.65\n7         윈스    18.97\n8       소프트센    15.79\n9        카카오    14.95\n10   신세계 I&C    14.08\n11   헥토이노베이션    12.24\n12   YG PLUS    11.90\n13  NICE평가정보    10.98\n14     위세아이텍    10.21\n15   드림어스컴퍼니     9.94\n16    헥토파이낸셜     9.31\n17      텔코웨어     9.09\n18     NAVER     8.19\n19     디지틀조선     7.92\n20     더존비즈온     7.58\n21      다우기술     7.39\n22       유엔젤     7.35\n23       이글루     7.33\n24   삼성에스디에스     6.56\n25      지니뮤직     6.53\n26        쿠콘     5.87\n27   SCI평가정보     5.73\n28       상상인     5.53\n29        KT     5.41",
      "text/html": "<div>\n<style scoped>\n    .dataframe tbody tr th:only-of-type {\n        vertical-align: middle;\n    }\n\n    .dataframe tbody tr th {\n        vertical-align: top;\n    }\n\n    .dataframe thead th {\n        text-align: right;\n    }\n</style>\n<table border=\"1\" class=\"dataframe\">\n  <thead>\n    <tr style=\"text-align: right;\">\n      <th></th>\n      <th>기업이름</th>\n      <th>순이익률(%)</th>\n    </tr>\n  </thead>\n  <tbody>\n    <tr>\n      <th>0</th>\n      <td>이크레더블</td>\n      <td>33.23</td>\n    </tr>\n    <tr>\n      <th>1</th>\n      <td>리파인</td>\n      <td>32.11</td>\n    </tr>\n    <tr>\n      <th>2</th>\n      <td>에프앤가이드</td>\n      <td>27.95</td>\n    </tr>\n    <tr>\n      <th>3</th>\n      <td>케이아이엔엑스</td>\n      <td>24.64</td>\n    </tr>\n    <tr>\n      <th>4</th>\n      <td>에스트래픽</td>\n      <td>24.52</td>\n    </tr>\n    <tr>\n      <th>5</th>\n      <td>아시아경제</td>\n      <td>20.49</td>\n    </tr>\n    <tr>\n      <th>6</th>\n      <td>사람인</td>\n      <td>19.65</td>\n    </tr>\n    <tr>\n      <th>7</th>\n      <td>윈스</td>\n      <td>18.97</td>\n    </tr>\n    <tr>\n      <th>8</th>\n      <td>소프트센</td>\n      <td>15.79</td>\n    </tr>\n    <tr>\n      <th>9</th>\n      <td>카카오</td>\n      <td>14.95</td>\n    </tr>\n    <tr>\n      <th>10</th>\n      <td>신세계 I&amp;C</td>\n      <td>14.08</td>\n    </tr>\n    <tr>\n      <th>11</th>\n      <td>헥토이노베이션</td>\n      <td>12.24</td>\n    </tr>\n    <tr>\n      <th>12</th>\n      <td>YG PLUS</td>\n      <td>11.90</td>\n    </tr>\n    <tr>\n      <th>13</th>\n      <td>NICE평가정보</td>\n      <td>10.98</td>\n    </tr>\n    <tr>\n      <th>14</th>\n      <td>위세아이텍</td>\n      <td>10.21</td>\n    </tr>\n    <tr>\n      <th>15</th>\n      <td>드림어스컴퍼니</td>\n      <td>9.94</td>\n    </tr>\n    <tr>\n      <th>16</th>\n      <td>헥토파이낸셜</td>\n      <td>9.31</td>\n    </tr>\n    <tr>\n      <th>17</th>\n      <td>텔코웨어</td>\n      <td>9.09</td>\n    </tr>\n    <tr>\n      <th>18</th>\n      <td>NAVER</td>\n      <td>8.19</td>\n    </tr>\n    <tr>\n      <th>19</th>\n      <td>디지틀조선</td>\n      <td>7.92</td>\n    </tr>\n    <tr>\n      <th>20</th>\n      <td>더존비즈온</td>\n      <td>7.58</td>\n    </tr>\n    <tr>\n      <th>21</th>\n      <td>다우기술</td>\n      <td>7.39</td>\n    </tr>\n    <tr>\n      <th>22</th>\n      <td>유엔젤</td>\n      <td>7.35</td>\n    </tr>\n    <tr>\n      <th>23</th>\n      <td>이글루</td>\n      <td>7.33</td>\n    </tr>\n    <tr>\n      <th>24</th>\n      <td>삼성에스디에스</td>\n      <td>6.56</td>\n    </tr>\n    <tr>\n      <th>25</th>\n      <td>지니뮤직</td>\n      <td>6.53</td>\n    </tr>\n    <tr>\n      <th>26</th>\n      <td>쿠콘</td>\n      <td>5.87</td>\n    </tr>\n    <tr>\n      <th>27</th>\n      <td>SCI평가정보</td>\n      <td>5.73</td>\n    </tr>\n    <tr>\n      <th>28</th>\n      <td>상상인</td>\n      <td>5.53</td>\n    </tr>\n    <tr>\n      <th>29</th>\n      <td>KT</td>\n      <td>5.41</td>\n    </tr>\n  </tbody>\n</table>\n</div>"
     },
     "execution_count": 232,
     "metadata": {},
     "output_type": "execute_result"
    }
   ],
   "source": [
    "highrealprofit120"
   ],
   "metadata": {
    "collapsed": false,
    "ExecuteTime": {
     "end_time": "2024-02-15T04:05:03.235362100Z",
     "start_time": "2024-02-15T04:05:03.224786100Z"
    }
   },
   "id": "75cf7784a159024f",
   "execution_count": 232
  },
  {
   "cell_type": "code",
   "outputs": [],
   "source": [
    "sethighprofit=set(highrealprofit120.loc[:30, '기업이름'].to_list())"
   ],
   "metadata": {
    "collapsed": false,
    "ExecuteTime": {
     "end_time": "2024-02-15T04:05:03.570150Z",
     "start_time": "2024-02-15T04:05:03.568093900Z"
    }
   },
   "id": "61ce7cb2aba20bc2",
   "execution_count": 233
  },
  {
   "cell_type": "code",
   "outputs": [],
   "source": [
    "setquickratio=set(highquickratio1.loc[:30,'기업이름'].to_list())"
   ],
   "metadata": {
    "collapsed": false,
    "ExecuteTime": {
     "end_time": "2024-02-15T04:05:03.779973500Z",
     "start_time": "2024-02-15T04:05:03.775613800Z"
    }
   },
   "id": "1dcf4f965a0ae1b8",
   "execution_count": 234
  },
  {
   "cell_type": "code",
   "outputs": [
    {
     "data": {
      "text/plain": "{'NICE평가정보',\n 'SCI평가정보',\n '드림어스컴퍼니',\n '디지틀조선',\n '로지시스',\n '리노스',\n '리파인',\n '미래아이앤지',\n '비트나인',\n '사람인',\n '삼성에스디에스',\n '상상인',\n '소프트센',\n '솔트웨어',\n '신세계 I&C',\n '씨이랩',\n '아시아나IDT',\n '오비고',\n '와이더플래닛',\n '윈스',\n '유엔젤',\n '이글루',\n '이노뎁',\n '이씨에스',\n '이크레더블',\n '줌인터넷',\n '케이아이엔엑스',\n '코난테크놀로지',\n '텔코웨어',\n '플랜티넷',\n '핑거스토리'}"
     },
     "execution_count": 235,
     "metadata": {},
     "output_type": "execute_result"
    }
   ],
   "source": [
    "\n",
    "\n",
    "setquickratio"
   ],
   "metadata": {
    "collapsed": false,
    "ExecuteTime": {
     "end_time": "2024-02-15T04:05:04.530437900Z",
     "start_time": "2024-02-15T04:05:04.512934700Z"
    }
   },
   "id": "ce4a638e0617e037",
   "execution_count": 235
  },
  {
   "cell_type": "code",
   "outputs": [],
   "source": [
    "setlowdebtrate=set(lowdebtrate120.loc[:30,'기업이름'].to_list())"
   ],
   "metadata": {
    "collapsed": false,
    "ExecuteTime": {
     "end_time": "2024-02-15T04:05:04.786253600Z",
     "start_time": "2024-02-15T04:05:04.773286500Z"
    }
   },
   "id": "df9701d88060825",
   "execution_count": 236
  },
  {
   "cell_type": "code",
   "outputs": [
    {
     "data": {
      "text/plain": "{'NICE평가정보',\n 'SCI평가정보',\n 'iMBC',\n '디지틀조선',\n '로지시스',\n '리노스',\n '리파인',\n '미래아이앤지',\n '브랜드엑스코퍼레이션',\n '사람인',\n '삼성에스디에스',\n '신세계 I&C',\n '씨이랩',\n '아시아나IDT',\n '오비고',\n '윈스',\n '유엔젤',\n '이글루',\n '이노뎁',\n '이크레더블',\n '인포뱅크',\n '줌인터넷',\n '컨텍',\n '케이아이엔엑스',\n '코난테크놀로지',\n '쿠콘',\n '키다리스튜디오',\n '텔코웨어',\n '플랜티넷',\n '핑거스토리'}"
     },
     "execution_count": 237,
     "metadata": {},
     "output_type": "execute_result"
    }
   ],
   "source": [
    "setlowdebtrate"
   ],
   "metadata": {
    "collapsed": false,
    "ExecuteTime": {
     "end_time": "2024-02-15T04:05:05.062483800Z",
     "start_time": "2024-02-15T04:05:05.049657Z"
    }
   },
   "id": "bc1ea8357dd04062",
   "execution_count": 237
  },
  {
   "cell_type": "code",
   "outputs": [],
   "source": [
    "\n",
    "\n",
    "sethighROE=set(highRoe120.loc[:30,'기업이름'].to_list())"
   ],
   "metadata": {
    "collapsed": false,
    "ExecuteTime": {
     "end_time": "2024-02-15T04:05:05.589671700Z",
     "start_time": "2024-02-15T04:05:05.573126100Z"
    }
   },
   "id": "6f1373e4298a2fb1",
   "execution_count": 238
  },
  {
   "cell_type": "code",
   "outputs": [
    {
     "data": {
      "text/plain": "{'KTcs',\n 'NHN KCP',\n 'NICE평가정보',\n 'YG PLUS',\n '다우기술',\n '드림어스컴퍼니',\n '리파인',\n '링네트',\n '브랜드엑스코퍼레이션',\n '사람인',\n '삼성에스디에스',\n '소프트센',\n '쌍용정보통신',\n '에스트래픽',\n '에프앤가이드',\n '오파스넷',\n '위세아이텍',\n '윈스',\n '이글루',\n '이씨에스',\n '이크레더블',\n '지니뮤직',\n '카카오',\n '컨텍',\n '케이아이엔엑스',\n '콤텍시스템',\n '크라우드웍스',\n '피피아이',\n '헥토이노베이션',\n '헥토파이낸셜'}"
     },
     "execution_count": 239,
     "metadata": {},
     "output_type": "execute_result"
    }
   ],
   "source": [
    "sethighROE"
   ],
   "metadata": {
    "collapsed": false,
    "ExecuteTime": {
     "end_time": "2024-02-15T04:05:05.844240500Z",
     "start_time": "2024-02-15T04:05:05.831517500Z"
    }
   },
   "id": "3e1f03f508460139",
   "execution_count": 239
  },
  {
   "cell_type": "code",
   "outputs": [
    {
     "data": {
      "text/plain": "{'NICE평가정보', '리파인', '사람인', '삼성에스디에스', '윈스', '이크레더블', '케이아이엔엑스'}"
     },
     "execution_count": 240,
     "metadata": {},
     "output_type": "execute_result"
    }
   ],
   "source": [
    "sethighdangi&sethighprofit&sethighROE&setlowdebtrate&setquickratio"
   ],
   "metadata": {
    "collapsed": false,
    "ExecuteTime": {
     "end_time": "2024-02-15T04:05:06.135346100Z",
     "start_time": "2024-02-15T04:05:06.124365600Z"
    }
   },
   "id": "d0c1b50083d4c9a2",
   "execution_count": 240
  },
  {
   "cell_type": "code",
   "outputs": [],
   "source": [
    "\n"
   ],
   "metadata": {
    "collapsed": false,
    "ExecuteTime": {
     "end_time": "2024-02-15T04:04:03.000788100Z",
     "start_time": "2024-02-15T04:04:02.974541100Z"
    }
   },
   "id": "58d93a5a09ed0fb9",
   "execution_count": 226
  },
  {
   "cell_type": "code",
   "outputs": [],
   "source": [],
   "metadata": {
    "collapsed": false
   },
   "id": "96e2adc19277e2c8"
  }
 ],
 "metadata": {
  "kernelspec": {
   "display_name": "Python 3 (ipykernel)",
   "language": "python",
   "name": "python3"
  },
  "language_info": {
   "codemirror_mode": {
    "name": "ipython",
    "version": 3
   },
   "file_extension": ".py",
   "mimetype": "text/x-python",
   "name": "python",
   "nbconvert_exporter": "python",
   "pygments_lexer": "ipython3",
   "version": "3.11.5"
  }
 },
 "nbformat": 4,
 "nbformat_minor": 5
}
