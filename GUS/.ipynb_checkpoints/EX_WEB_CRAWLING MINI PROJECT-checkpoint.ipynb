{
 "cells": [
  {
   "cell_type": "code",
   "execution_count": 203,
   "id": "initial_id",
   "metadata": {
    "ExecuteTime": {
     "end_time": "2024-02-14T11:27:12.290475400Z",
     "start_time": "2024-02-14T11:27:12.233467900Z"
    },
    "collapsed": true
   },
   "outputs": [],
   "source": [
    "from wordcloud import WordCloud\n",
    "from bs4 import BeautifulSoup\n",
    "import requests\n",
    "from konlpy.tag import Okt\n",
    "from collections import Counter\n",
    "import matplotlib.pyplot as plt\n",
    "import time\n",
    "import platform\n",
    "import numpy as np\n",
    "from PIL import Image\n",
    "import pandas as pd\n",
    "import collections\n",
    "collections.Callable = collections.abc.Callable\n",
    "from selenium import webdriver\n",
    "\n"
   ]
  },
  {
   "cell_type": "code",
   "execution_count": 204,
   "id": "595a681e59ca9eac",
   "metadata": {
    "ExecuteTime": {
     "end_time": "2024-02-14T11:27:12.294462100Z",
     "start_time": "2024-02-14T11:27:12.255793900Z"
    }
   },
   "outputs": [],
   "source": [
    "file=\"stockcompanylist.csv\""
   ]
  },
  {
   "cell_type": "code",
   "execution_count": 205,
   "id": "f3e37d056096cb62",
   "metadata": {
    "ExecuteTime": {
     "end_time": "2024-02-14T11:27:12.309885400Z",
     "start_time": "2024-02-14T11:27:12.296982300Z"
    }
   },
   "outputs": [],
   "source": [
    "stockcompanydf=pd.read_csv(file)"
   ]
  },
  {
   "cell_type": "code",
   "execution_count": 206,
   "id": "a5e1ba79d96d2b8c",
   "metadata": {
    "ExecuteTime": {
     "end_time": "2024-02-14T11:27:12.333459300Z",
     "start_time": "2024-02-14T11:27:12.311875400Z"
    }
   },
   "outputs": [
    {
     "data": {
      "text/html": [
       "<div>\n",
       "<style scoped>\n",
       "    .dataframe tbody tr th:only-of-type {\n",
       "        vertical-align: middle;\n",
       "    }\n",
       "\n",
       "    .dataframe tbody tr th {\n",
       "        vertical-align: top;\n",
       "    }\n",
       "\n",
       "    .dataframe thead th {\n",
       "        text-align: right;\n",
       "    }\n",
       "</style>\n",
       "<table border=\"1\" class=\"dataframe\">\n",
       "  <thead>\n",
       "    <tr style=\"text-align: right;\">\n",
       "      <th></th>\n",
       "      <th>회사명</th>\n",
       "      <th>종목코드</th>\n",
       "      <th>업종</th>\n",
       "      <th>주요제품</th>\n",
       "      <th>상장일</th>\n",
       "      <th>대표자명</th>\n",
       "      <th>홈페이지</th>\n",
       "      <th>지역</th>\n",
       "    </tr>\n",
       "  </thead>\n",
       "  <tbody>\n",
       "    <tr>\n",
       "      <th>0</th>\n",
       "      <td>컨텍</td>\n",
       "      <td>451760</td>\n",
       "      <td>컴퓨터 프로그래밍, 시스템 통합 및 관리업</td>\n",
       "      <td>지상국 시스템 엔지니어링 솔루션, 위성영상 생성을 위한 데이터처리 솔루션</td>\n",
       "      <td>2023-11-09 00:00:00</td>\n",
       "      <td>이성희</td>\n",
       "      <td>http://kr.contec.kr/</td>\n",
       "      <td>대전광역시</td>\n",
       "    </tr>\n",
       "    <tr>\n",
       "      <th>1</th>\n",
       "      <td>크라우드웍스</td>\n",
       "      <td>355390</td>\n",
       "      <td>소프트웨어 개발 및 공급업</td>\n",
       "      <td>인공지능 데이터 구축 서비스</td>\n",
       "      <td>2023-08-31 00:00:00</td>\n",
       "      <td>박민우</td>\n",
       "      <td>http://www.crowdworks.kr</td>\n",
       "      <td>서울특별시</td>\n",
       "    </tr>\n",
       "    <tr>\n",
       "      <th>2</th>\n",
       "      <td>NICE평가정보</td>\n",
       "      <td>30190</td>\n",
       "      <td>기타 정보 서비스업</td>\n",
       "      <td>개인 및 기업정보, 솔루션</td>\n",
       "      <td>2023-08-08 00:00:00</td>\n",
       "      <td>신희부</td>\n",
       "      <td>NaN</td>\n",
       "      <td>서울특별시</td>\n",
       "    </tr>\n",
       "    <tr>\n",
       "      <th>3</th>\n",
       "      <td>씨유박스</td>\n",
       "      <td>340810</td>\n",
       "      <td>소프트웨어 개발 및 공급업</td>\n",
       "      <td>AI얼굴인식 시스템, AI얼굴인증 솔루션, AI 객체인식 솔루션, AI데이터 플랫폼</td>\n",
       "      <td>2023-05-19 00:00:00</td>\n",
       "      <td>남운성</td>\n",
       "      <td>http://www.cubox.ai</td>\n",
       "      <td>서울특별시</td>\n",
       "    </tr>\n",
       "    <tr>\n",
       "      <th>4</th>\n",
       "      <td>핑거스토리</td>\n",
       "      <td>417180</td>\n",
       "      <td>기타 정보 서비스업</td>\n",
       "      <td>웹툰, 디지털 만화, 웹소설</td>\n",
       "      <td>2022-12-08 00:00:00</td>\n",
       "      <td>라현성</td>\n",
       "      <td>http://www.mootoon.co.kr</td>\n",
       "      <td>서울특별시</td>\n",
       "    </tr>\n",
       "    <tr>\n",
       "      <th>...</th>\n",
       "      <td>...</td>\n",
       "      <td>...</td>\n",
       "      <td>...</td>\n",
       "      <td>...</td>\n",
       "      <td>...</td>\n",
       "      <td>...</td>\n",
       "      <td>...</td>\n",
       "      <td>...</td>\n",
       "    </tr>\n",
       "    <tr>\n",
       "      <th>89</th>\n",
       "      <td>키다리스튜디오</td>\n",
       "      <td>20120</td>\n",
       "      <td>자료처리, 호스팅, 포털 및 기타 인터넷 정보매개 서비스업</td>\n",
       "      <td>만화, 소설 등 콘텐츠 제작 및 유통, 판매, 컴퓨터 프로그래밍, 시스템 통합 및 관리업</td>\n",
       "      <td>1996-07-03 00:00:00</td>\n",
       "      <td>김영훈</td>\n",
       "      <td>http://www.kidaristudio.com</td>\n",
       "      <td>서울특별시</td>\n",
       "    </tr>\n",
       "    <tr>\n",
       "      <th>90</th>\n",
       "      <td>대신정보통신</td>\n",
       "      <td>20180</td>\n",
       "      <td>컴퓨터 프로그래밍, 시스템 통합 및 관리업</td>\n",
       "      <td>디지털서비스, SI서비스, 산업용 PDA</td>\n",
       "      <td>1995-10-06 00:00:00</td>\n",
       "      <td>이재원, 최현택 (각자 대표이사)</td>\n",
       "      <td>http://www.dsic.co.kr</td>\n",
       "      <td>광주광역시</td>\n",
       "    </tr>\n",
       "    <tr>\n",
       "      <th>91</th>\n",
       "      <td>신라섬유</td>\n",
       "      <td>1000</td>\n",
       "      <td>가전제품 및 정보통신장비 소매업</td>\n",
       "      <td>부동산</td>\n",
       "      <td>1994-06-28 00:00:00</td>\n",
       "      <td>박재흥</td>\n",
       "      <td>http://sillatextile.co.kr</td>\n",
       "      <td>대구광역시</td>\n",
       "    </tr>\n",
       "    <tr>\n",
       "      <th>92</th>\n",
       "      <td>DB</td>\n",
       "      <td>12030</td>\n",
       "      <td>컴퓨터 프로그래밍, 시스템 통합 및 관리업</td>\n",
       "      <td>컴퓨터 프로그래밍, 시스템 통합 및 관리</td>\n",
       "      <td>1993-01-06 00:00:00</td>\n",
       "      <td>문덕식,강운식 (각자 대표이사)</td>\n",
       "      <td>http://www.dbinc.co.kr</td>\n",
       "      <td>서울특별시</td>\n",
       "    </tr>\n",
       "    <tr>\n",
       "      <th>93</th>\n",
       "      <td>더존비즈온</td>\n",
       "      <td>12510</td>\n",
       "      <td>컴퓨터 프로그래밍, 시스템 통합 및 관리업</td>\n",
       "      <td>응용 소프트웨어 개발 및 공급업</td>\n",
       "      <td>1988-10-28 00:00:00</td>\n",
       "      <td>김용우</td>\n",
       "      <td>http://www.douzone.com</td>\n",
       "      <td>강원특별자치도</td>\n",
       "    </tr>\n",
       "  </tbody>\n",
       "</table>\n",
       "<p>94 rows × 8 columns</p>\n",
       "</div>"
      ],
      "text/plain": [
       "         회사명    종목코드                                업종  \\\n",
       "0         컨텍  451760           컴퓨터 프로그래밍, 시스템 통합 및 관리업   \n",
       "1     크라우드웍스  355390                    소프트웨어 개발 및 공급업   \n",
       "2   NICE평가정보   30190                        기타 정보 서비스업   \n",
       "3       씨유박스  340810                    소프트웨어 개발 및 공급업   \n",
       "4      핑거스토리  417180                        기타 정보 서비스업   \n",
       "..       ...     ...                               ...   \n",
       "89   키다리스튜디오   20120  자료처리, 호스팅, 포털 및 기타 인터넷 정보매개 서비스업   \n",
       "90    대신정보통신   20180           컴퓨터 프로그래밍, 시스템 통합 및 관리업   \n",
       "91      신라섬유    1000                 가전제품 및 정보통신장비 소매업   \n",
       "92        DB   12030           컴퓨터 프로그래밍, 시스템 통합 및 관리업   \n",
       "93     더존비즈온   12510           컴퓨터 프로그래밍, 시스템 통합 및 관리업   \n",
       "\n",
       "                                                 주요제품                  상장일  \\\n",
       "0            지상국 시스템 엔지니어링 솔루션, 위성영상 생성을 위한 데이터처리 솔루션  2023-11-09 00:00:00   \n",
       "1                                     인공지능 데이터 구축 서비스  2023-08-31 00:00:00   \n",
       "2                                      개인 및 기업정보, 솔루션  2023-08-08 00:00:00   \n",
       "3      AI얼굴인식 시스템, AI얼굴인증 솔루션, AI 객체인식 솔루션, AI데이터 플랫폼  2023-05-19 00:00:00   \n",
       "4                                     웹툰, 디지털 만화, 웹소설  2022-12-08 00:00:00   \n",
       "..                                                ...                  ...   \n",
       "89  만화, 소설 등 콘텐츠 제작 및 유통, 판매, 컴퓨터 프로그래밍, 시스템 통합 및 관리업  1996-07-03 00:00:00   \n",
       "90                             디지털서비스, SI서비스, 산업용 PDA  1995-10-06 00:00:00   \n",
       "91                                                부동산  1994-06-28 00:00:00   \n",
       "92                             컴퓨터 프로그래밍, 시스템 통합 및 관리  1993-01-06 00:00:00   \n",
       "93                                  응용 소프트웨어 개발 및 공급업  1988-10-28 00:00:00   \n",
       "\n",
       "                  대표자명                         홈페이지       지역  \n",
       "0                  이성희         http://kr.contec.kr/    대전광역시  \n",
       "1                  박민우     http://www.crowdworks.kr    서울특별시  \n",
       "2                  신희부                          NaN    서울특별시  \n",
       "3                  남운성          http://www.cubox.ai    서울특별시  \n",
       "4                  라현성     http://www.mootoon.co.kr    서울특별시  \n",
       "..                 ...                          ...      ...  \n",
       "89                 김영훈  http://www.kidaristudio.com    서울특별시  \n",
       "90  이재원, 최현택 (각자 대표이사)        http://www.dsic.co.kr    광주광역시  \n",
       "91                 박재흥    http://sillatextile.co.kr    대구광역시  \n",
       "92   문덕식,강운식 (각자 대표이사)       http://www.dbinc.co.kr    서울특별시  \n",
       "93                 김용우       http://www.douzone.com  강원특별자치도  \n",
       "\n",
       "[94 rows x 8 columns]"
      ]
     },
     "execution_count": 206,
     "metadata": {},
     "output_type": "execute_result"
    }
   ],
   "source": [
    "stockcompanydf"
   ]
  },
  {
   "cell_type": "code",
   "execution_count": 207,
   "id": "555f7cc9bea3b6e9",
   "metadata": {
    "ExecuteTime": {
     "end_time": "2024-02-14T11:27:12.333459300Z",
     "start_time": "2024-02-14T11:27:12.322510900Z"
    }
   },
   "outputs": [],
   "source": [
    "codenum=stockcompanydf['종목코드'].astype(str)"
   ]
  },
  {
   "cell_type": "code",
   "execution_count": 208,
   "id": "fb85bff7fd1841d9",
   "metadata": {
    "ExecuteTime": {
     "end_time": "2024-02-14T11:27:12.334455Z",
     "start_time": "2024-02-14T11:27:12.328015200Z"
    }
   },
   "outputs": [
    {
     "data": {
      "text/plain": [
       "0     451760\n",
       "1     355390\n",
       "2      30190\n",
       "3     340810\n",
       "4     417180\n",
       "       ...  \n",
       "89     20120\n",
       "90     20180\n",
       "91      1000\n",
       "92     12030\n",
       "93     12510\n",
       "Name: 종목코드, Length: 94, dtype: object"
      ]
     },
     "execution_count": 208,
     "metadata": {},
     "output_type": "execute_result"
    }
   ],
   "source": [
    "codenum"
   ]
  },
  {
   "cell_type": "code",
   "execution_count": 209,
   "id": "3b5927e21e036bb",
   "metadata": {
    "ExecuteTime": {
     "end_time": "2024-02-14T11:27:12.345881Z",
     "start_time": "2024-02-14T11:27:12.335451600Z"
    }
   },
   "outputs": [
    {
     "name": "stdout",
     "output_type": "stream",
     "text": [
      "<class 'pandas.core.series.Series'>\n",
      "RangeIndex: 94 entries, 0 to 93\n",
      "Series name: 종목코드\n",
      "Non-Null Count  Dtype \n",
      "--------------  ----- \n",
      "94 non-null     object\n",
      "dtypes: object(1)\n",
      "memory usage: 884.0+ bytes\n"
     ]
    }
   ],
   "source": [
    "codenum.info()"
   ]
  },
  {
   "cell_type": "code",
   "execution_count": 210,
   "id": "76de8dd153c2f080",
   "metadata": {
    "ExecuteTime": {
     "end_time": "2024-02-14T11:27:12.368059600Z",
     "start_time": "2024-02-14T11:27:12.341551900Z"
    }
   },
   "outputs": [],
   "source": [
    "codelist=[]\n",
    "for code in codenum:\n",
    "    if len(code)==4:\n",
    "        codelist.append('00'+code)\n",
    "    elif len(code)==5:\n",
    "        codelist.append('0'+code)\n",
    "    else:\n",
    "        codelist.append(code)\n",
    "        \n",
    "        "
   ]
  },
  {
   "cell_type": "code",
   "execution_count": 211,
   "id": "7849ce73b1fddb56",
   "metadata": {
    "ExecuteTime": {
     "end_time": "2024-02-14T11:27:12.388205Z",
     "start_time": "2024-02-14T11:27:12.349867600Z"
    }
   },
   "outputs": [
    {
     "data": {
      "text/plain": [
       "['451760',\n",
       " '355390',\n",
       " '030190',\n",
       " '340810',\n",
       " '417180',\n",
       " '424760',\n",
       " '402030',\n",
       " '357880',\n",
       " '377450',\n",
       " '352910',\n",
       " '303530',\n",
       " '294570',\n",
       " '351330',\n",
       " '189330',\n",
       " '321820',\n",
       " '064850',\n",
       " '301300',\n",
       " '337930',\n",
       " '304100',\n",
       " '065370',\n",
       " '062970',\n",
       " '226330',\n",
       " '328380',\n",
       " '300080',\n",
       " '234340',\n",
       " '307870',\n",
       " '267850',\n",
       " '173130',\n",
       " '286940',\n",
       " '042000',\n",
       " '234300',\n",
       " '035720',\n",
       " '243870',\n",
       " '250060',\n",
       " '239340',\n",
       " '127710',\n",
       " '067730',\n",
       " '214180',\n",
       " '124500',\n",
       " '207760',\n",
       " '018260',\n",
       " '121060',\n",
       " '143240',\n",
       " '139050',\n",
       " '071840',\n",
       " '136540',\n",
       " '093320',\n",
       " '058860',\n",
       " '030790',\n",
       " '058850',\n",
       " '067920',\n",
       " '115500',\n",
       " '035420',\n",
       " '092130',\n",
       " '032640',\n",
       " '067010',\n",
       " '072770',\n",
       " '089150',\n",
       " '089230',\n",
       " '039290',\n",
       " '035510',\n",
       " '075130',\n",
       " '052220',\n",
       " '052460',\n",
       " '078000',\n",
       " '070590',\n",
       " '060570',\n",
       " '037270',\n",
       " '072130',\n",
       " '066980',\n",
       " '039980',\n",
       " '042500',\n",
       " '040350',\n",
       " '060250',\n",
       " '053590',\n",
       " '049480',\n",
       " '038540',\n",
       " '043610',\n",
       " '038680',\n",
       " '010280',\n",
       " '036120',\n",
       " '007120',\n",
       " '033230',\n",
       " '030200',\n",
       " '023590',\n",
       " '033130',\n",
       " '032680',\n",
       " '028080',\n",
       " '031820',\n",
       " '020120',\n",
       " '020180',\n",
       " '001000',\n",
       " '012030',\n",
       " '012510']"
      ]
     },
     "execution_count": 211,
     "metadata": {},
     "output_type": "execute_result"
    }
   ],
   "source": [
    "codelist"
   ]
  },
  {
   "cell_type": "code",
   "execution_count": 212,
   "id": "b2af4dd60f4fe6cb",
   "metadata": {
    "ExecuteTime": {
     "end_time": "2024-02-14T11:27:12.441579400Z",
     "start_time": "2024-02-14T11:27:12.372033900Z"
    }
   },
   "outputs": [
    {
     "data": {
      "text/plain": [
       "94"
      ]
     },
     "execution_count": 212,
     "metadata": {},
     "output_type": "execute_result"
    }
   ],
   "source": [
    "len(codelist)"
   ]
  },
  {
   "cell_type": "code",
   "execution_count": 212,
   "id": "93bc891eedb9dd26",
   "metadata": {
    "ExecuteTime": {
     "end_time": "2024-02-14T11:27:12.461511400Z",
     "start_time": "2024-02-14T11:27:12.392693Z"
    }
   },
   "outputs": [],
   "source": []
  },
  {
   "cell_type": "code",
   "execution_count": 213,
   "id": "790a14c73a2c4cbd",
   "metadata": {
    "ExecuteTime": {
     "end_time": "2024-02-14T11:27:12.481025Z",
     "start_time": "2024-02-14T11:27:12.464501400Z"
    }
   },
   "outputs": [],
   "source": [
    "urllist=[]\n",
    "for i in range(0,len(codelist)):\n",
    "    urllist.append(\"https://finance.naver.com/item/main.naver?code=\"+codelist[i])\n",
    "\n"
   ]
  },
  {
   "cell_type": "markdown",
   "id": "c6f5e218c41f7aac",
   "metadata": {},
   "source": []
  },
  {
   "cell_type": "code",
   "execution_count": 214,
   "id": "3f028a4d2ed0f749",
   "metadata": {
    "ExecuteTime": {
     "end_time": "2024-02-14T11:27:13.922648100Z",
     "start_time": "2024-02-14T11:27:12.483018700Z"
    }
   },
   "outputs": [],
   "source": [
    "driver = webdriver.Chrome()"
   ]
  },
  {
   "cell_type": "code",
   "execution_count": 215,
   "id": "d6ab1d995403d3d5",
   "metadata": {
    "ExecuteTime": {
     "end_time": "2024-02-14T11:27:13.929024500Z",
     "start_time": "2024-02-14T11:27:13.922648100Z"
    }
   },
   "outputs": [
    {
     "data": {
      "text/plain": [
       "'https://finance.naver.com/item/main.naver?code=451760'"
      ]
     },
     "execution_count": 215,
     "metadata": {},
     "output_type": "execute_result"
    }
   ],
   "source": [
    "urllist[0]"
   ]
  },
  {
   "cell_type": "code",
   "execution_count": 216,
   "id": "d2fa3a19c1491e89",
   "metadata": {
    "ExecuteTime": {
     "end_time": "2024-02-14T11:29:05.704673200Z",
     "start_time": "2024-02-14T11:27:13.930025800Z"
    }
   },
   "outputs": [
    {
     "ename": "NoSuchWindowException",
     "evalue": "Message: no such window: target window already closed\nfrom unknown error: web view not found\n  (Session info: chrome=121.0.6167.161)\nStacktrace:\n\tGetHandleVerifier [0x00007FF6172A5E42+3538674]\n\t(No symbol) [0x00007FF616EC4C02]\n\t(No symbol) [0x00007FF616D75AEB]\n\t(No symbol) [0x00007FF616D5288C]\n\t(No symbol) [0x00007FF616DE5DD7]\n\t(No symbol) [0x00007FF616DFB40F]\n\t(No symbol) [0x00007FF616DDEE53]\n\t(No symbol) [0x00007FF616DAF514]\n\t(No symbol) [0x00007FF616DB0631]\n\tGetHandleVerifier [0x00007FF6172D6CAD+3738973]\n\tGetHandleVerifier [0x00007FF61732C506+4089270]\n\tGetHandleVerifier [0x00007FF617324823+4057299]\n\tGetHandleVerifier [0x00007FF616FF5C49+720121]\n\t(No symbol) [0x00007FF616ED126F]\n\t(No symbol) [0x00007FF616ECC304]\n\t(No symbol) [0x00007FF616ECC432]\n\t(No symbol) [0x00007FF616EBBD04]\n\tBaseThreadInitThunk [0x00007FF80A25257D+29]\n\tRtlUserThreadStart [0x00007FF80B1AAA58+40]\n",
     "output_type": "error",
     "traceback": [
      "\u001b[1;31m---------------------------------------------------------------------------\u001b[0m",
      "\u001b[1;31mNoSuchWindowException\u001b[0m                     Traceback (most recent call last)",
      "Cell \u001b[1;32mIn[216], line 5\u001b[0m\n\u001b[0;32m      3\u001b[0m driver\u001b[38;5;241m.\u001b[39mget(finalurl)\n\u001b[0;32m      4\u001b[0m time\u001b[38;5;241m.\u001b[39msleep(\u001b[38;5;241m2\u001b[39m)\n\u001b[1;32m----> 5\u001b[0m webpages\u001b[38;5;241m.\u001b[39mappend(\u001b[43mdriver\u001b[49m\u001b[38;5;241;43m.\u001b[39;49m\u001b[43mpage_source\u001b[49m)\n",
      "File \u001b[1;32m~\\PycharmProjects\\WebCrawlingProject\\venv\\Lib\\site-packages\\selenium\\webdriver\\remote\\webdriver.py:448\u001b[0m, in \u001b[0;36mWebDriver.page_source\u001b[1;34m(self)\u001b[0m\n\u001b[0;32m    439\u001b[0m \u001b[38;5;129m@property\u001b[39m\n\u001b[0;32m    440\u001b[0m \u001b[38;5;28;01mdef\u001b[39;00m \u001b[38;5;21mpage_source\u001b[39m(\u001b[38;5;28mself\u001b[39m) \u001b[38;5;241m-\u001b[39m\u001b[38;5;241m>\u001b[39m \u001b[38;5;28mstr\u001b[39m:\n\u001b[0;32m    441\u001b[0m \u001b[38;5;250m    \u001b[39m\u001b[38;5;124;03m\"\"\"Gets the source of the current page.\u001b[39;00m\n\u001b[0;32m    442\u001b[0m \n\u001b[0;32m    443\u001b[0m \u001b[38;5;124;03m    :Usage:\u001b[39;00m\n\u001b[1;32m   (...)\u001b[0m\n\u001b[0;32m    446\u001b[0m \u001b[38;5;124;03m            driver.page_source\u001b[39;00m\n\u001b[0;32m    447\u001b[0m \u001b[38;5;124;03m    \"\"\"\u001b[39;00m\n\u001b[1;32m--> 448\u001b[0m     \u001b[38;5;28;01mreturn\u001b[39;00m \u001b[38;5;28;43mself\u001b[39;49m\u001b[38;5;241;43m.\u001b[39;49m\u001b[43mexecute\u001b[49m\u001b[43m(\u001b[49m\u001b[43mCommand\u001b[49m\u001b[38;5;241;43m.\u001b[39;49m\u001b[43mGET_PAGE_SOURCE\u001b[49m\u001b[43m)\u001b[49m[\u001b[38;5;124m\"\u001b[39m\u001b[38;5;124mvalue\u001b[39m\u001b[38;5;124m\"\u001b[39m]\n",
      "File \u001b[1;32m~\\PycharmProjects\\WebCrawlingProject\\venv\\Lib\\site-packages\\selenium\\webdriver\\remote\\webdriver.py:347\u001b[0m, in \u001b[0;36mWebDriver.execute\u001b[1;34m(self, driver_command, params)\u001b[0m\n\u001b[0;32m    345\u001b[0m response \u001b[38;5;241m=\u001b[39m \u001b[38;5;28mself\u001b[39m\u001b[38;5;241m.\u001b[39mcommand_executor\u001b[38;5;241m.\u001b[39mexecute(driver_command, params)\n\u001b[0;32m    346\u001b[0m \u001b[38;5;28;01mif\u001b[39;00m response:\n\u001b[1;32m--> 347\u001b[0m     \u001b[38;5;28;43mself\u001b[39;49m\u001b[38;5;241;43m.\u001b[39;49m\u001b[43merror_handler\u001b[49m\u001b[38;5;241;43m.\u001b[39;49m\u001b[43mcheck_response\u001b[49m\u001b[43m(\u001b[49m\u001b[43mresponse\u001b[49m\u001b[43m)\u001b[49m\n\u001b[0;32m    348\u001b[0m     response[\u001b[38;5;124m\"\u001b[39m\u001b[38;5;124mvalue\u001b[39m\u001b[38;5;124m\"\u001b[39m] \u001b[38;5;241m=\u001b[39m \u001b[38;5;28mself\u001b[39m\u001b[38;5;241m.\u001b[39m_unwrap_value(response\u001b[38;5;241m.\u001b[39mget(\u001b[38;5;124m\"\u001b[39m\u001b[38;5;124mvalue\u001b[39m\u001b[38;5;124m\"\u001b[39m, \u001b[38;5;28;01mNone\u001b[39;00m))\n\u001b[0;32m    349\u001b[0m     \u001b[38;5;28;01mreturn\u001b[39;00m response\n",
      "File \u001b[1;32m~\\PycharmProjects\\WebCrawlingProject\\venv\\Lib\\site-packages\\selenium\\webdriver\\remote\\errorhandler.py:229\u001b[0m, in \u001b[0;36mErrorHandler.check_response\u001b[1;34m(self, response)\u001b[0m\n\u001b[0;32m    227\u001b[0m         alert_text \u001b[38;5;241m=\u001b[39m value[\u001b[38;5;124m\"\u001b[39m\u001b[38;5;124malert\u001b[39m\u001b[38;5;124m\"\u001b[39m]\u001b[38;5;241m.\u001b[39mget(\u001b[38;5;124m\"\u001b[39m\u001b[38;5;124mtext\u001b[39m\u001b[38;5;124m\"\u001b[39m)\n\u001b[0;32m    228\u001b[0m     \u001b[38;5;28;01mraise\u001b[39;00m exception_class(message, screen, stacktrace, alert_text)  \u001b[38;5;66;03m# type: ignore[call-arg]  # mypy is not smart enough here\u001b[39;00m\n\u001b[1;32m--> 229\u001b[0m \u001b[38;5;28;01mraise\u001b[39;00m exception_class(message, screen, stacktrace)\n",
      "\u001b[1;31mNoSuchWindowException\u001b[0m: Message: no such window: target window already closed\nfrom unknown error: web view not found\n  (Session info: chrome=121.0.6167.161)\nStacktrace:\n\tGetHandleVerifier [0x00007FF6172A5E42+3538674]\n\t(No symbol) [0x00007FF616EC4C02]\n\t(No symbol) [0x00007FF616D75AEB]\n\t(No symbol) [0x00007FF616D5288C]\n\t(No symbol) [0x00007FF616DE5DD7]\n\t(No symbol) [0x00007FF616DFB40F]\n\t(No symbol) [0x00007FF616DDEE53]\n\t(No symbol) [0x00007FF616DAF514]\n\t(No symbol) [0x00007FF616DB0631]\n\tGetHandleVerifier [0x00007FF6172D6CAD+3738973]\n\tGetHandleVerifier [0x00007FF61732C506+4089270]\n\tGetHandleVerifier [0x00007FF617324823+4057299]\n\tGetHandleVerifier [0x00007FF616FF5C49+720121]\n\t(No symbol) [0x00007FF616ED126F]\n\t(No symbol) [0x00007FF616ECC304]\n\t(No symbol) [0x00007FF616ECC432]\n\t(No symbol) [0x00007FF616EBBD04]\n\tBaseThreadInitThunk [0x00007FF80A25257D+29]\n\tRtlUserThreadStart [0x00007FF80B1AAA58+40]\n"
     ]
    }
   ],
   "source": [
    "webpages = []\n",
    "for finalurl in urllist:\n",
    "    driver.get(finalurl)\n",
    "    time.sleep(2)\n",
    "    webpages.append(driver.page_source)\n",
    "   \n",
    "   \n",
    "   \n",
    "    "
   ]
  },
  {
   "cell_type": "code",
   "execution_count": 1,
   "id": "b8a458bef410ba06",
   "metadata": {
    "ExecuteTime": {
     "start_time": "2024-02-14T11:29:05.699671300Z"
    }
   },
   "outputs": [],
   "source": [
    "import pickle\n",
    "# \n",
    "# with open('stockcompanylist.pickle', 'wb') as f:\n",
    "#     pickle.dump(webpages, f)"
   ]
  },
  {
   "cell_type": "code",
   "execution_count": null,
   "id": "752e718367f0010",
   "metadata": {
    "ExecuteTime": {
     "start_time": "2024-02-14T11:29:05.701663500Z"
    }
   },
   "outputs": [],
   "source": [
    "save = BeautifulSoup(webpages[10],'lxml')\n",
    "with open('test.html' ,'r', encoding='euc-kr') as f:\n",
    "    save = BeautifulSoup(f.read(), 'lxml')\n",
    "for number in range(8,24): #8, 24\n",
    "    # print(save.select_one('th.h_th2.th_cop_anal{}'.format(number)).get_text())\n",
    "    print(save.select_one('th.h_th2.th_cop_anal{}'.format(number)).parent.select('td')[2].get_text().strip())"
   ]
  },
  {
   "cell_type": "code",
   "execution_count": 2,
   "id": "1ff0e39958e432a8",
   "metadata": {
    "ExecuteTime": {
     "end_time": "2024-02-14T11:31:06.843940100Z",
     "start_time": "2024-02-14T11:31:06.815084500Z"
    }
   },
   "outputs": [],
   "source": [
    "with open('stockcompanylist.pickle', 'rb') as f:\n",
    "    abc=pickle.load(f)\n",
    "\n",
    "    "
   ]
  },
  {
   "cell_type": "code",
   "execution_count": 5,
   "id": "86b2724385cf5822",
   "metadata": {
    "ExecuteTime": {
     "end_time": "2024-02-14T11:35:59.070205900Z",
     "start_time": "2024-02-14T11:35:59.017825800Z"
    }
   },
   "outputs": [
    {
     "name": "stderr",
     "output_type": "stream",
     "text": [
      "IOPub data rate exceeded.\n",
      "The notebook server will temporarily stop sending output\n",
      "to the client in order to avoid crashing it.\n",
      "To change this limit, set the config variable\n",
      "`--NotebookApp.iopub_data_rate_limit`.\n",
      "\n",
      "Current values:\n",
      "NotebookApp.iopub_data_rate_limit=1000000.0 (bytes/sec)\n",
      "NotebookApp.rate_limit_window=3.0 (secs)\n",
      "\n"
     ]
    }
   ],
   "source": [
    "\n",
    "print(abc)"
   ]
  },
  {
   "cell_type": "code",
   "execution_count": null,
   "id": "405f6fc4f346dd2a",
   "metadata": {},
   "outputs": [],
   "source": []
  }
 ],
 "metadata": {
  "kernelspec": {
   "display_name": "Python 3 (ipykernel)",
   "language": "python",
   "name": "python3"
  },
  "language_info": {
   "codemirror_mode": {
    "name": "ipython",
    "version": 3
   },
   "file_extension": ".py",
   "mimetype": "text/x-python",
   "name": "python",
   "nbconvert_exporter": "python",
   "pygments_lexer": "ipython3",
   "version": "3.11.5"
  }
 },
 "nbformat": 4,
 "nbformat_minor": 5
}
