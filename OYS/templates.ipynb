{
 "cells": [
  {
   "cell_type": "markdown",
   "source": [
    "## 사용할 모듈 미리 로딩"
   ],
   "metadata": {
    "collapsed": false
   },
   "id": "2b7f2e244a0f9720"
  },
  {
   "cell_type": "code",
   "execution_count": 1,
   "id": "ff2517772120d0c9",
   "metadata": {
    "collapsed": false,
    "ExecuteTime": {
     "end_time": "2024-02-14T04:58:22.309418300Z",
     "start_time": "2024-02-14T04:58:22.040656800Z"
    }
   },
   "outputs": [],
   "source": [
    "import pandas as pd\n",
    "import requests\n",
    "import matplotlib.pyplot as plt\n",
    "import matplotlib as mpl\n",
    "import seaborn as sns\n",
    "from bs4 import BeautifulSoup\n",
    "from konlpy.tag import Okt\n",
    "from collections import Counter\n",
    "from wordcloud import WordCloud\n",
    "import time\n",
    "import platform\n",
    "import numpy as np\n",
    "import random\n",
    "import os\n",
    "import shutil\n",
    "from PIL import Image\n",
    "import collections\n",
    "if not hasattr(collections, 'Callable'):\n",
    "    collections.Callable = collections.abc.Callable\n",
    "\n",
    "\n",
    "from sqlalchemy.sql import text as Text\n",
    "from sqlalchemy import create_engine\n",
    "from sqlalchemy import engine"
   ]
  },
  {
   "cell_type": "markdown",
   "source": [
    "## 데이터베이스(선택) 및 유저 에이전트"
   ],
   "metadata": {
    "collapsed": false
   },
   "id": "6277347331870f30"
  },
  {
   "cell_type": "code",
   "outputs": [
    {
     "name": "stdout",
     "output_type": "stream",
     "text": [
      "('Acme', 'Rob Pike', '1993', 'Plan 9 and Inferno', '', 'C', 'No cost', 'MITGPL-2.0-onlyLPL-1.02', '', '')\n",
      "('AkelPad', 'Alexey KuznetsovAlexander Shengalts', '2003', '', '', 'C', 'No cost', 'BSD-2-Clause', '', '')\n",
      "('Alphatk', 'Vince Darley', '1999', '8.3.3[1]', '2004-12-10', '', '$40', 'Proprietary, with BSD components', '', '')\n",
      "('Atom', 'GitHub', '2014', '1.63.1[2]', '2022-11-23', 'HTML, CSS, JavaScript, C++', 'No cost', 'MIT', '', '')\n",
      "('BBEdit', 'Rich Siegel', '1992', '15.0[3]', '2024-01-09', 'Objective-C, Objective-C++', 'No cost for most features, $49.99 for full version', 'Proprietary', '', '')\n",
      "('Bluefish', 'Bluefish Development Team', '1999', '2.2.14[4]', '2023-06-03', 'C', 'No cost', 'GPL-3.0-or-later', '', '')\n",
      "('Brackets', 'Adobe Systems', '2012', '2.2.1[5]', '2023-03-22', 'HTML, CSS, JavaScript, C++', 'No cost', 'MIT', '', '')\n",
      "('Coda', 'Panic', '2007', '2.7.7[6]', '2020-11-05', 'Objective-C', '$99', 'Proprietary', '', '')\n",
      "('ConTEXT', 'ConTEXT Project Ltd', '1999', '', '', 'Object Pascal (Delphi)', 'No cost', 'BSD-3-Clause', '', '')\n",
      "('Crimson Editor', 'Ingyu Kang', '1999', '3.72-r286m[7]', '2011-10-01', 'C++', 'No cost', 'Proprietary', '', '')\n",
      "('CudaText', 'UVViewSoft[a]', '2015', '1.200.0[8]', '2023-10-02', 'Object Pascal (Lazarus)', 'No cost', 'MPL-2.0', '', '')\n",
      "('ed', 'Ken Thompson', '1970', 'unchanged from original', '', 'C', 'No cost', '?', '', '')\n",
      "('Editra', 'Cody Precord', '2007', '0.7.20', '2013-01-05', 'Python', 'No cost', 'wxWindows license', '', '')\n",
      "('EmEditor', 'Emurasoft, Inc.', '1997', '21.3.0', '2021-11-24', 'C++', '$39.99', 'Shareware', '', '')\n",
      "('epsilon', 'Lugaru Software', '1984', '14.00[9]', '2020-10-20', 'C', '$250', 'Proprietary', '', '')\n",
      "('FeatherPad', 'Pedram Pourang', '2016', '1.4.1[10]', '2023-06-12', 'C++, Qt', 'No cost', 'GPL-3.0-or-later', '', '')\n",
      "('gedit', 'GNU Project', '2000', '46.1[11]', '2023-08-01', 'C', 'No cost', 'GPL-2.0-or-later', '', '')\n",
      "('Geany', 'Enrico Tröger', '2005', '2.0.0[12]', '2023-10-19', 'C, GTK+', 'No cost', 'GPL-2.0-or-later', '', '')\n",
      "('GNU Emacs', 'Richard Stallman', '1984', '29.2[13]', '2024-01-18', 'C, Emacs Lisp', 'No cost', 'GPL-3.0-or-later', '', '')\n",
      "('GNU nano', 'Chris Allegretta', '1999', '7.2[14]', '2023-01-18', 'C', 'No cost', 'GPL-3.0-or-later', '', '')\n",
      "('IA Writer', 'Information Architects', '2010.09.22', '5.6', '2020-12-07', 'Objective-C (iOS), Objective-C (macOS), C# (Windows), Java (Android)', '$29.99', 'Proprietary', '', '')\n",
      "('JED', 'John E. Davis', '1992', '0.99-19', '2009-12-13', 'C, S-Lang', 'No cost', 'GPL-2.0-or-later', '', '')\n",
      "('jEdit', 'Slava Pestov', '1998', '5.6.0[15]', '2020-09-03', 'Java', 'No cost', 'GPL-2.0-or-later', '', '')\n",
      "('JOE', 'Joseph Allen', '1988', '4.6[16]', '2018-01-09', 'C', 'No cost', 'GPL', '', '')\n",
      "('JOVE', 'Johnathon Payne', '1983', '', '', 'C', 'No cost', 'JOVE license', '', '')\n",
      "('Kate', 'KDE Project', '2000-12', 'R14.1.1[17]', '2023-11-20', 'C++', 'No cost', 'GPL', '', '')\n",
      "('KEDIT', 'Mansfield Software Group, Inc.', '1983', '1.6.1', '2016-12-05', 'C', '$129', 'Proprietary', '', '')\n",
      "('Komodo Edit', 'Activestate', '2007', '12.0.1[18]', '2020-02-10', 'Python, JavaScript, Perl, Tcl, PHP, Ruby', 'No cost', 'MPL, GPL, LGPL', '', '')\n",
      "('Komodo IDE', 'Activestate', '2001', '', '', 'Python, JavaScript, Perl, Tcl, PHP, Ruby', '$295', 'Proprietary', '', '')\n",
      "('KWrite', 'KDE Project', '2000', '23.08.3[19]', '2023-11-09', 'C++', 'No cost', 'GPL', '', '')\n",
      "('LE', 'Alexander V. Lukyanov', '1997', '1.16.8[20]', '2021-02-05', 'C++', 'No cost', 'GPL-3.0-or-later', '', '')\n",
      "('Leo', 'Edward K. Ream', '1996', '6.7.7[21]', '2024-01-18', 'Python', 'No cost', 'MIT', '', '')\n",
      "('Light Table', 'Chris Granger', '2012', '0.8.1[22]', '2016-01-22', 'ClojureScript', 'No cost', 'MIT', '', '')\n",
      "('mcedit', 'Miguel de Icaza', '1994', '4.8.31[23]', '2024-01-27', 'C, Python, PHP, Javascript, Perl, Tcl, Ruby', 'No cost', 'GPL-3.0-or-later', '', '')\n",
      "('Metapad', 'Alexander Davidson', '1999', '3.6[24][25]', '2011-05-28', 'C', 'No cost', 'GPL-3.0-or-later', '', '')\n",
      "('mg', 'Dave Conroy', '1986', 'current[b]', '2020-07-22', 'C', 'No cost', 'Public domain', '', '')\n",
      "('MinEd', 'Thomas Wolff', '1992', '2022.27', '2022-12-23', 'C', 'No cost', 'GPL', '', '')\n",
      "('MS-DOS Editor', 'Microsoft', '1991', '2.0.026', '', '', 'Bundled with MS-DOS, Microsoft Windows', 'Proprietary', '', '')\n",
      "('ne', 'Sebastiano VignaTodd LewisDaniele Filaretti', '1993', '3.3.3[27]', '2023-10-19', 'C', 'No cost', 'GPL-3.0-or-later', '', '')\n",
      "('NEdit', 'Mark Edel', '1991', '5.7[28]', '2017-02-08', 'C', 'No cost', 'GPL-2.0-or-later', '', '')\n",
      "('Notepad', 'Microsoft', '1985', '11.2302.16.0', '', 'MASM (originally)', 'Bundled with Microsoft Windows', 'Proprietary', '', '')\n",
      "('Notepad++', 'Don Ho', '2003-11-25', '8.6.2[29]', '2024-01-14', 'C++', 'No cost', 'GPL-3.0-or-later', '', '')\n",
      "('nvi', 'Keith Bostic', '1994', '1.81.6[30]', '2007-11-18', 'C', 'No cost', 'BSD-3-Clause', '', '')\n",
      "('Pico', 'University of Washington', '1992', '4.64', '', 'C', 'No cost', 'Apache-2.0', '', '')\n",
      "('PimNote', 'Pimtel', '2023', '1.2.0[31]', '2023-04-22', 'C#', 'No cost', 'Proprietary', '', '')\n",
      "('PolyEdit', 'PolySoft Solutions', '1998', '5.4', '2010‑04‑07', '', '$27.95', 'Shareware', '', '')\n",
      "('PSPad', 'Jan Fiala', '2002', '5.0.7[32]', '2023-03-10', 'Object Pascal (Delphi)', 'No cost', 'Proprietary', '', '')\n",
      "('RJ TextEd', 'Rickard Johansson', '2004', '15.63[33]', '2022-09-29', 'Object Pascal (Delphi)', 'No cost', 'Proprietary', '', '')\n",
      "('Sam', 'Rob Pike', '1980s (early)', 'stable', '', 'C', 'No cost', 'LPL (OSI approved)', '', '')\n",
      "('SciTE', 'Neil Hodgson', '1999', '5.3.7[34]', '2023-07-26', 'C++', '$41.99 for macOS. No cost for others', 'HPND', '', '')\n",
      "('SlickEdit', 'SlickEdit, Inc.', '1988', '28.0.1', '2024-01-21', 'C, Slick-C', '$299', 'Proprietary', '', '')\n",
      "('Smultron', 'Peter Borg', '2004', '12.0.6', '2020-01-03', 'Objective-C', '$7.99', 'Proprietary', '', '')\n",
      "('Source Insight', 'Source Dynamics', '?', '4.0.0084', '2017-02-26', 'Source Insight macro language', '$239-$255', 'Proprietary', '', '')\n",
      "('SubEthaEdit', 'TheCodingMonkeys', '2003', '5.2.4[35]', '2022-01-08', '', 'No cost', 'MIT', '', '')\n",
      "('Sublime Text', 'Jon Skinner, Sublime HQ', '2008', '4 (Build 4169)[36]', '2023-11-24', 'C++, Python', '$99', 'Shareware', '', '')\n",
      "('TED Notepad', 'Juraj Simlovic', '2001', '6.3.1[37]', '2021-12-01', 'C', 'No cost', 'Proprietary', '', '')\n",
      "('Textadept', 'Mitchell', '2007', '12.2[38]', '2023-11-01', 'C, Lua', 'No cost', 'MIT', '', '')\n",
      "('TextEdit', 'Apple Inc.', '2001', '1.18', '2022-10-24', '', 'No cost (also bundled with macOS)', 'BSD-3-Clause', '', '')\n",
      "('TextMate', 'MacroMates', '2004-10-10', '2.0.23[39]', '2021-10-12', 'Objective-C++', 'No cost', 'GPL-3.0-or-later', '', '')\n",
      "('TextPad', 'Helios Software Solutions', '1992', '9.3.0[40]', '2023-08-01', '', '$30.00 (£16.50)', 'Shareware', '', '')\n",
      "('TextWrangler', 'Bare Bones Software', '2003', '5.5.2', '2016-09-20', '', 'No cost', 'Proprietary', '', '')\n",
      "('The SemWare Editor', 'Sammy Mitchell', '1985-11', '4.49[41]', '2023-01', 'C, SAL', 'No cost', 'BSD-2-Clause', '', '')\n",
      "('UltraEdit', 'IDM Computer Solutions', '1994', '25.0', '2018-03-12', 'C++', '$99.95', 'Proprietary', '', '')\n",
      "('VEDIT', 'Ted Green, Greenview Data', '1980', '6.24.2', '2015-01-12', 'Assembly, C', '$89 standard, $239 Pro64', 'Proprietary', '', '')\n",
      "('vi', 'Bill Joy', '1976', '3.7', '', 'C', 'No cost', 'BSD-4-Clause or CDDL', '', '')\n",
      "('Vim', 'Bram Moolenaar', '1991', '9.1.0[42][43]', '2024-01-02', 'C, Vim script', 'No cost', 'Vim', '', '')\n",
      "('Visual Studio Code', 'Microsoft', '2015', '1.86.1[44]', '2024-02-08', 'JavaScript, TypeScript', 'No cost', 'Source code: MIT[45]  Binaries built by Microsoft: Proprietary[46][47]', '', '')\n",
      "('XEmacs', 'Lucid Inc.', '1991', '21.4.22[48]', '2009-01-30', 'C, Emacs Lisp', 'No cost', 'GPL-2.0-or-later', '', '')\n",
      "('XNEdit', 'Olaf Wintermann', '2018', '1.5.2', '2023-10-05', 'C', 'No cost', 'GPL-2.0-or-later', '', '')\n"
     ]
    }
   ],
   "source": [
    "\n",
    "header = {\n",
    "    'User-Agent': 'Mozilla/5.0 (Windows NT 10.0; Win64; x64) AppleWebKit/537.36 (KHTML, like Gecko) Chrome/91.0.4472.124 Safari/537.36'\n",
    "}\n",
    "\n",
    "sqlinfo = engine.URL.create(\n",
    "    drivername='mysql+pymysql',\n",
    "    username = 'kdt5',\n",
    "    password = 'q1@q1@q1@',\n",
    "    database = 'webcrawling',\n",
    "    query = {'charset':'utf8mb4'},\n",
    "    host = \"kdt5.mysql.database.azure.com\",\n",
    ")\n",
    "\n",
    "conn = create_engine(sqlinfo,connect_args={'ssl':{\"fake_flag_to_enable_tls\":True}})\n",
    "# cur 사용시 Text 로 쿼리문을 묶어 사용\n",
    "# cur = conn.connect()\n",
    "# result = cur.execute(Text('select * from editors'))\n",
    "# for row in result.fetchall():\n",
    "#     print(row)"
   ],
   "metadata": {
    "collapsed": true,
    "ExecuteTime": {
     "end_time": "2024-02-14T04:20:36.297331900Z",
     "start_time": "2024-02-14T04:20:34.822735700Z"
    }
   },
   "id": "initial_id",
   "execution_count": 14
  },
  {
   "cell_type": "markdown",
   "source": [
    "## 폰트 설정"
   ],
   "metadata": {
    "collapsed": false
   },
   "id": "bf378640b56b994d"
  },
  {
   "cell_type": "code",
   "outputs": [],
   "source": [
    "mpl.rc('font', family='Malgun Gothic')"
   ],
   "metadata": {
    "collapsed": false,
    "ExecuteTime": {
     "end_time": "2024-02-14T04:06:06.080959300Z",
     "start_time": "2024-02-14T04:06:06.077181400Z"
    }
   },
   "id": "95155773cccd77d",
   "execution_count": 8
  },
  {
   "cell_type": "markdown",
   "source": [
    "## sql 판다스 연동하기"
   ],
   "metadata": {
    "collapsed": false
   },
   "id": "416d4db3c3fc41d8"
  },
  {
   "cell_type": "code",
   "outputs": [],
   "source": [
    "# 해당 구문을 활용하여 sql 에서 읽어보세요\n",
    "# pd.read_sql('select * from editors', conn)"
   ],
   "metadata": {
    "collapsed": false,
    "ExecuteTime": {
     "end_time": "2024-02-14T04:28:05.787175600Z",
     "start_time": "2024-02-14T04:28:05.781190300Z"
    }
   },
   "id": "6cb2082d411acfbc",
   "execution_count": 16
  },
  {
   "cell_type": "code",
   "outputs": [
    {
     "data": {
      "text/plain": "69"
     },
     "execution_count": 18,
     "metadata": {},
     "output_type": "execute_result"
    }
   ],
   "source": [
    "# 해당 구문을 활용하여 sql로 전송해주세요\n",
    "# sqldf = pd.read_sql('select * from editors', conn)\n",
    "# sqldf.to_sql('editors_copied'+str(random.randint(100,1000)), conn, if_exists='replace', index=False)"
   ],
   "metadata": {
    "collapsed": false,
    "ExecuteTime": {
     "end_time": "2024-02-14T04:30:44.619091300Z",
     "start_time": "2024-02-14T04:30:42.154740600Z"
    }
   },
   "id": "c1e81452f6c05cce",
   "execution_count": 18
  },
  {
   "cell_type": "markdown",
   "source": [
    "## requests 활용하기\n",
    "\n",
    "아래처럼 session 으로 만든 다음에 사용하시면  \n",
    "보다 빠르게 웹페이지 크롤링 가능"
   ],
   "metadata": {
    "collapsed": false
   },
   "id": "6da37f81aeb148f9"
  },
  {
   "cell_type": "code",
   "outputs": [],
   "source": [
    "with requests.session() as session:\n",
    "    session.headers.update(header)\n",
    "    # result = session.get(\"url\")"
   ],
   "metadata": {
    "collapsed": false
   },
   "id": "933deb0800d6eb65"
  }
 ],
 "metadata": {
  "kernelspec": {
   "display_name": "Python 3",
   "language": "python",
   "name": "python3"
  },
  "language_info": {
   "codemirror_mode": {
    "name": "ipython",
    "version": 2
   },
   "file_extension": ".py",
   "mimetype": "text/x-python",
   "name": "python",
   "nbconvert_exporter": "python",
   "pygments_lexer": "ipython2",
   "version": "2.7.6"
  }
 },
 "nbformat": 4,
 "nbformat_minor": 5
}
