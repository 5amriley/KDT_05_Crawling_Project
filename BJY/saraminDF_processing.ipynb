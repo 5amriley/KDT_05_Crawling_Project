{
 "cells": [
  {
   "cell_type": "code",
   "execution_count": 56,
   "id": "initial_id",
   "metadata": {
    "collapsed": true,
    "ExecuteTime": {
     "end_time": "2024-02-15T02:01:39.548560300Z",
     "start_time": "2024-02-15T02:01:39.545062100Z"
    }
   },
   "outputs": [],
   "source": [
    "import pandas as pd"
   ]
  },
  {
   "cell_type": "code",
   "outputs": [
    {
     "data": {
      "text/plain": "             IT기업  근속년수                                        사람인 채용정보 링크\n0          (주)씨이랩   1.7  https://www.saramin.co.kr/zf_user/company-info...\n1    주식회사 티시스 아이티   0.0  https://www.saramin.co.kr/zf_user/company-info...\n2       (주)두원전자통신   0.0  https://www.saramin.co.kr/zf_user/company-info...\n3      한국정보보호산업협회   0.0  https://www.saramin.co.kr/zf_user/company-info...\n4       넛지헬스케어(주)   0.0  https://www.saramin.co.kr/zf_user/company-info...\n..            ...   ...                                                ...\n670       (주)소프트넷   0.0  https://www.saramin.co.kr/zf_user/company-info...\n671        브이피(주)   0.0  https://www.saramin.co.kr/zf_user/company-info...\n672         웰트(주)   0.0  https://www.saramin.co.kr/zf_user/company-info...\n673     (주)바티에이아이   0.0  https://www.saramin.co.kr/zf_user/company-info...\n674        (주)펨트론   0.0  https://www.saramin.co.kr/zf_user/company-info...\n\n[675 rows x 3 columns]",
      "text/html": "<div>\n<style scoped>\n    .dataframe tbody tr th:only-of-type {\n        vertical-align: middle;\n    }\n\n    .dataframe tbody tr th {\n        vertical-align: top;\n    }\n\n    .dataframe thead th {\n        text-align: right;\n    }\n</style>\n<table border=\"1\" class=\"dataframe\">\n  <thead>\n    <tr style=\"text-align: right;\">\n      <th></th>\n      <th>IT기업</th>\n      <th>근속년수</th>\n      <th>사람인 채용정보 링크</th>\n    </tr>\n  </thead>\n  <tbody>\n    <tr>\n      <th>0</th>\n      <td>(주)씨이랩</td>\n      <td>1.7</td>\n      <td>https://www.saramin.co.kr/zf_user/company-info...</td>\n    </tr>\n    <tr>\n      <th>1</th>\n      <td>주식회사 티시스 아이티</td>\n      <td>0.0</td>\n      <td>https://www.saramin.co.kr/zf_user/company-info...</td>\n    </tr>\n    <tr>\n      <th>2</th>\n      <td>(주)두원전자통신</td>\n      <td>0.0</td>\n      <td>https://www.saramin.co.kr/zf_user/company-info...</td>\n    </tr>\n    <tr>\n      <th>3</th>\n      <td>한국정보보호산업협회</td>\n      <td>0.0</td>\n      <td>https://www.saramin.co.kr/zf_user/company-info...</td>\n    </tr>\n    <tr>\n      <th>4</th>\n      <td>넛지헬스케어(주)</td>\n      <td>0.0</td>\n      <td>https://www.saramin.co.kr/zf_user/company-info...</td>\n    </tr>\n    <tr>\n      <th>...</th>\n      <td>...</td>\n      <td>...</td>\n      <td>...</td>\n    </tr>\n    <tr>\n      <th>670</th>\n      <td>(주)소프트넷</td>\n      <td>0.0</td>\n      <td>https://www.saramin.co.kr/zf_user/company-info...</td>\n    </tr>\n    <tr>\n      <th>671</th>\n      <td>브이피(주)</td>\n      <td>0.0</td>\n      <td>https://www.saramin.co.kr/zf_user/company-info...</td>\n    </tr>\n    <tr>\n      <th>672</th>\n      <td>웰트(주)</td>\n      <td>0.0</td>\n      <td>https://www.saramin.co.kr/zf_user/company-info...</td>\n    </tr>\n    <tr>\n      <th>673</th>\n      <td>(주)바티에이아이</td>\n      <td>0.0</td>\n      <td>https://www.saramin.co.kr/zf_user/company-info...</td>\n    </tr>\n    <tr>\n      <th>674</th>\n      <td>(주)펨트론</td>\n      <td>0.0</td>\n      <td>https://www.saramin.co.kr/zf_user/company-info...</td>\n    </tr>\n  </tbody>\n</table>\n<p>675 rows × 3 columns</p>\n</div>"
     },
     "execution_count": 57,
     "metadata": {},
     "output_type": "execute_result"
    }
   ],
   "source": [
    "filename = 'saramin_it_data_companies.csv'\n",
    "saraminDF = pd.read_csv(filename, encoding='utf-8')\n",
    "saraminDF"
   ],
   "metadata": {
    "collapsed": false,
    "ExecuteTime": {
     "end_time": "2024-02-15T02:01:39.913463800Z",
     "start_time": "2024-02-15T02:01:39.901271400Z"
    }
   },
   "id": "46bdb397c1a80e8a",
   "execution_count": 57
  },
  {
   "cell_type": "code",
   "outputs": [
    {
     "name": "stdout",
     "output_type": "stream",
     "text": [
      "<class 'pandas.core.frame.DataFrame'>\n",
      "RangeIndex: 675 entries, 0 to 674\n",
      "Data columns (total 3 columns):\n",
      " #   Column       Non-Null Count  Dtype  \n",
      "---  ------       --------------  -----  \n",
      " 0   IT기업         675 non-null    object \n",
      " 1   근속년수         675 non-null    float64\n",
      " 2   사람인 채용정보 링크  675 non-null    object \n",
      "dtypes: float64(1), object(2)\n",
      "memory usage: 15.9+ KB\n"
     ]
    }
   ],
   "source": [
    "saraminDF.info()"
   ],
   "metadata": {
    "collapsed": false,
    "ExecuteTime": {
     "end_time": "2024-02-15T02:01:40.489853800Z",
     "start_time": "2024-02-15T02:01:40.474782600Z"
    }
   },
   "id": "5615cb583365b92b",
   "execution_count": 58
  },
  {
   "cell_type": "code",
   "outputs": [],
   "source": [
    "saraminDF['IT기업0'] = saraminDF['IT기업'].str.replace('(주)', '')"
   ],
   "metadata": {
    "collapsed": false,
    "ExecuteTime": {
     "end_time": "2024-02-15T02:01:41.212477300Z",
     "start_time": "2024-02-15T02:01:41.203511200Z"
    }
   },
   "id": "f535187cd273ef00",
   "execution_count": 59
  },
  {
   "cell_type": "code",
   "outputs": [],
   "source": [
    "saraminDF['IT기업0'] = saraminDF['IT기업0'].str.replace('㈜', '')"
   ],
   "metadata": {
    "collapsed": false,
    "ExecuteTime": {
     "end_time": "2024-02-15T02:01:41.680830900Z",
     "start_time": "2024-02-15T02:01:41.672476300Z"
    }
   },
   "id": "fa6df390eb417015",
   "execution_count": 60
  },
  {
   "cell_type": "code",
   "outputs": [],
   "source": [
    "saraminDF['IT기업0'] = saraminDF['IT기업0'].str.replace('주식회사', '')"
   ],
   "metadata": {
    "collapsed": false,
    "ExecuteTime": {
     "end_time": "2024-02-15T02:01:42.196369500Z",
     "start_time": "2024-02-15T02:01:42.186358900Z"
    }
   },
   "id": "473a671c0590e10f",
   "execution_count": 61
  },
  {
   "cell_type": "code",
   "outputs": [],
   "source": [
    "saraminDF['IT기업0'] = saraminDF['IT기업0'].str.replace('(사)', '')"
   ],
   "metadata": {
    "collapsed": false,
    "ExecuteTime": {
     "end_time": "2024-02-15T02:01:42.713723500Z",
     "start_time": "2024-02-15T02:01:42.702922200Z"
    }
   },
   "id": "45535c2ced02acd3",
   "execution_count": 62
  },
  {
   "cell_type": "code",
   "outputs": [],
   "source": [
    "saraminDF['IT기업0'] = saraminDF['IT기업0'].str.strip()"
   ],
   "metadata": {
    "collapsed": false,
    "ExecuteTime": {
     "end_time": "2024-02-15T02:01:43.209890Z",
     "start_time": "2024-02-15T02:01:43.189331300Z"
    }
   },
   "id": "78d54e84ac4467cb",
   "execution_count": 63
  },
  {
   "cell_type": "code",
   "outputs": [
    {
     "data": {
      "text/plain": "             IT기업  근속년수                                        사람인 채용정보 링크  \\\n0          (주)씨이랩   1.7  https://www.saramin.co.kr/zf_user/company-info...   \n1    주식회사 티시스 아이티   0.0  https://www.saramin.co.kr/zf_user/company-info...   \n2       (주)두원전자통신   0.0  https://www.saramin.co.kr/zf_user/company-info...   \n3      한국정보보호산업협회   0.0  https://www.saramin.co.kr/zf_user/company-info...   \n4       넛지헬스케어(주)   0.0  https://www.saramin.co.kr/zf_user/company-info...   \n..            ...   ...                                                ...   \n670       (주)소프트넷   0.0  https://www.saramin.co.kr/zf_user/company-info...   \n671        브이피(주)   0.0  https://www.saramin.co.kr/zf_user/company-info...   \n672         웰트(주)   0.0  https://www.saramin.co.kr/zf_user/company-info...   \n673     (주)바티에이아이   0.0  https://www.saramin.co.kr/zf_user/company-info...   \n674        (주)펨트론   0.0  https://www.saramin.co.kr/zf_user/company-info...   \n\n          IT기업0  \n0           씨이랩  \n1       티시스 아이티  \n2        두원전자통신  \n3    한국정보보호산업협회  \n4        넛지헬스케어  \n..          ...  \n670        소프트넷  \n671         브이피  \n672          웰트  \n673      바티에이아이  \n674         펨트론  \n\n[675 rows x 4 columns]",
      "text/html": "<div>\n<style scoped>\n    .dataframe tbody tr th:only-of-type {\n        vertical-align: middle;\n    }\n\n    .dataframe tbody tr th {\n        vertical-align: top;\n    }\n\n    .dataframe thead th {\n        text-align: right;\n    }\n</style>\n<table border=\"1\" class=\"dataframe\">\n  <thead>\n    <tr style=\"text-align: right;\">\n      <th></th>\n      <th>IT기업</th>\n      <th>근속년수</th>\n      <th>사람인 채용정보 링크</th>\n      <th>IT기업0</th>\n    </tr>\n  </thead>\n  <tbody>\n    <tr>\n      <th>0</th>\n      <td>(주)씨이랩</td>\n      <td>1.7</td>\n      <td>https://www.saramin.co.kr/zf_user/company-info...</td>\n      <td>씨이랩</td>\n    </tr>\n    <tr>\n      <th>1</th>\n      <td>주식회사 티시스 아이티</td>\n      <td>0.0</td>\n      <td>https://www.saramin.co.kr/zf_user/company-info...</td>\n      <td>티시스 아이티</td>\n    </tr>\n    <tr>\n      <th>2</th>\n      <td>(주)두원전자통신</td>\n      <td>0.0</td>\n      <td>https://www.saramin.co.kr/zf_user/company-info...</td>\n      <td>두원전자통신</td>\n    </tr>\n    <tr>\n      <th>3</th>\n      <td>한국정보보호산업협회</td>\n      <td>0.0</td>\n      <td>https://www.saramin.co.kr/zf_user/company-info...</td>\n      <td>한국정보보호산업협회</td>\n    </tr>\n    <tr>\n      <th>4</th>\n      <td>넛지헬스케어(주)</td>\n      <td>0.0</td>\n      <td>https://www.saramin.co.kr/zf_user/company-info...</td>\n      <td>넛지헬스케어</td>\n    </tr>\n    <tr>\n      <th>...</th>\n      <td>...</td>\n      <td>...</td>\n      <td>...</td>\n      <td>...</td>\n    </tr>\n    <tr>\n      <th>670</th>\n      <td>(주)소프트넷</td>\n      <td>0.0</td>\n      <td>https://www.saramin.co.kr/zf_user/company-info...</td>\n      <td>소프트넷</td>\n    </tr>\n    <tr>\n      <th>671</th>\n      <td>브이피(주)</td>\n      <td>0.0</td>\n      <td>https://www.saramin.co.kr/zf_user/company-info...</td>\n      <td>브이피</td>\n    </tr>\n    <tr>\n      <th>672</th>\n      <td>웰트(주)</td>\n      <td>0.0</td>\n      <td>https://www.saramin.co.kr/zf_user/company-info...</td>\n      <td>웰트</td>\n    </tr>\n    <tr>\n      <th>673</th>\n      <td>(주)바티에이아이</td>\n      <td>0.0</td>\n      <td>https://www.saramin.co.kr/zf_user/company-info...</td>\n      <td>바티에이아이</td>\n    </tr>\n    <tr>\n      <th>674</th>\n      <td>(주)펨트론</td>\n      <td>0.0</td>\n      <td>https://www.saramin.co.kr/zf_user/company-info...</td>\n      <td>펨트론</td>\n    </tr>\n  </tbody>\n</table>\n<p>675 rows × 4 columns</p>\n</div>"
     },
     "execution_count": 64,
     "metadata": {},
     "output_type": "execute_result"
    }
   ],
   "source": [
    "saraminDF"
   ],
   "metadata": {
    "collapsed": false,
    "ExecuteTime": {
     "end_time": "2024-02-15T02:01:43.766724400Z",
     "start_time": "2024-02-15T02:01:43.733328200Z"
    }
   },
   "id": "5f123ef0a92484c6",
   "execution_count": 64
  },
  {
   "cell_type": "code",
   "outputs": [
    {
     "data": {
      "text/plain": "          IT기업0          IT기업  근속년수  \\\n0           씨이랩        (주)씨이랩   1.7   \n1       티시스 아이티  주식회사 티시스 아이티   0.0   \n2        두원전자통신     (주)두원전자통신   0.0   \n3    한국정보보호산업협회    한국정보보호산업협회   0.0   \n4        넛지헬스케어     넛지헬스케어(주)   0.0   \n..          ...           ...   ...   \n670        소프트넷       (주)소프트넷   0.0   \n671         브이피        브이피(주)   0.0   \n672          웰트         웰트(주)   0.0   \n673      바티에이아이     (주)바티에이아이   0.0   \n674         펨트론        (주)펨트론   0.0   \n\n                                           사람인 채용정보 링크  \n0    https://www.saramin.co.kr/zf_user/company-info...  \n1    https://www.saramin.co.kr/zf_user/company-info...  \n2    https://www.saramin.co.kr/zf_user/company-info...  \n3    https://www.saramin.co.kr/zf_user/company-info...  \n4    https://www.saramin.co.kr/zf_user/company-info...  \n..                                                 ...  \n670  https://www.saramin.co.kr/zf_user/company-info...  \n671  https://www.saramin.co.kr/zf_user/company-info...  \n672  https://www.saramin.co.kr/zf_user/company-info...  \n673  https://www.saramin.co.kr/zf_user/company-info...  \n674  https://www.saramin.co.kr/zf_user/company-info...  \n\n[675 rows x 4 columns]",
      "text/html": "<div>\n<style scoped>\n    .dataframe tbody tr th:only-of-type {\n        vertical-align: middle;\n    }\n\n    .dataframe tbody tr th {\n        vertical-align: top;\n    }\n\n    .dataframe thead th {\n        text-align: right;\n    }\n</style>\n<table border=\"1\" class=\"dataframe\">\n  <thead>\n    <tr style=\"text-align: right;\">\n      <th></th>\n      <th>IT기업0</th>\n      <th>IT기업</th>\n      <th>근속년수</th>\n      <th>사람인 채용정보 링크</th>\n    </tr>\n  </thead>\n  <tbody>\n    <tr>\n      <th>0</th>\n      <td>씨이랩</td>\n      <td>(주)씨이랩</td>\n      <td>1.7</td>\n      <td>https://www.saramin.co.kr/zf_user/company-info...</td>\n    </tr>\n    <tr>\n      <th>1</th>\n      <td>티시스 아이티</td>\n      <td>주식회사 티시스 아이티</td>\n      <td>0.0</td>\n      <td>https://www.saramin.co.kr/zf_user/company-info...</td>\n    </tr>\n    <tr>\n      <th>2</th>\n      <td>두원전자통신</td>\n      <td>(주)두원전자통신</td>\n      <td>0.0</td>\n      <td>https://www.saramin.co.kr/zf_user/company-info...</td>\n    </tr>\n    <tr>\n      <th>3</th>\n      <td>한국정보보호산업협회</td>\n      <td>한국정보보호산업협회</td>\n      <td>0.0</td>\n      <td>https://www.saramin.co.kr/zf_user/company-info...</td>\n    </tr>\n    <tr>\n      <th>4</th>\n      <td>넛지헬스케어</td>\n      <td>넛지헬스케어(주)</td>\n      <td>0.0</td>\n      <td>https://www.saramin.co.kr/zf_user/company-info...</td>\n    </tr>\n    <tr>\n      <th>...</th>\n      <td>...</td>\n      <td>...</td>\n      <td>...</td>\n      <td>...</td>\n    </tr>\n    <tr>\n      <th>670</th>\n      <td>소프트넷</td>\n      <td>(주)소프트넷</td>\n      <td>0.0</td>\n      <td>https://www.saramin.co.kr/zf_user/company-info...</td>\n    </tr>\n    <tr>\n      <th>671</th>\n      <td>브이피</td>\n      <td>브이피(주)</td>\n      <td>0.0</td>\n      <td>https://www.saramin.co.kr/zf_user/company-info...</td>\n    </tr>\n    <tr>\n      <th>672</th>\n      <td>웰트</td>\n      <td>웰트(주)</td>\n      <td>0.0</td>\n      <td>https://www.saramin.co.kr/zf_user/company-info...</td>\n    </tr>\n    <tr>\n      <th>673</th>\n      <td>바티에이아이</td>\n      <td>(주)바티에이아이</td>\n      <td>0.0</td>\n      <td>https://www.saramin.co.kr/zf_user/company-info...</td>\n    </tr>\n    <tr>\n      <th>674</th>\n      <td>펨트론</td>\n      <td>(주)펨트론</td>\n      <td>0.0</td>\n      <td>https://www.saramin.co.kr/zf_user/company-info...</td>\n    </tr>\n  </tbody>\n</table>\n<p>675 rows × 4 columns</p>\n</div>"
     },
     "execution_count": 65,
     "metadata": {},
     "output_type": "execute_result"
    }
   ],
   "source": [
    "saraminDF = saraminDF.reindex(['IT기업0', 'IT기업', '근속년수', '사람인 채용정보 링크'], axis=1)\n",
    "saraminDF"
   ],
   "metadata": {
    "collapsed": false,
    "ExecuteTime": {
     "end_time": "2024-02-15T02:01:44.474342500Z",
     "start_time": "2024-02-15T02:01:44.462082900Z"
    }
   },
   "id": "331ace11a96d3a06",
   "execution_count": 65
  },
  {
   "cell_type": "code",
   "outputs": [
    {
     "data": {
      "text/plain": "                  IT기업0                IT기업  근속년수  \\\n393              11시11분           (주)11시11분   0.0   \n601  FORTISPTS Partners  FORTISPTS Partners   0.0   \n609            G2G 파트너스            G2G 파트너스   0.0   \n624             HR컨설팅그룹          (주)HR컨설팅그룹   0.0   \n57        NSUSLAB KOREA       NSUSLAB KOREA   0.0   \n..                  ...                 ...   ...   \n142                휴머스온             (주)휴머스온   0.0   \n591               휴먼인써치               휴먼인써치   0.0   \n607               휴먼포커스            휴먼포커스(주)   0.0   \n412                 휴비츠              (주)휴비츠   6.0   \n643                 휴스존                휴스존㈜   0.0   \n\n                                           사람인 채용정보 링크  \n393  https://www.saramin.co.kr/zf_user/company-info...  \n601  https://www.saramin.co.kr/zf_user/company-info...  \n609  https://www.saramin.co.kr/zf_user/company-info...  \n624  https://www.saramin.co.kr/zf_user/company-info...  \n57   https://www.saramin.co.kr/zf_user/company-info...  \n..                                                 ...  \n142  https://www.saramin.co.kr/zf_user/company-info...  \n591  https://www.saramin.co.kr/zf_user/company-info...  \n607  https://www.saramin.co.kr/zf_user/company-info...  \n412  https://www.saramin.co.kr/zf_user/company-info...  \n643  https://www.saramin.co.kr/zf_user/company-info...  \n\n[675 rows x 4 columns]",
      "text/html": "<div>\n<style scoped>\n    .dataframe tbody tr th:only-of-type {\n        vertical-align: middle;\n    }\n\n    .dataframe tbody tr th {\n        vertical-align: top;\n    }\n\n    .dataframe thead th {\n        text-align: right;\n    }\n</style>\n<table border=\"1\" class=\"dataframe\">\n  <thead>\n    <tr style=\"text-align: right;\">\n      <th></th>\n      <th>IT기업0</th>\n      <th>IT기업</th>\n      <th>근속년수</th>\n      <th>사람인 채용정보 링크</th>\n    </tr>\n  </thead>\n  <tbody>\n    <tr>\n      <th>393</th>\n      <td>11시11분</td>\n      <td>(주)11시11분</td>\n      <td>0.0</td>\n      <td>https://www.saramin.co.kr/zf_user/company-info...</td>\n    </tr>\n    <tr>\n      <th>601</th>\n      <td>FORTISPTS Partners</td>\n      <td>FORTISPTS Partners</td>\n      <td>0.0</td>\n      <td>https://www.saramin.co.kr/zf_user/company-info...</td>\n    </tr>\n    <tr>\n      <th>609</th>\n      <td>G2G 파트너스</td>\n      <td>G2G 파트너스</td>\n      <td>0.0</td>\n      <td>https://www.saramin.co.kr/zf_user/company-info...</td>\n    </tr>\n    <tr>\n      <th>624</th>\n      <td>HR컨설팅그룹</td>\n      <td>(주)HR컨설팅그룹</td>\n      <td>0.0</td>\n      <td>https://www.saramin.co.kr/zf_user/company-info...</td>\n    </tr>\n    <tr>\n      <th>57</th>\n      <td>NSUSLAB KOREA</td>\n      <td>NSUSLAB KOREA</td>\n      <td>0.0</td>\n      <td>https://www.saramin.co.kr/zf_user/company-info...</td>\n    </tr>\n    <tr>\n      <th>...</th>\n      <td>...</td>\n      <td>...</td>\n      <td>...</td>\n      <td>...</td>\n    </tr>\n    <tr>\n      <th>142</th>\n      <td>휴머스온</td>\n      <td>(주)휴머스온</td>\n      <td>0.0</td>\n      <td>https://www.saramin.co.kr/zf_user/company-info...</td>\n    </tr>\n    <tr>\n      <th>591</th>\n      <td>휴먼인써치</td>\n      <td>휴먼인써치</td>\n      <td>0.0</td>\n      <td>https://www.saramin.co.kr/zf_user/company-info...</td>\n    </tr>\n    <tr>\n      <th>607</th>\n      <td>휴먼포커스</td>\n      <td>휴먼포커스(주)</td>\n      <td>0.0</td>\n      <td>https://www.saramin.co.kr/zf_user/company-info...</td>\n    </tr>\n    <tr>\n      <th>412</th>\n      <td>휴비츠</td>\n      <td>(주)휴비츠</td>\n      <td>6.0</td>\n      <td>https://www.saramin.co.kr/zf_user/company-info...</td>\n    </tr>\n    <tr>\n      <th>643</th>\n      <td>휴스존</td>\n      <td>휴스존㈜</td>\n      <td>0.0</td>\n      <td>https://www.saramin.co.kr/zf_user/company-info...</td>\n    </tr>\n  </tbody>\n</table>\n<p>675 rows × 4 columns</p>\n</div>"
     },
     "execution_count": 66,
     "metadata": {},
     "output_type": "execute_result"
    }
   ],
   "source": [
    "saraminDF = saraminDF.sort_values(by=['IT기업0'])\n",
    "saraminDF"
   ],
   "metadata": {
    "collapsed": false,
    "ExecuteTime": {
     "end_time": "2024-02-15T02:01:46.321975800Z",
     "start_time": "2024-02-15T02:01:46.302332500Z"
    }
   },
   "id": "fec55008655b5a96",
   "execution_count": 66
  },
  {
   "cell_type": "code",
   "outputs": [],
   "source": [
    "filename = 'saramin_it_companies_final.csv'\n",
    "saraminDF.to_csv(filename, encoding='utf-8', index=False)"
   ],
   "metadata": {
    "collapsed": false,
    "ExecuteTime": {
     "end_time": "2024-02-15T02:01:48.948296600Z",
     "start_time": "2024-02-15T02:01:48.939320100Z"
    }
   },
   "id": "b31d2874d8bb3312",
   "execution_count": 67
  },
  {
   "cell_type": "code",
   "outputs": [
    {
     "data": {
      "text/plain": "           IT기업0         IT기업  근속년수  \\\n137     우주일렉트로닉스  (주)우주일렉트로닉스   9.8   \n383     인피니트헬스케어  (주)인피니트헬스케어   8.7   \n13            웅진        (주)웅진   8.4   \n320          모비스       (주)모비스   7.3   \n245         동아엘텍      (주)동아엘텍   7.2   \n..           ...          ...   ...   \n238   서울특별시보라매병원   서울특별시보라매병원   0.0   \n239  부산더조은직업전문학교  부산더조은직업전문학교   0.0   \n240      아이유노글로벌   (주)아이유노글로벌   0.0   \n241         디엑스지      (주)디엑스지   0.0   \n674          펨트론       (주)펨트론   0.0   \n\n                                           사람인 채용정보 링크  \n137  https://www.saramin.co.kr/zf_user/company-info...  \n383  https://www.saramin.co.kr/zf_user/company-info...  \n13   https://www.saramin.co.kr/zf_user/company-info...  \n320  https://www.saramin.co.kr/zf_user/company-info...  \n245  https://www.saramin.co.kr/zf_user/company-info...  \n..                                                 ...  \n238  https://www.saramin.co.kr/zf_user/company-info...  \n239  https://www.saramin.co.kr/zf_user/company-info...  \n240  https://www.saramin.co.kr/zf_user/company-info...  \n241  https://www.saramin.co.kr/zf_user/company-info...  \n674  https://www.saramin.co.kr/zf_user/company-info...  \n\n[675 rows x 4 columns]",
      "text/html": "<div>\n<style scoped>\n    .dataframe tbody tr th:only-of-type {\n        vertical-align: middle;\n    }\n\n    .dataframe tbody tr th {\n        vertical-align: top;\n    }\n\n    .dataframe thead th {\n        text-align: right;\n    }\n</style>\n<table border=\"1\" class=\"dataframe\">\n  <thead>\n    <tr style=\"text-align: right;\">\n      <th></th>\n      <th>IT기업0</th>\n      <th>IT기업</th>\n      <th>근속년수</th>\n      <th>사람인 채용정보 링크</th>\n    </tr>\n  </thead>\n  <tbody>\n    <tr>\n      <th>137</th>\n      <td>우주일렉트로닉스</td>\n      <td>(주)우주일렉트로닉스</td>\n      <td>9.8</td>\n      <td>https://www.saramin.co.kr/zf_user/company-info...</td>\n    </tr>\n    <tr>\n      <th>383</th>\n      <td>인피니트헬스케어</td>\n      <td>(주)인피니트헬스케어</td>\n      <td>8.7</td>\n      <td>https://www.saramin.co.kr/zf_user/company-info...</td>\n    </tr>\n    <tr>\n      <th>13</th>\n      <td>웅진</td>\n      <td>(주)웅진</td>\n      <td>8.4</td>\n      <td>https://www.saramin.co.kr/zf_user/company-info...</td>\n    </tr>\n    <tr>\n      <th>320</th>\n      <td>모비스</td>\n      <td>(주)모비스</td>\n      <td>7.3</td>\n      <td>https://www.saramin.co.kr/zf_user/company-info...</td>\n    </tr>\n    <tr>\n      <th>245</th>\n      <td>동아엘텍</td>\n      <td>(주)동아엘텍</td>\n      <td>7.2</td>\n      <td>https://www.saramin.co.kr/zf_user/company-info...</td>\n    </tr>\n    <tr>\n      <th>...</th>\n      <td>...</td>\n      <td>...</td>\n      <td>...</td>\n      <td>...</td>\n    </tr>\n    <tr>\n      <th>238</th>\n      <td>서울특별시보라매병원</td>\n      <td>서울특별시보라매병원</td>\n      <td>0.0</td>\n      <td>https://www.saramin.co.kr/zf_user/company-info...</td>\n    </tr>\n    <tr>\n      <th>239</th>\n      <td>부산더조은직업전문학교</td>\n      <td>부산더조은직업전문학교</td>\n      <td>0.0</td>\n      <td>https://www.saramin.co.kr/zf_user/company-info...</td>\n    </tr>\n    <tr>\n      <th>240</th>\n      <td>아이유노글로벌</td>\n      <td>(주)아이유노글로벌</td>\n      <td>0.0</td>\n      <td>https://www.saramin.co.kr/zf_user/company-info...</td>\n    </tr>\n    <tr>\n      <th>241</th>\n      <td>디엑스지</td>\n      <td>(주)디엑스지</td>\n      <td>0.0</td>\n      <td>https://www.saramin.co.kr/zf_user/company-info...</td>\n    </tr>\n    <tr>\n      <th>674</th>\n      <td>펨트론</td>\n      <td>(주)펨트론</td>\n      <td>0.0</td>\n      <td>https://www.saramin.co.kr/zf_user/company-info...</td>\n    </tr>\n  </tbody>\n</table>\n<p>675 rows × 4 columns</p>\n</div>"
     },
     "execution_count": 51,
     "metadata": {},
     "output_type": "execute_result"
    }
   ],
   "source": [
    "saraminDF2 = saraminDF.sort_values(['근속년수'], ascending=False)\n",
    "saraminDF2"
   ],
   "metadata": {
    "collapsed": false,
    "ExecuteTime": {
     "end_time": "2024-02-15T01:58:10.171569600Z",
     "start_time": "2024-02-15T01:58:10.160762300Z"
    }
   },
   "id": "3db1d6e970d43114",
   "execution_count": 51
  },
  {
   "cell_type": "code",
   "outputs": [],
   "source": [
    "# 근속년수 높은 순으로 정렬한 ver. 저장\n",
    "filename2 = 'saramin_it_companies_final_sorted.csv'\n",
    "saraminDF2.to_csv(filename2, encoding='utf-8', index=False)"
   ],
   "metadata": {
    "collapsed": false,
    "ExecuteTime": {
     "end_time": "2024-02-15T01:58:15.507359Z",
     "start_time": "2024-02-15T01:58:15.501078200Z"
    }
   },
   "id": "a150a3bbfe565620",
   "execution_count": 52
  },
  {
   "cell_type": "code",
   "outputs": [
    {
     "data": {
      "text/plain": "           IT기업0         IT기업  근속년수  \\\n0       우주일렉트로닉스  (주)우주일렉트로닉스   9.8   \n1       인피니트헬스케어  (주)인피니트헬스케어   8.7   \n2             웅진        (주)웅진   8.4   \n3            모비스       (주)모비스   7.3   \n4           동아엘텍      (주)동아엘텍   7.2   \n..           ...          ...   ...   \n670   서울특별시보라매병원   서울특별시보라매병원   0.0   \n671  부산더조은직업전문학교  부산더조은직업전문학교   0.0   \n672      아이유노글로벌   (주)아이유노글로벌   0.0   \n673         디엑스지      (주)디엑스지   0.0   \n674          펨트론       (주)펨트론   0.0   \n\n                                           사람인 채용정보 링크  \n0    https://www.saramin.co.kr/zf_user/company-info...  \n1    https://www.saramin.co.kr/zf_user/company-info...  \n2    https://www.saramin.co.kr/zf_user/company-info...  \n3    https://www.saramin.co.kr/zf_user/company-info...  \n4    https://www.saramin.co.kr/zf_user/company-info...  \n..                                                 ...  \n670  https://www.saramin.co.kr/zf_user/company-info...  \n671  https://www.saramin.co.kr/zf_user/company-info...  \n672  https://www.saramin.co.kr/zf_user/company-info...  \n673  https://www.saramin.co.kr/zf_user/company-info...  \n674  https://www.saramin.co.kr/zf_user/company-info...  \n\n[675 rows x 4 columns]",
      "text/html": "<div>\n<style scoped>\n    .dataframe tbody tr th:only-of-type {\n        vertical-align: middle;\n    }\n\n    .dataframe tbody tr th {\n        vertical-align: top;\n    }\n\n    .dataframe thead th {\n        text-align: right;\n    }\n</style>\n<table border=\"1\" class=\"dataframe\">\n  <thead>\n    <tr style=\"text-align: right;\">\n      <th></th>\n      <th>IT기업0</th>\n      <th>IT기업</th>\n      <th>근속년수</th>\n      <th>사람인 채용정보 링크</th>\n    </tr>\n  </thead>\n  <tbody>\n    <tr>\n      <th>0</th>\n      <td>우주일렉트로닉스</td>\n      <td>(주)우주일렉트로닉스</td>\n      <td>9.8</td>\n      <td>https://www.saramin.co.kr/zf_user/company-info...</td>\n    </tr>\n    <tr>\n      <th>1</th>\n      <td>인피니트헬스케어</td>\n      <td>(주)인피니트헬스케어</td>\n      <td>8.7</td>\n      <td>https://www.saramin.co.kr/zf_user/company-info...</td>\n    </tr>\n    <tr>\n      <th>2</th>\n      <td>웅진</td>\n      <td>(주)웅진</td>\n      <td>8.4</td>\n      <td>https://www.saramin.co.kr/zf_user/company-info...</td>\n    </tr>\n    <tr>\n      <th>3</th>\n      <td>모비스</td>\n      <td>(주)모비스</td>\n      <td>7.3</td>\n      <td>https://www.saramin.co.kr/zf_user/company-info...</td>\n    </tr>\n    <tr>\n      <th>4</th>\n      <td>동아엘텍</td>\n      <td>(주)동아엘텍</td>\n      <td>7.2</td>\n      <td>https://www.saramin.co.kr/zf_user/company-info...</td>\n    </tr>\n    <tr>\n      <th>...</th>\n      <td>...</td>\n      <td>...</td>\n      <td>...</td>\n      <td>...</td>\n    </tr>\n    <tr>\n      <th>670</th>\n      <td>서울특별시보라매병원</td>\n      <td>서울특별시보라매병원</td>\n      <td>0.0</td>\n      <td>https://www.saramin.co.kr/zf_user/company-info...</td>\n    </tr>\n    <tr>\n      <th>671</th>\n      <td>부산더조은직업전문학교</td>\n      <td>부산더조은직업전문학교</td>\n      <td>0.0</td>\n      <td>https://www.saramin.co.kr/zf_user/company-info...</td>\n    </tr>\n    <tr>\n      <th>672</th>\n      <td>아이유노글로벌</td>\n      <td>(주)아이유노글로벌</td>\n      <td>0.0</td>\n      <td>https://www.saramin.co.kr/zf_user/company-info...</td>\n    </tr>\n    <tr>\n      <th>673</th>\n      <td>디엑스지</td>\n      <td>(주)디엑스지</td>\n      <td>0.0</td>\n      <td>https://www.saramin.co.kr/zf_user/company-info...</td>\n    </tr>\n    <tr>\n      <th>674</th>\n      <td>펨트론</td>\n      <td>(주)펨트론</td>\n      <td>0.0</td>\n      <td>https://www.saramin.co.kr/zf_user/company-info...</td>\n    </tr>\n  </tbody>\n</table>\n<p>675 rows × 4 columns</p>\n</div>"
     },
     "execution_count": 53,
     "metadata": {},
     "output_type": "execute_result"
    }
   ],
   "source": [
    "saraminDF2 = pd.read_csv(filename2)\n",
    "saraminDF2"
   ],
   "metadata": {
    "collapsed": false,
    "ExecuteTime": {
     "end_time": "2024-02-15T01:58:16.403025900Z",
     "start_time": "2024-02-15T01:58:16.387251600Z"
    }
   },
   "id": "6919153d2f55e5ad",
   "execution_count": 53
  },
  {
   "cell_type": "code",
   "outputs": [
    {
     "data": {
      "text/plain": "       IT기업0         IT기업  근속년수  \\\n83      위메이드      (주)위메이드   1.6   \n82      딥노이드      (주)딥노이드   1.6   \n80   키다리스튜디오   (주)키다리스튜디오   1.7   \n81       씨이랩       (주)씨이랩   1.7   \n79      씨유박스      (주)씨유박스   1.7   \n..       ...          ...   ...   \n4       동아엘텍      (주)동아엘텍   7.2   \n3        모비스       (주)모비스   7.3   \n2         웅진        (주)웅진   8.4   \n1   인피니트헬스케어  (주)인피니트헬스케어   8.7   \n0   우주일렉트로닉스  (주)우주일렉트로닉스   9.8   \n\n                                          사람인 채용정보 링크  \n83  https://www.saramin.co.kr/zf_user/company-info...  \n82  https://www.saramin.co.kr/zf_user/company-info...  \n80  https://www.saramin.co.kr/zf_user/company-info...  \n81  https://www.saramin.co.kr/zf_user/company-info...  \n79  https://www.saramin.co.kr/zf_user/company-info...  \n..                                                ...  \n4   https://www.saramin.co.kr/zf_user/company-info...  \n3   https://www.saramin.co.kr/zf_user/company-info...  \n2   https://www.saramin.co.kr/zf_user/company-info...  \n1   https://www.saramin.co.kr/zf_user/company-info...  \n0   https://www.saramin.co.kr/zf_user/company-info...  \n\n[84 rows x 4 columns]",
      "text/html": "<div>\n<style scoped>\n    .dataframe tbody tr th:only-of-type {\n        vertical-align: middle;\n    }\n\n    .dataframe tbody tr th {\n        vertical-align: top;\n    }\n\n    .dataframe thead th {\n        text-align: right;\n    }\n</style>\n<table border=\"1\" class=\"dataframe\">\n  <thead>\n    <tr style=\"text-align: right;\">\n      <th></th>\n      <th>IT기업0</th>\n      <th>IT기업</th>\n      <th>근속년수</th>\n      <th>사람인 채용정보 링크</th>\n    </tr>\n  </thead>\n  <tbody>\n    <tr>\n      <th>83</th>\n      <td>위메이드</td>\n      <td>(주)위메이드</td>\n      <td>1.6</td>\n      <td>https://www.saramin.co.kr/zf_user/company-info...</td>\n    </tr>\n    <tr>\n      <th>82</th>\n      <td>딥노이드</td>\n      <td>(주)딥노이드</td>\n      <td>1.6</td>\n      <td>https://www.saramin.co.kr/zf_user/company-info...</td>\n    </tr>\n    <tr>\n      <th>80</th>\n      <td>키다리스튜디오</td>\n      <td>(주)키다리스튜디오</td>\n      <td>1.7</td>\n      <td>https://www.saramin.co.kr/zf_user/company-info...</td>\n    </tr>\n    <tr>\n      <th>81</th>\n      <td>씨이랩</td>\n      <td>(주)씨이랩</td>\n      <td>1.7</td>\n      <td>https://www.saramin.co.kr/zf_user/company-info...</td>\n    </tr>\n    <tr>\n      <th>79</th>\n      <td>씨유박스</td>\n      <td>(주)씨유박스</td>\n      <td>1.7</td>\n      <td>https://www.saramin.co.kr/zf_user/company-info...</td>\n    </tr>\n    <tr>\n      <th>...</th>\n      <td>...</td>\n      <td>...</td>\n      <td>...</td>\n      <td>...</td>\n    </tr>\n    <tr>\n      <th>4</th>\n      <td>동아엘텍</td>\n      <td>(주)동아엘텍</td>\n      <td>7.2</td>\n      <td>https://www.saramin.co.kr/zf_user/company-info...</td>\n    </tr>\n    <tr>\n      <th>3</th>\n      <td>모비스</td>\n      <td>(주)모비스</td>\n      <td>7.3</td>\n      <td>https://www.saramin.co.kr/zf_user/company-info...</td>\n    </tr>\n    <tr>\n      <th>2</th>\n      <td>웅진</td>\n      <td>(주)웅진</td>\n      <td>8.4</td>\n      <td>https://www.saramin.co.kr/zf_user/company-info...</td>\n    </tr>\n    <tr>\n      <th>1</th>\n      <td>인피니트헬스케어</td>\n      <td>(주)인피니트헬스케어</td>\n      <td>8.7</td>\n      <td>https://www.saramin.co.kr/zf_user/company-info...</td>\n    </tr>\n    <tr>\n      <th>0</th>\n      <td>우주일렉트로닉스</td>\n      <td>(주)우주일렉트로닉스</td>\n      <td>9.8</td>\n      <td>https://www.saramin.co.kr/zf_user/company-info...</td>\n    </tr>\n  </tbody>\n</table>\n<p>84 rows × 4 columns</p>\n</div>"
     },
     "execution_count": 71,
     "metadata": {},
     "output_type": "execute_result"
    }
   ],
   "source": [
    "work_years_mask = saraminDF2['근속년수'] != 0\n",
    "saraminDF2[work_years_mask].sort_values(['근속년수'])"
   ],
   "metadata": {
    "collapsed": false,
    "ExecuteTime": {
     "end_time": "2024-02-15T05:39:35.279278600Z",
     "start_time": "2024-02-15T05:39:35.266473500Z"
    }
   },
   "id": "68cfd0b14c16a81d",
   "execution_count": 71
  },
  {
   "cell_type": "code",
   "outputs": [],
   "source": [],
   "metadata": {
    "collapsed": false
   },
   "id": "b884656f0dc61b43"
  }
 ],
 "metadata": {
  "kernelspec": {
   "display_name": "Python 3",
   "language": "python",
   "name": "python3"
  },
  "language_info": {
   "codemirror_mode": {
    "name": "ipython",
    "version": 2
   },
   "file_extension": ".py",
   "mimetype": "text/x-python",
   "name": "python",
   "nbconvert_exporter": "python",
   "pygments_lexer": "ipython2",
   "version": "2.7.6"
  }
 },
 "nbformat": 4,
 "nbformat_minor": 5
}
